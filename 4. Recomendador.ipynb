{
 "cells": [
  {
   "cell_type": "markdown",
   "metadata": {},
   "source": [
    "# Recomendador de vehículos: Ejecución Back, del lado del servidor."
   ]
  },
  {
   "cell_type": "code",
   "execution_count": 20,
   "metadata": {
    "collapsed": true
   },
   "outputs": [],
   "source": [
    "from scipy.spatial import distance\n",
    "import pandas as pd\n",
    "\n"
   ]
  },
  {
   "cell_type": "markdown",
   "metadata": {},
   "source": [
    "## Inicialización de variables necesarias "
   ]
  },
  {
   "cell_type": "code",
   "execution_count": 21,
   "metadata": {
    "collapsed": false
   },
   "outputs": [],
   "source": [
    "normalizada = pd.read_csv('normalizado.csv')\n",
    "normalizada.drop('Unnamed: 0',axis=1,inplace=True)\n",
    "\n",
    "df_listado = pd.read_csv('listado.csv')\n",
    "df_listado.drop('Unnamed: 0',axis=1,inplace=True)\n",
    "\n",
    "md = ['LEON','IBIZA','GOLF','CORSA','MEGANE','POLO','CLIO','QASHQAI','SANDERO','308','C4','FOCUS','208','ASTRA','CAPTUR','TUCSON','AURIS','SPORTAGE','MOKKA','2008']\n",
    "array_norm = normalizada.values\n",
    "\n",
    "recorrido = range(len(normalizada))\n",
    "index_tops=[]\n",
    "\n",
    "for i in recorrido:\n",
    "    if df_listado.iloc[i].modelo in md:\n",
    "        index_tops.append(i)\n",
    "    else:\n",
    "        pass\n",
    "    "
   ]
  },
  {
   "cell_type": "markdown",
   "metadata": {},
   "source": [
    "## Método que recomienda 20 vehículos segun contenido sugerido por el usuario, sin filtrar por precios. "
   ]
  },
  {
   "cell_type": "code",
   "execution_count": 22,
   "metadata": {
    "collapsed": true
   },
   "outputs": [],
   "source": [
    "def recomienda_20(_list):\n",
    "\n",
    "    recorrido = range(len(normalizada))\n",
    "    distancias = []\n",
    "\n",
    "    for i in recorrido:\n",
    "        distancias.append(distance.euclidean(_list, array_norm[i]))\n",
    "        \n",
    "    df_dist = pd.DataFrame({'dist':distancias, 'ind':recorrido})\n",
    "    \n",
    "    return df_listado.ix[df_dist.sort_values('dist', ascending=True).head(20).index]"
   ]
  },
  {
   "cell_type": "markdown",
   "metadata": {},
   "source": [
    "## Método que recomienda 20 vehículos segun contenido sugerido por el usuario, filtrando por el presupuesto disponible:\n",
    "\n",
    "### Argumentos de entrada: Lista de 17 valores, 16 normalizados y un presupuesto sin normalizar."
   ]
  },
  {
   "cell_type": "code",
   "execution_count": 26,
   "metadata": {
    "collapsed": false
   },
   "outputs": [],
   "source": [
    "def recomienda_20F(_list):\n",
    "\n",
    "    recorrido = range(len(normalizada))\n",
    "    distancias = []\n",
    "    presupuesto_normalizado = (_list[0] - df_listado.precio.min())/(df_listado.precio.max()-df_listado.precio.min())\n",
    "    presupuesto_maximo = (_list[0] + (2*_list[0])/10)\n",
    "    presupuesto_minimo = (_list[0] - (3*_list[0])/10)\n",
    "    _list.remove(_list[0])\n",
    "    _list.insert(0,presupuesto_normalizado)\n",
    "    \n",
    "    for i in recorrido:\n",
    "        if i in index_tops:\n",
    "            distancias.append(distance.euclidean(_list, array_norm[i])-0.07)\n",
    "        else:\n",
    "            distancias.append(distance.euclidean(_list, array_norm[i]))\n",
    "        \n",
    "    df_dist = pd.DataFrame({'dist':distancias, 'ind':recorrido})\n",
    "    df_recommend = df_listado.iloc[df_dist.sort_values('dist', ascending=True).index]\n",
    "    \n",
    "    return df_recommend[(df_recommend['precio']<presupuesto_maximo)&(df_recommend['precio']>presupuesto_minimo)].head(20)"
   ]
  },
  {
   "cell_type": "markdown",
   "metadata": {},
   "source": [
    "## Método que devuelve las 20 menores distancias y su índice en la matriz total. "
   ]
  },
  {
   "cell_type": "code",
   "execution_count": 27,
   "metadata": {
    "collapsed": true
   },
   "outputs": [],
   "source": [
    "def top_distancias_20(_list):\n",
    "\n",
    "    recorrido = range(len(normalizada))\n",
    "    distancias = []\n",
    "    presupuesto_normalizado = (_list[0] - df_listado.precio.min())/(df_listado.precio.max()-df_listado.precio.min())\n",
    "    presupuesto_maximo = (_list[0] + (2*_list[0])/10)\n",
    "    presupuesto_minimo = (_list[0] - (3*_list[0])/10)\n",
    "    _list.remove(_list[0])\n",
    "    _list.insert(0,presupuesto_normalizado)\n",
    "    \n",
    "    for i in recorrido:\n",
    "        distancias.append(distance.euclidean(_list, array_norm[i]))\n",
    "        \n",
    "    df_dist = pd.DataFrame({'dist':distancias, 'ind':recorrido})\n",
    "    \n",
    "    return df_dist.sort_values('dist', ascending=True).head(20)"
   ]
  }
 ],
 "metadata": {
  "kernelspec": {
   "display_name": "Python 2",
   "language": "python",
   "name": "python2"
  },
  "language_info": {
   "codemirror_mode": {
    "name": "ipython",
    "version": 2
   },
   "file_extension": ".py",
   "mimetype": "text/x-python",
   "name": "python",
   "nbconvert_exporter": "python",
   "pygments_lexer": "ipython2",
   "version": "2.7.13"
  }
 },
 "nbformat": 4,
 "nbformat_minor": 2
}
