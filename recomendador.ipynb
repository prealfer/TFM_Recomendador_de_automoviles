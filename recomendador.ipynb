{
 "cells": [
  {
   "cell_type": "code",
   "execution_count": 1,
   "metadata": {
    "collapsed": true
   },
   "outputs": [],
   "source": [
    "from scipy.spatial import distance\n",
    "import pandas as pd\n",
    "\n"
   ]
  },
  {
   "cell_type": "code",
   "execution_count": 18,
   "metadata": {
    "collapsed": false
   },
   "outputs": [],
   "source": [
    "normalizada = pd.read_csv('normalizado.csv')\n",
    "normalizada.drop('Unnamed: 0',axis=1,inplace=True)\n",
    "\n",
    "df_listado = pd.read_csv('listado.csv')\n",
    "df_listado.drop('Unnamed: 0',axis=1,inplace=True)\n",
    "\n",
    "array_norm = normalizada.values\n",
    "\n",
    "def recomienda_20(_list):\n",
    "\n",
    "    recorrido = range(len(normalizada))\n",
    "    distancias = []\n",
    "\n",
    "    for i in recorrido:\n",
    "        distancias.append(distance.euclidean(_list, array_norm[i]))\n",
    "        \n",
    "    df_dist = pd.DataFrame({'dist':distancias, 'ind':recorrido})\n",
    "    \n",
    "    return df_listado.ix[df_dist.sort_values('dist', ascending=True).head(20).index]"
   ]
  },
  {
   "cell_type": "code",
   "execution_count": null,
   "metadata": {
    "collapsed": true
   },
   "outputs": [],
   "source": []
  }
 ],
 "metadata": {
  "kernelspec": {
   "display_name": "Python 2",
   "language": "python",
   "name": "python2"
  },
  "language_info": {
   "codemirror_mode": {
    "name": "ipython",
    "version": 2
   },
   "file_extension": ".py",
   "mimetype": "text/x-python",
   "name": "python",
   "nbconvert_exporter": "python",
   "pygments_lexer": "ipython2",
   "version": "2.7.13"
  }
 },
 "nbformat": 4,
 "nbformat_minor": 2
}
