{
 "cells": [
  {
   "cell_type": "markdown",
   "metadata": {},
   "source": [
    "# Sistema de recomendación de vehículos"
   ]
  },
  {
   "cell_type": "markdown",
   "metadata": {},
   "source": [
    "## Introducción"
   ]
  },
  {
   "cell_type": "markdown",
   "metadata": {},
   "source": [
    "Se trata de una Web-app que ayudará al cliente a encontrar los vehículos que mejor se ajusten a sus preferencias. En base a la configuración de las características del vehículo ideal que indique el usuario, se le recomendarán 20 modelos y sus versiones concretas vigentes en el mercado, con el mejor precio que se viene ofreciendo en el mercado por parte de los comerciales.\n",
    "\n",
    "Se ha desarrollado íntegramente con Python, con la inestimable ayuda de: Pandas, Scipy, BeautifulSoup, Flask y SeaBorn, principalmente."
   ]
  },
  {
   "cell_type": "markdown",
   "metadata": {},
   "source": [
    "## Estructura de ficheros "
   ]
  },
  {
   "cell_type": "markdown",
   "metadata": {},
   "source": [
    "/TFM/\n",
    "\n",
    "    1.Scraping data.ipynb\n",
    "    2.Scraping extra data - Maleteros.ipynb\n",
    "    3.Limpieza y ordenacion de datos.ipynb\n",
    "    4.Recomendador.ipynb\n",
    "    Dataframe_limpio.csv\n",
    "    listado.csv\n",
    "    maleteros\n",
    "    Guía funcional - Sistema de recomendación de vehículos - Pablo Real.ipynb\n",
    "    normalizado.csv\n",
    "\n",
    ".CarRecommender/"
   ]
  },
  {
   "cell_type": "markdown",
   "metadata": {},
   "source": [
    "## 1. Scraping data.ipynb "
   ]
  },
  {
   "cell_type": "markdown",
   "metadata": {},
   "source": [
    "Este Notebook contiene el script que 'scrapea' los datos que formarán nuestro dataset sobre el que trabajaremos. Extrae todo tipo de datos de más de 6.000 modelos a la venta en España, incluídos algunos vehículos comerciales que, posteriormente, se prescindirá de ellos por no entrar en el objetivo de negocio.\n",
    "\n",
    "El script tarda de media, dependiendo de las características de la máquina, unos 30 minutos en ejectutarse, luego, para su prueba, se puede partir del archivo de salida almacenado en local 'Dataframe_limpio.csv'."
   ]
  },
  {
   "cell_type": "markdown",
   "metadata": {},
   "source": [
    "#### Librerías necesarias "
   ]
  },
  {
   "cell_type": "markdown",
   "metadata": {},
   "source": [
    "Se desarrolla con BeautifulSoup, requests y pandas."
   ]
  },
  {
   "cell_type": "markdown",
   "metadata": {},
   "source": [
    "#### Salida del script "
   ]
  },
  {
   "cell_type": "markdown",
   "metadata": {},
   "source": [
    "Genera el archivo 'Dataframe_limpio.csv' con nuestro Dataset, en estos momentos, con 5.932 columnas (vehículos diferentes) y 33 columnas (variables: Carácterísticas diferentes de cada vehículo).\n",
    "\n",
    "*NOTA: El script se ejecutará periódicamente, con una periodicidad que dependerá del modelo de negocio. Debido a la velocidad de salida de nuevos vehiculos al mercado, una ejecución semanal sería suficiente. "
   ]
  },
  {
   "cell_type": "markdown",
   "metadata": {},
   "source": [
    "## 2. Scraping extra data - Maleteros.ipynb"
   ]
  },
  {
   "cell_type": "markdown",
   "metadata": {},
   "source": [
    "Este Notebook contiene el script que 'scrapea' las capacidades de los maleteros de los vehículos de nuestro dataset. Este dato muy frecuentemente es clave a la hora de escoger un vehículo nuevo. Se deberá ejecutar siempre que se ejecute el script de 'scrapeo' principal."
   ]
  },
  {
   "cell_type": "markdown",
   "metadata": {},
   "source": [
    "#### Librerías necesarias"
   ]
  },
  {
   "cell_type": "markdown",
   "metadata": {},
   "source": [
    "Se desarrolla con BeautifulSoup, requests y pandas."
   ]
  },
  {
   "cell_type": "markdown",
   "metadata": {},
   "source": [
    "#### Salida del script"
   ]
  },
  {
   "cell_type": "markdown",
   "metadata": {},
   "source": [
    "Genera el archivo 'maleteros.csv' con los modelos y sus datos de las capacidades de los maleteros."
   ]
  },
  {
   "cell_type": "markdown",
   "metadata": {},
   "source": [
    "## 3. Limpieza y ordenacion de datos.ipynb"
   ]
  },
  {
   "cell_type": "markdown",
   "metadata": {},
   "source": [
    "Este Notebook contiene el grueso del proyecto. En él se llevan a cabo los siguientes procesos:\n",
    "\n",
    "    - Unión de los diferentes dataframes almacenados.\n",
    "    \n",
    "        Se unen los dataframes con pandas, para formar el Dataframe global que contiene todas las variables.\n",
    "        \n",
    "    - Limpieza de los datos.\n",
    "    \n",
    "        Se limpian los dataframes con pandas, eliminando variables que por decisión de negocio no entren en los análisis, eliminando vehículos especiales y comerciales, etc. \n",
    "        \n",
    "    - Formateo de los datos.\n",
    "    \n",
    "        Se asignan los tipos correctos a las variables, se formatean las variables eliminando caracteres extraños, se formatean ciertas variables por conveniencia, etc.\n",
    "        \n",
    "    - Codificación de las variables.\n",
    "    \n",
    "        Se codifican las variables categóricas según decisión de negocio.\n",
    "        \n",
    "    - Normalización de las variables.\n",
    "    \n",
    "        Se realiza una normalización de las variables mediante un escalado MinMax, para evitar valores negativos.\n",
    "        \n",
    "    - Almacenamiento de los datasets sobre los que el Back-End realizará las acciones del lado del servidor.\n",
    "    \n",
    "        Guardamos los dataframes que forman nuestra BDD.\n",
    "    \n",
    "Se ejecutará tras los 'scrapeos' de los datos, idealmente, de forma semanal."
   ]
  },
  {
   "cell_type": "markdown",
   "metadata": {},
   "source": [
    "#### Librerías necesarias"
   ]
  },
  {
   "cell_type": "markdown",
   "metadata": {},
   "source": [
    "Se desarrolla con pandas y numpy."
   ]
  },
  {
   "cell_type": "markdown",
   "metadata": {},
   "source": [
    "#### Salida del Notebook"
   ]
  },
  {
   "cell_type": "markdown",
   "metadata": {},
   "source": [
    "Genera los archivos 'listado.csv' y 'normalizado.csv', sobre los cuales trabajarán los métodos controladores que calcularán los vehículos recomendados en cada caso del lado del servidor, llamados desde el Front-End de la web-app."
   ]
  },
  {
   "cell_type": "markdown",
   "metadata": {},
   "source": [
    "## 4. Recomendador.ipynb"
   ]
  },
  {
   "cell_type": "markdown",
   "metadata": {},
   "source": [
    "Este Notebook contiene los métodos disponibles para realizar la recomendación del lado del servidor. Los métodos desarrollados son los siguientes:\n",
    "\n",
    "    - recomienda_20(list): Recibe una lista de 17 parámetros configurados desde Front (preferencias del usuario), y devuelve un Dataframe con los 20 vehículos recomendados para el caso en cuestión.\n",
    "    \n",
    "    - recomienda_20F(list): Recibe una lista de 17 parámetros configurados desde Front (preferencias del usuario), y devuelve un Dataframe con los 20 vehículos recomendados para el caso en cuestión, filtrados en precio en un rango de [presupuesto - 30%presupuesto, presupuesto + 20%presupuesto].\n",
    "    \n",
    "    - top_distancias_20(list): Recibe una lista de 17 parámetros configurados desde Front (preferencias del usuario), y devuelve un Dataframe con las 20 menores distancias encontradas, y los índices de los vectores a los que pertenecen dichas distancias.\n",
    "    \n",
    "Las distancias entre el vector que representa la selección del usuario y los diferentes vehículos de nuestra base de datos se calculan como distancias euclídeas entre vectores de 17 dimensiones."
   ]
  },
  {
   "cell_type": "markdown",
   "metadata": {},
   "source": [
    "#### Librerías necesarias "
   ]
  },
  {
   "cell_type": "markdown",
   "metadata": {},
   "source": [
    "Las distancias se calculan por medio del método 'distance' del paquete Scipy. En concreto, será necesario importar el módulo scipy.spatial."
   ]
  },
  {
   "cell_type": "markdown",
   "metadata": {},
   "source": [
    "    *IMPORTANTE: Este Notebook debe se guarda en formato Python (.py), ya que sus métodos deben ser accesibles del lado del servidor. La app importará recomendador.py para llamar a sus métodos si fuera necesario."
   ]
  },
  {
   "cell_type": "markdown",
   "metadata": {},
   "source": [
    "## 5. Aplicación web - CarRecommender"
   ]
  },
  {
   "cell_type": "markdown",
   "metadata": {},
   "source": [
    "La aplicación se implementa sobre el framework ofrecido por Flask, en Python. Se ejecutará en un servidor local, gestionado por Flask en nuestra propia máquina. \n",
    "\n",
    "La estructura de ficheros de la aplicación deberá ser la siguiente:"
   ]
  },
  {
   "cell_type": "markdown",
   "metadata": {},
   "source": [
    "/CarRecommender/\n",
    "\n",
    "            listado.csv\n",
    "            normalizado.csv\n",
    "            recomendador.py\n",
    "            recomendador.pyc\n",
    "            run.py\n",
    "        flask/\n",
    "            bin/\n",
    "            include/\n",
    "            lib/\n",
    "\n",
    "        static/\n",
    "            style.css\n",
    "        templates/\n",
    "            index.html\n",
    "            views.html\n",
    "        tmp/"
   ]
  },
  {
   "cell_type": "markdown",
   "metadata": {},
   "source": [
    "#### 5.1. BDD "
   ]
  },
  {
   "cell_type": "markdown",
   "metadata": {},
   "source": [
    "Los archivos generados por los scripts anteriores (normalizado.csv y listado.csv) deberán estar en el directorio raíz de la app (/CarRecommender), para que los métodos del Back puedan coger los datos."
   ]
  },
  {
   "cell_type": "markdown",
   "metadata": {},
   "source": [
    "#### 5.2. Templates "
   ]
  },
  {
   "cell_type": "markdown",
   "metadata": {},
   "source": [
    "La aplicación tendrá la pantalla inicial (landing page, index.html) y la página resultado en la que se mostrarán las recomendaciones y el gráfico (views.html)."
   ]
  },
  {
   "cell_type": "markdown",
   "metadata": {},
   "source": [
    "#### 5.3. Lógica de negocio "
   ]
  },
  {
   "cell_type": "markdown",
   "metadata": {},
   "source": [
    "Se recogerán los datos introducidos por el usuario y se ejecutará el método disponible en recomendador.py que devuelve una tabla con los 20 vehículos recomendados. Se mostrará la tabla y un gráfico de barplots con los mejores precios por modelo."
   ]
  },
  {
   "cell_type": "markdown",
   "metadata": {},
   "source": [
    "#### 5.4. Librerías necesarias"
   ]
  },
  {
   "cell_type": "markdown",
   "metadata": {},
   "source": [
    "Se necesitará importar flask, pandas, matplotlib.pyplot, seaborn, base64 y StringIO."
   ]
  },
  {
   "cell_type": "markdown",
   "metadata": {},
   "source": [
    "# Replicar el proceso y lanzar en local "
   ]
  },
  {
   "cell_type": "markdown",
   "metadata": {},
   "source": [
    "## Opción A ) Comprobación global de la app sin ejecutar los bloques de 'scrapeo' "
   ]
  },
  {
   "cell_type": "markdown",
   "metadata": {},
   "source": [
    "Para comprobar el correcto funcionamiento del proyecto, se deben seguir los siguientes pasos:\n",
    "\n"
   ]
  },
  {
   "cell_type": "markdown",
   "metadata": {},
   "source": [
    "#### 1. Clonar el repositorio de Github:\n",
    "    \n",
    "       https://github.com/prealfer/TFM_Recomendador_de_automoviles"
   ]
  },
  {
   "cell_type": "markdown",
   "metadata": {},
   "source": [
    "#### 2. Comprobar que el árbol de ficheros y archivos está como se indica a continuación:\n",
    "\n",
    "\n",
    "/TFM/\n",
    "\n",
    "    1.Scraping data.ipynb\n",
    "    2.Scraping extra data - Maleteros.ipynb\n",
    "    3.Limpieza y ordenacion de datos.ipynb\n",
    "    4.Recomendador.ipynb\n",
    "    Dataframe_limpio.csv\n",
    "    listado.csv\n",
    "    maleteros\n",
    "    Guía funcional - Sistema de recomendación de vehículos - Pablo Real.ipynb\n",
    "    normalizado.csv\n",
    "\n",
    "    .CarRecommender/\n",
    "    \n",
    "            listado.csv\n",
    "            normalizado.csv\n",
    "            recomendador.py\n",
    "            recomendador.pyc\n",
    "            run.py\n",
    "        flask/\n",
    "            bin/\n",
    "            include/\n",
    "            lib/\n",
    "\n",
    "        static/\n",
    "            style.css\n",
    "        templates/\n",
    "            index.html\n",
    "            views.html\n",
    "        tmp/"
   ]
  },
  {
   "cell_type": "markdown",
   "metadata": {},
   "source": [
    "#### 3. Lanzar en el servidor local el archivo run.py: "
   ]
  },
  {
   "cell_type": "markdown",
   "metadata": {},
   "source": [
    "Dentro del directorio  .CarRecommender/  ejecutar el archivo run.py ejecutando el siguiente comando:"
   ]
  },
  {
   "cell_type": "markdown",
   "metadata": {},
   "source": [
    "        CarRecommender usuario$ python run.py "
   ]
  },
  {
   "cell_type": "markdown",
   "metadata": {},
   "source": [
    "#### 4. Acceder mediante el navegador a la siguiente url:\n",
    "\n",
    "    http://localhost:5000"
   ]
  },
  {
   "cell_type": "markdown",
   "metadata": {},
   "source": [
    "Y ya habremos accedido a nuestra aplicación, una vez dentro podemos realizar tantas consultas de vehículos recomendados como queramos."
   ]
  },
  {
   "cell_type": "markdown",
   "metadata": {},
   "source": [
    "##  Opción B ) Replicando el proyecto desde cero (+ 35 mins)"
   ]
  },
  {
   "cell_type": "markdown",
   "metadata": {},
   "source": [
    "El proceso será el mismo salvo que en este caso no será necesario disponer de los archivos .csv que representan nuestra BDD, ya que los crearemos desde cero. Para ello habrá que ejecutar por completo los Notebooks que forman el proyecto:\n",
    "\n",
    "    - 1. Scraping data.ipynb\n",
    "    - 2. Scraping extra data - Maleteros.ipynb\n",
    "    - 3. Limpieza y ordenacion de datos.ipynb"
   ]
  },
  {
   "cell_type": "markdown",
   "metadata": {},
   "source": [
    "Por último, deberá generarse el archivo recomendador.py (guardándose el Notebook '4. Recomendador.ipynb' en formato Python (.py)) y copiándose a la carpeta raíz de la app ./CarRecommender/, tal y como se ve en el árbol anterior."
   ]
  },
  {
   "cell_type": "code",
   "execution_count": null,
   "metadata": {
    "collapsed": true
   },
   "outputs": [],
   "source": []
  }
 ],
 "metadata": {
  "kernelspec": {
   "display_name": "Python 2",
   "language": "python",
   "name": "python2"
  },
  "language_info": {
   "codemirror_mode": {
    "name": "ipython",
    "version": 2
   },
   "file_extension": ".py",
   "mimetype": "text/x-python",
   "name": "python",
   "nbconvert_exporter": "python",
   "pygments_lexer": "ipython2",
   "version": "2.7.13"
  }
 },
 "nbformat": 4,
 "nbformat_minor": 2
}
