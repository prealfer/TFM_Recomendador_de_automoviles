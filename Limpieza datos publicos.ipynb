{
 "cells": [
  {
   "cell_type": "markdown",
   "metadata": {},
   "source": [
    "# Tratamiento de datos de ventas\n"
   ]
  },
  {
   "cell_type": "code",
   "execution_count": 2,
   "metadata": {
    "collapsed": false
   },
   "outputs": [
    {
     "name": "stdout",
     "output_type": "stream",
     "text": [
      "total 24432\r\n",
      "-rw-r--r--  1 prealfer  staff   420474 31 ago 19:15 TFM_scraping.ipynb\r\n",
      "-rw-r--r--  1 prealfer  staff        0  5 sep 23:51 README.md\r\n",
      "-rw-r--r--  1 prealfer  staff        0  5 sep 23:51 README.txt\r\n",
      "-rw-r--r--  1 prealfer  staff    15285 30 sep 20:02 maleteros\r\n",
      "-rw-r--r--  1 prealfer  staff    16680 30 sep 20:06 Scrapeo-Maleteros.ipynb\r\n",
      "-rw-r--r--  1 prealfer  staff  3877960  3 oct 21:29 Script scraping - Dataframe (Antiguo).ipynb\r\n",
      "-rw-r--r--  1 prealfer  staff  2584710  3 oct 23:25 datos_crudo\r\n",
      "-rw-r--r--  1 prealfer  staff  2572856  3 oct 23:26 datos_limpios\r\n",
      "-rw-r--r--  1 prealfer  staff  1757431  3 oct 23:31 Dataframe_limpio.csv\r\n",
      "-rw-r--r--  1 prealfer  staff   172435  3 oct 23:55 Script scrapping - Dataframe.ipynb\r\n",
      "-rw-r--r--  1 prealfer  staff   318683  3 oct 23:55 Construcción Dataframe definitivo.ipynb\r\n",
      "-rw-r--r--@ 1 prealfer  staff   721923  4 oct 23:12 segmentos.numbers\r\n",
      "-rw-r--r--@ 1 prealfer  staff    11542  4 oct 23:14 segmentos.csv\r\n",
      "-rw-r--r--@ 1 prealfer  staff      441  4 oct 23:21 total_segmento.csv\r\n",
      "-rw-r--r--@ 1 prealfer  staff     1303  4 oct 23:24 variaciones_segmento.csv\r\n",
      "-rw-r--r--  1 prealfer  staff       72  4 oct 23:34 Untitled.ipynb\r\n"
     ]
    }
   ],
   "source": [
    "!ls -lrt"
   ]
  },
  {
   "cell_type": "code",
   "execution_count": 6,
   "metadata": {
    "collapsed": false
   },
   "outputs": [],
   "source": [
    "import pandas as pd"
   ]
  },
  {
   "cell_type": "code",
   "execution_count": 9,
   "metadata": {
    "collapsed": true
   },
   "outputs": [],
   "source": [
    "segmentos = pd.read_csv('segmentos.csv',';')"
   ]
  },
  {
   "cell_type": "code",
   "execution_count": 7,
   "metadata": {
    "collapsed": false
   },
   "outputs": [],
   "source": [
    "ventas_tot_segmento = pd.read_csv('total_segmento.csv',';')\n"
   ]
  },
  {
   "cell_type": "code",
   "execution_count": 8,
   "metadata": {
    "collapsed": false
   },
   "outputs": [],
   "source": [
    "variaciones_segmento = pd.read_csv('variaciones_segmento.csv',';')"
   ]
  },
  {
   "cell_type": "code",
   "execution_count": 11,
   "metadata": {
    "collapsed": false
   },
   "outputs": [
    {
     "data": {
      "text/html": [
       "<div>\n",
       "<style>\n",
       "    .dataframe thead tr:only-child th {\n",
       "        text-align: right;\n",
       "    }\n",
       "\n",
       "    .dataframe thead th {\n",
       "        text-align: left;\n",
       "    }\n",
       "\n",
       "    .dataframe tbody tr th {\n",
       "        vertical-align: top;\n",
       "    }\n",
       "</style>\n",
       "<table border=\"1\" class=\"dataframe\">\n",
       "  <thead>\n",
       "    <tr style=\"text-align: right;\">\n",
       "      <th></th>\n",
       "      <th>Marca</th>\n",
       "      <th>Segmento</th>\n",
       "      <th>Modelo</th>\n",
       "    </tr>\n",
       "  </thead>\n",
       "  <tbody>\n",
       "    <tr>\n",
       "      <th>1</th>\n",
       "      <td>ABARTH</td>\n",
       "      <td>Deportivo bajo</td>\n",
       "      <td>124 SPIDER</td>\n",
       "    </tr>\n",
       "    <tr>\n",
       "      <th>2</th>\n",
       "      <td>ABARTH</td>\n",
       "      <td>Superutilitario</td>\n",
       "      <td>500</td>\n",
       "    </tr>\n",
       "    <tr>\n",
       "      <th>3</th>\n",
       "      <td>ALFA ROMEO</td>\n",
       "      <td>Deportivo bajo</td>\n",
       "      <td>4C</td>\n",
       "    </tr>\n",
       "    <tr>\n",
       "      <th>4</th>\n",
       "      <td>ALFA ROMEO</td>\n",
       "      <td>Familiar</td>\n",
       "      <td>GIULIA</td>\n",
       "    </tr>\n",
       "    <tr>\n",
       "      <th>5</th>\n",
       "      <td>ALFA ROMEO</td>\n",
       "      <td>Compacto</td>\n",
       "      <td>GIULIETTA</td>\n",
       "    </tr>\n",
       "  </tbody>\n",
       "</table>\n",
       "</div>"
      ],
      "text/plain": [
       "        Marca         Segmento      Modelo\n",
       "1      ABARTH   Deportivo bajo  124 SPIDER\n",
       "2      ABARTH  Superutilitario         500\n",
       "3  ALFA ROMEO   Deportivo bajo          4C\n",
       "4  ALFA ROMEO         Familiar      GIULIA\n",
       "5  ALFA ROMEO         Compacto   GIULIETTA"
      ]
     },
     "execution_count": 11,
     "metadata": {},
     "output_type": "execute_result"
    }
   ],
   "source": [
    "segmentos.drop(0).head()"
   ]
  },
  {
   "cell_type": "code",
   "execution_count": 14,
   "metadata": {
    "collapsed": false
   },
   "outputs": [
    {
     "data": {
      "text/html": [
       "<div>\n",
       "<style>\n",
       "    .dataframe thead tr:only-child th {\n",
       "        text-align: right;\n",
       "    }\n",
       "\n",
       "    .dataframe thead th {\n",
       "        text-align: left;\n",
       "    }\n",
       "\n",
       "    .dataframe tbody tr th {\n",
       "        vertical-align: top;\n",
       "    }\n",
       "</style>\n",
       "<table border=\"1\" class=\"dataframe\">\n",
       "  <thead>\n",
       "    <tr style=\"text-align: right;\">\n",
       "      <th></th>\n",
       "      <th>Segmentos</th>\n",
       "      <th>Total</th>\n",
       "    </tr>\n",
       "  </thead>\n",
       "  <tbody>\n",
       "    <tr>\n",
       "      <th>2</th>\n",
       "      <td>Superutilitario</td>\n",
       "      <td>53416.0</td>\n",
       "    </tr>\n",
       "    <tr>\n",
       "      <th>3</th>\n",
       "      <td>Utilitario/Polivalente</td>\n",
       "      <td>258144.0</td>\n",
       "    </tr>\n",
       "    <tr>\n",
       "      <th>4</th>\n",
       "      <td>Compacto</td>\n",
       "      <td>278592.0</td>\n",
       "    </tr>\n",
       "    <tr>\n",
       "      <th>5</th>\n",
       "      <td>Familiar</td>\n",
       "      <td>83048.0</td>\n",
       "    </tr>\n",
       "    <tr>\n",
       "      <th>6</th>\n",
       "      <td>Berlina</td>\n",
       "      <td>9344.0</td>\n",
       "    </tr>\n",
       "  </tbody>\n",
       "</table>\n",
       "</div>"
      ],
      "text/plain": [
       "                Segmentos     Total\n",
       "2         Superutilitario   53416.0\n",
       "3  Utilitario/Polivalente  258144.0\n",
       "4                Compacto  278592.0\n",
       "5                Familiar   83048.0\n",
       "6                 Berlina    9344.0"
      ]
     },
     "execution_count": 14,
     "metadata": {},
     "output_type": "execute_result"
    }
   ],
   "source": [
    "ventas_tot_segmento.drop([0,1]).head()"
   ]
  },
  {
   "cell_type": "code",
   "execution_count": 18,
   "metadata": {
    "collapsed": false
   },
   "outputs": [
    {
     "data": {
      "text/html": [
       "<div>\n",
       "<style>\n",
       "    .dataframe thead tr:only-child th {\n",
       "        text-align: right;\n",
       "    }\n",
       "\n",
       "    .dataframe thead th {\n",
       "        text-align: left;\n",
       "    }\n",
       "\n",
       "    .dataframe tbody tr th {\n",
       "        vertical-align: top;\n",
       "    }\n",
       "</style>\n",
       "<table border=\"1\" class=\"dataframe\">\n",
       "  <thead>\n",
       "    <tr style=\"text-align: right;\">\n",
       "      <th></th>\n",
       "      <th>Segmentos</th>\n",
       "      <th>Total</th>\n",
       "      <th>% Var.</th>\n",
       "      <th>Gasol.</th>\n",
       "      <th>% Var..1</th>\n",
       "      <th>Diesel</th>\n",
       "      <th>% Var..2</th>\n",
       "      <th>Eléctrico</th>\n",
       "      <th>% Var..3</th>\n",
       "    </tr>\n",
       "  </thead>\n",
       "  <tbody>\n",
       "    <tr>\n",
       "      <th>0</th>\n",
       "      <td>Superutilitario</td>\n",
       "      <td>53.416</td>\n",
       "      <td>-3,20 %</td>\n",
       "      <td>48.912</td>\n",
       "      <td>-4,18 %</td>\n",
       "      <td>3.827</td>\n",
       "      <td>2,88 %</td>\n",
       "      <td>677.0</td>\n",
       "      <td>62,35 %</td>\n",
       "    </tr>\n",
       "    <tr>\n",
       "      <th>1</th>\n",
       "      <td>Utilitario/Polivalente</td>\n",
       "      <td>258.144</td>\n",
       "      <td>9,83 %</td>\n",
       "      <td>185.211</td>\n",
       "      <td>22,79 %</td>\n",
       "      <td>72.507</td>\n",
       "      <td>-13,57 %</td>\n",
       "      <td>426.0</td>\n",
       "      <td>36,54 %</td>\n",
       "    </tr>\n",
       "    <tr>\n",
       "      <th>2</th>\n",
       "      <td>Compacto</td>\n",
       "      <td>278.592</td>\n",
       "      <td>3,34 %</td>\n",
       "      <td>108.544</td>\n",
       "      <td>27,81 %</td>\n",
       "      <td>169.349</td>\n",
       "      <td>-8,01 %</td>\n",
       "      <td>699.0</td>\n",
       "      <td>21,78 %</td>\n",
       "    </tr>\n",
       "    <tr>\n",
       "      <th>3</th>\n",
       "      <td>Familiar</td>\n",
       "      <td>83.048</td>\n",
       "      <td>4,00 %</td>\n",
       "      <td>7.534</td>\n",
       "      <td>38,82 %</td>\n",
       "      <td>75.313</td>\n",
       "      <td>1,21 %</td>\n",
       "      <td>201.0</td>\n",
       "      <td>957,89 %</td>\n",
       "    </tr>\n",
       "    <tr>\n",
       "      <th>4</th>\n",
       "      <td>Berlina</td>\n",
       "      <td>9.344</td>\n",
       "      <td>11,97 %</td>\n",
       "      <td>609.000</td>\n",
       "      <td>16,67 %</td>\n",
       "      <td>8.687</td>\n",
       "      <td>11,20 %</td>\n",
       "      <td>48.0</td>\n",
       "      <td>336,36 %</td>\n",
       "    </tr>\n",
       "  </tbody>\n",
       "</table>\n",
       "</div>"
      ],
      "text/plain": [
       "                Segmentos    Total   % Var.   Gasol. % Var..1   Diesel  \\\n",
       "0         Superutilitario   53.416  -3,20 %   48.912  -4,18 %    3.827   \n",
       "1  Utilitario/Polivalente  258.144   9,83 %  185.211  22,79 %   72.507   \n",
       "2                Compacto  278.592   3,34 %  108.544  27,81 %  169.349   \n",
       "3                Familiar   83.048   4,00 %    7.534  38,82 %   75.313   \n",
       "4                 Berlina    9.344  11,97 %  609.000  16,67 %    8.687   \n",
       "\n",
       "   % Var..2  Eléctrico  % Var..3  \n",
       "0    2,88 %      677.0   62,35 %  \n",
       "1  -13,57 %      426.0   36,54 %  \n",
       "2   -8,01 %      699.0   21,78 %  \n",
       "3    1,21 %      201.0  957,89 %  \n",
       "4   11,20 %       48.0  336,36 %  "
      ]
     },
     "execution_count": 18,
     "metadata": {},
     "output_type": "execute_result"
    }
   ],
   "source": [
    "variaciones_segmento.drop('Unnamed: 1',axis=1).head()"
   ]
  },
  {
   "cell_type": "code",
   "execution_count": null,
   "metadata": {
    "collapsed": true
   },
   "outputs": [],
   "source": []
  }
 ],
 "metadata": {
  "kernelspec": {
   "display_name": "Python 2",
   "language": "python",
   "name": "python2"
  },
  "language_info": {
   "codemirror_mode": {
    "name": "ipython",
    "version": 2
   },
   "file_extension": ".py",
   "mimetype": "text/x-python",
   "name": "python",
   "nbconvert_exporter": "python",
   "pygments_lexer": "ipython2",
   "version": "2.7.13"
  }
 },
 "nbformat": 4,
 "nbformat_minor": 2
}
