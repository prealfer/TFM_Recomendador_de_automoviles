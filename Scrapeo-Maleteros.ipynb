{
 "cells": [
  {
   "cell_type": "markdown",
   "metadata": {},
   "source": [
    "# Scrapping de capacidades de maleteros "
   ]
  },
  {
   "cell_type": "code",
   "execution_count": 71,
   "metadata": {
    "collapsed": true
   },
   "outputs": [],
   "source": [
    "from bs4 import BeautifulSoup\n",
    "import pandas as pd\n",
    "import requests as rq"
   ]
  },
  {
   "cell_type": "code",
   "execution_count": 72,
   "metadata": {
    "collapsed": true
   },
   "outputs": [],
   "source": [
    "main_url = 'http://www.medidasdecoches.com/'"
   ]
  },
  {
   "cell_type": "code",
   "execution_count": 73,
   "metadata": {
    "collapsed": false
   },
   "outputs": [],
   "source": [
    "main_page = rq.get(main_url)\n",
    "main_soup = BeautifulSoup(main_page.content, 'html.parser')\n",
    "\n",
    "capacidades = []\n",
    "\n",
    "for marca in main_soup.find_all('div', class_='logos'):\n",
    "    \n",
    "    #print(marca.find('a').getText())\n",
    "    second_page = rq.get(main_url+marca.find('a', href=True)['href'])\n",
    "    second_soup = BeautifulSoup(second_page.content, 'html.parser')\n",
    "    \n",
    "    for modelo in second_soup.find_all('div',class_='unit'):\n",
    "        \n",
    "        #print(modelo.find('br').getText())\n",
    "        capacidades.append(marca.find('a').getText()+':'+modelo.find('h2').getText()+':'+modelo.find('br').getText())\n",
    "        #print(modelo.find('h2').getText()+':'+modelo.find('br').getText())\n",
    "        #print(modelo.find('br').getText())\n",
    "        "
   ]
  },
  {
   "cell_type": "code",
   "execution_count": 170,
   "metadata": {
    "collapsed": false
   },
   "outputs": [],
   "source": [
    "df_capacidades = pd.DataFrame(capacidades,columns=['Marca : Modelo : Titulo : Dimensiones : Maletero'])"
   ]
  },
  {
   "cell_type": "code",
   "execution_count": 171,
   "metadata": {
    "collapsed": false
   },
   "outputs": [],
   "source": [
    "df_capacidades = df_capacidades['Marca : Modelo : Titulo : Dimensiones : Maletero'].apply(lambda x: (pd.Series(x.split(':'))))\n",
    "\n"
   ]
  },
  {
   "cell_type": "code",
   "execution_count": 172,
   "metadata": {
    "collapsed": false
   },
   "outputs": [],
   "source": [
    "df_capacidades['Marca']=df_capacidades[0]\n",
    "df_capacidades['Modelo']=df_capacidades[1]\n",
    "df_capacidades['Maletero']=df_capacidades[4]"
   ]
  },
  {
   "cell_type": "code",
   "execution_count": 173,
   "metadata": {
    "collapsed": false
   },
   "outputs": [
    {
     "data": {
      "text/html": [
       "<div>\n",
       "<style>\n",
       "    .dataframe thead tr:only-child th {\n",
       "        text-align: right;\n",
       "    }\n",
       "\n",
       "    .dataframe thead th {\n",
       "        text-align: left;\n",
       "    }\n",
       "\n",
       "    .dataframe tbody tr th {\n",
       "        vertical-align: top;\n",
       "    }\n",
       "</style>\n",
       "<table border=\"1\" class=\"dataframe\">\n",
       "  <thead>\n",
       "    <tr style=\"text-align: right;\">\n",
       "      <th></th>\n",
       "      <th>0</th>\n",
       "      <th>1</th>\n",
       "      <th>2</th>\n",
       "      <th>3</th>\n",
       "      <th>4</th>\n",
       "      <th>Marca</th>\n",
       "      <th>Modelo</th>\n",
       "      <th>Maletero</th>\n",
       "    </tr>\n",
       "  </thead>\n",
       "  <tbody>\n",
       "    <tr>\n",
       "      <th>0</th>\n",
       "      <td>ALFA ROMEO</td>\n",
       "      <td>Alfa Romeo MiTo</td>\n",
       "      <td>L x A x A</td>\n",
       "      <td>4063 x 1721 x 1446 mmCapacidad del maletero</td>\n",
       "      <td>270 dm3</td>\n",
       "      <td>ALFA ROMEO</td>\n",
       "      <td>Alfa Romeo MiTo</td>\n",
       "      <td>270 dm3</td>\n",
       "    </tr>\n",
       "    <tr>\n",
       "      <th>1</th>\n",
       "      <td>ALFA ROMEO</td>\n",
       "      <td>Alfa Romeo 4C</td>\n",
       "      <td>L x A x A</td>\n",
       "      <td>3989 x 1864 x 1183 mmCapacidad del maletero</td>\n",
       "      <td>110 dm3</td>\n",
       "      <td>ALFA ROMEO</td>\n",
       "      <td>Alfa Romeo 4C</td>\n",
       "      <td>110 dm3</td>\n",
       "    </tr>\n",
       "    <tr>\n",
       "      <th>2</th>\n",
       "      <td>ALFA ROMEO</td>\n",
       "      <td>Alfa Romeo Giulietta</td>\n",
       "      <td>L x A x A</td>\n",
       "      <td>4351 x 1798 x 1465 mmCapacidad del maletero</td>\n",
       "      <td>350 dm3</td>\n",
       "      <td>ALFA ROMEO</td>\n",
       "      <td>Alfa Romeo Giulietta</td>\n",
       "      <td>350 dm3</td>\n",
       "    </tr>\n",
       "    <tr>\n",
       "      <th>3</th>\n",
       "      <td>ALFA ROMEO</td>\n",
       "      <td>Alfa Romeo Giulia</td>\n",
       "      <td>L x A x A</td>\n",
       "      <td>4643 x 1860 x 1436 mmCapacidad del maletero</td>\n",
       "      <td>480 dm3</td>\n",
       "      <td>ALFA ROMEO</td>\n",
       "      <td>Alfa Romeo Giulia</td>\n",
       "      <td>480 dm3</td>\n",
       "    </tr>\n",
       "    <tr>\n",
       "      <th>4</th>\n",
       "      <td>ALFA ROMEO</td>\n",
       "      <td>Nuevo Alfa Romeo Stelvio 2017</td>\n",
       "      <td>L x A x A</td>\n",
       "      <td>4687 x 1903 x 1671 mmCapacidad del maletero</td>\n",
       "      <td>525 dm3</td>\n",
       "      <td>ALFA ROMEO</td>\n",
       "      <td>Nuevo Alfa Romeo Stelvio 2017</td>\n",
       "      <td>525 dm3</td>\n",
       "    </tr>\n",
       "  </tbody>\n",
       "</table>\n",
       "</div>"
      ],
      "text/plain": [
       "            0                              1          2  \\\n",
       "0  ALFA ROMEO                Alfa Romeo MiTo  L x A x A   \n",
       "1  ALFA ROMEO                  Alfa Romeo 4C  L x A x A   \n",
       "2  ALFA ROMEO           Alfa Romeo Giulietta  L x A x A   \n",
       "3  ALFA ROMEO              Alfa Romeo Giulia  L x A x A   \n",
       "4  ALFA ROMEO  Nuevo Alfa Romeo Stelvio 2017  L x A x A   \n",
       "\n",
       "                                              3         4       Marca  \\\n",
       "0   4063 x 1721 x 1446 mmCapacidad del maletero   270 dm3  ALFA ROMEO   \n",
       "1   3989 x 1864 x 1183 mmCapacidad del maletero   110 dm3  ALFA ROMEO   \n",
       "2   4351 x 1798 x 1465 mmCapacidad del maletero   350 dm3  ALFA ROMEO   \n",
       "3   4643 x 1860 x 1436 mmCapacidad del maletero   480 dm3  ALFA ROMEO   \n",
       "4   4687 x 1903 x 1671 mmCapacidad del maletero   525 dm3  ALFA ROMEO   \n",
       "\n",
       "                          Modelo  Maletero  \n",
       "0                Alfa Romeo MiTo   270 dm3  \n",
       "1                  Alfa Romeo 4C   110 dm3  \n",
       "2           Alfa Romeo Giulietta   350 dm3  \n",
       "3              Alfa Romeo Giulia   480 dm3  \n",
       "4  Nuevo Alfa Romeo Stelvio 2017   525 dm3  "
      ]
     },
     "execution_count": 173,
     "metadata": {},
     "output_type": "execute_result"
    }
   ],
   "source": [
    "df_capacidades.head()"
   ]
  },
  {
   "cell_type": "code",
   "execution_count": 174,
   "metadata": {
    "collapsed": false
   },
   "outputs": [],
   "source": [
    "df_capacidades = df_capacidades.drop([0,1,2,3,4],axis=1)"
   ]
  },
  {
   "cell_type": "code",
   "execution_count": 175,
   "metadata": {
    "collapsed": false
   },
   "outputs": [],
   "source": [
    "df_capacidades = df_capacidades.dropna()"
   ]
  },
  {
   "cell_type": "code",
   "execution_count": 176,
   "metadata": {
    "collapsed": false
   },
   "outputs": [
    {
     "data": {
      "text/html": [
       "<div>\n",
       "<style>\n",
       "    .dataframe thead tr:only-child th {\n",
       "        text-align: right;\n",
       "    }\n",
       "\n",
       "    .dataframe thead th {\n",
       "        text-align: left;\n",
       "    }\n",
       "\n",
       "    .dataframe tbody tr th {\n",
       "        vertical-align: top;\n",
       "    }\n",
       "</style>\n",
       "<table border=\"1\" class=\"dataframe\">\n",
       "  <thead>\n",
       "    <tr style=\"text-align: right;\">\n",
       "      <th></th>\n",
       "      <th>Marca</th>\n",
       "      <th>Modelo</th>\n",
       "      <th>Maletero</th>\n",
       "    </tr>\n",
       "  </thead>\n",
       "  <tbody>\n",
       "    <tr>\n",
       "      <th>0</th>\n",
       "      <td>ALFA ROMEO</td>\n",
       "      <td>Alfa Romeo MiTo</td>\n",
       "      <td>270 dm3</td>\n",
       "    </tr>\n",
       "    <tr>\n",
       "      <th>1</th>\n",
       "      <td>ALFA ROMEO</td>\n",
       "      <td>Alfa Romeo 4C</td>\n",
       "      <td>110 dm3</td>\n",
       "    </tr>\n",
       "    <tr>\n",
       "      <th>2</th>\n",
       "      <td>ALFA ROMEO</td>\n",
       "      <td>Alfa Romeo Giulietta</td>\n",
       "      <td>350 dm3</td>\n",
       "    </tr>\n",
       "    <tr>\n",
       "      <th>3</th>\n",
       "      <td>ALFA ROMEO</td>\n",
       "      <td>Alfa Romeo Giulia</td>\n",
       "      <td>480 dm3</td>\n",
       "    </tr>\n",
       "    <tr>\n",
       "      <th>4</th>\n",
       "      <td>ALFA ROMEO</td>\n",
       "      <td>Nuevo Alfa Romeo Stelvio 2017</td>\n",
       "      <td>525 dm3</td>\n",
       "    </tr>\n",
       "  </tbody>\n",
       "</table>\n",
       "</div>"
      ],
      "text/plain": [
       "        Marca                         Modelo  Maletero\n",
       "0  ALFA ROMEO                Alfa Romeo MiTo   270 dm3\n",
       "1  ALFA ROMEO                  Alfa Romeo 4C   110 dm3\n",
       "2  ALFA ROMEO           Alfa Romeo Giulietta   350 dm3\n",
       "3  ALFA ROMEO              Alfa Romeo Giulia   480 dm3\n",
       "4  ALFA ROMEO  Nuevo Alfa Romeo Stelvio 2017   525 dm3"
      ]
     },
     "execution_count": 176,
     "metadata": {},
     "output_type": "execute_result"
    }
   ],
   "source": [
    "df_capacidades.head()"
   ]
  },
  {
   "cell_type": "code",
   "execution_count": 177,
   "metadata": {
    "collapsed": false
   },
   "outputs": [],
   "source": [
    "def sacar_numero(capacidad_unidades):\n",
    "    capacidad = str(capacidad_unidades)\n",
    "    trozos = [capacidad.split(' ')]\n",
    "    return trozos[0]\n",
    "\n",
    "#df_capacidades['Maletero']=df_capacidades['Maletero'].apply()\n",
    "#df_capacidades.head()"
   ]
  },
  {
   "cell_type": "code",
   "execution_count": 178,
   "metadata": {
    "collapsed": false,
    "scrolled": true
   },
   "outputs": [
    {
     "data": {
      "text/html": [
       "<div>\n",
       "<style>\n",
       "    .dataframe thead tr:only-child th {\n",
       "        text-align: right;\n",
       "    }\n",
       "\n",
       "    .dataframe thead th {\n",
       "        text-align: left;\n",
       "    }\n",
       "\n",
       "    .dataframe tbody tr th {\n",
       "        vertical-align: top;\n",
       "    }\n",
       "</style>\n",
       "<table border=\"1\" class=\"dataframe\">\n",
       "  <thead>\n",
       "    <tr style=\"text-align: right;\">\n",
       "      <th></th>\n",
       "      <th>Marca</th>\n",
       "      <th>Modelo</th>\n",
       "      <th>Maletero</th>\n",
       "    </tr>\n",
       "  </thead>\n",
       "  <tbody>\n",
       "    <tr>\n",
       "      <th>0</th>\n",
       "      <td>ALFA ROMEO</td>\n",
       "      <td>Alfa Romeo MiTo</td>\n",
       "      <td>270 dm3</td>\n",
       "    </tr>\n",
       "    <tr>\n",
       "      <th>1</th>\n",
       "      <td>ALFA ROMEO</td>\n",
       "      <td>Alfa Romeo 4C</td>\n",
       "      <td>110 dm3</td>\n",
       "    </tr>\n",
       "    <tr>\n",
       "      <th>2</th>\n",
       "      <td>ALFA ROMEO</td>\n",
       "      <td>Alfa Romeo Giulietta</td>\n",
       "      <td>350 dm3</td>\n",
       "    </tr>\n",
       "    <tr>\n",
       "      <th>3</th>\n",
       "      <td>ALFA ROMEO</td>\n",
       "      <td>Alfa Romeo Giulia</td>\n",
       "      <td>480 dm3</td>\n",
       "    </tr>\n",
       "    <tr>\n",
       "      <th>4</th>\n",
       "      <td>ALFA ROMEO</td>\n",
       "      <td>Nuevo Alfa Romeo Stelvio 2017</td>\n",
       "      <td>525 dm3</td>\n",
       "    </tr>\n",
       "  </tbody>\n",
       "</table>\n",
       "</div>"
      ],
      "text/plain": [
       "        Marca                         Modelo  Maletero\n",
       "0  ALFA ROMEO                Alfa Romeo MiTo   270 dm3\n",
       "1  ALFA ROMEO                  Alfa Romeo 4C   110 dm3\n",
       "2  ALFA ROMEO           Alfa Romeo Giulietta   350 dm3\n",
       "3  ALFA ROMEO              Alfa Romeo Giulia   480 dm3\n",
       "4  ALFA ROMEO  Nuevo Alfa Romeo Stelvio 2017   525 dm3"
      ]
     },
     "execution_count": 178,
     "metadata": {},
     "output_type": "execute_result"
    }
   ],
   "source": [
    "df_capacidades.head()"
   ]
  },
  {
   "cell_type": "code",
   "execution_count": 184,
   "metadata": {
    "collapsed": false
   },
   "outputs": [],
   "source": [
    "df_capacidades['CapacidadMaletero'] = df_capacidades['Maletero'].apply(lambda x: x.strip()[0:x.rfind(' ')])\n"
   ]
  },
  {
   "cell_type": "code",
   "execution_count": 186,
   "metadata": {
    "collapsed": false
   },
   "outputs": [],
   "source": [
    "df_capacidades = df_capacidades.drop(['Maletero'], axis=1)"
   ]
  },
  {
   "cell_type": "code",
   "execution_count": 187,
   "metadata": {
    "collapsed": false
   },
   "outputs": [
    {
     "data": {
      "text/html": [
       "<div>\n",
       "<style>\n",
       "    .dataframe thead tr:only-child th {\n",
       "        text-align: right;\n",
       "    }\n",
       "\n",
       "    .dataframe thead th {\n",
       "        text-align: left;\n",
       "    }\n",
       "\n",
       "    .dataframe tbody tr th {\n",
       "        vertical-align: top;\n",
       "    }\n",
       "</style>\n",
       "<table border=\"1\" class=\"dataframe\">\n",
       "  <thead>\n",
       "    <tr style=\"text-align: right;\">\n",
       "      <th></th>\n",
       "      <th>Marca</th>\n",
       "      <th>Modelo</th>\n",
       "      <th>CapacidadMaletero</th>\n",
       "    </tr>\n",
       "  </thead>\n",
       "  <tbody>\n",
       "    <tr>\n",
       "      <th>0</th>\n",
       "      <td>ALFA ROMEO</td>\n",
       "      <td>Alfa Romeo MiTo</td>\n",
       "      <td>270</td>\n",
       "    </tr>\n",
       "    <tr>\n",
       "      <th>1</th>\n",
       "      <td>ALFA ROMEO</td>\n",
       "      <td>Alfa Romeo 4C</td>\n",
       "      <td>110</td>\n",
       "    </tr>\n",
       "    <tr>\n",
       "      <th>2</th>\n",
       "      <td>ALFA ROMEO</td>\n",
       "      <td>Alfa Romeo Giulietta</td>\n",
       "      <td>350</td>\n",
       "    </tr>\n",
       "    <tr>\n",
       "      <th>3</th>\n",
       "      <td>ALFA ROMEO</td>\n",
       "      <td>Alfa Romeo Giulia</td>\n",
       "      <td>480</td>\n",
       "    </tr>\n",
       "    <tr>\n",
       "      <th>4</th>\n",
       "      <td>ALFA ROMEO</td>\n",
       "      <td>Nuevo Alfa Romeo Stelvio 2017</td>\n",
       "      <td>525</td>\n",
       "    </tr>\n",
       "  </tbody>\n",
       "</table>\n",
       "</div>"
      ],
      "text/plain": [
       "        Marca                         Modelo CapacidadMaletero\n",
       "0  ALFA ROMEO                Alfa Romeo MiTo              270 \n",
       "1  ALFA ROMEO                  Alfa Romeo 4C              110 \n",
       "2  ALFA ROMEO           Alfa Romeo Giulietta              350 \n",
       "3  ALFA ROMEO              Alfa Romeo Giulia              480 \n",
       "4  ALFA ROMEO  Nuevo Alfa Romeo Stelvio 2017              525 "
      ]
     },
     "execution_count": 187,
     "metadata": {},
     "output_type": "execute_result"
    }
   ],
   "source": [
    "df_capacidades.head()"
   ]
  },
  {
   "cell_type": "code",
   "execution_count": 189,
   "metadata": {
    "collapsed": false
   },
   "outputs": [],
   "source": [
    "df_capacidades.to_csv('maleteros',encoding='utf-8')"
   ]
  },
  {
   "cell_type": "code",
   "execution_count": null,
   "metadata": {
    "collapsed": true
   },
   "outputs": [],
   "source": []
  }
 ],
 "metadata": {
  "kernelspec": {
   "display_name": "Python 2",
   "language": "python",
   "name": "python2"
  },
  "language_info": {
   "codemirror_mode": {
    "name": "ipython",
    "version": 2
   },
   "file_extension": ".py",
   "mimetype": "text/x-python",
   "name": "python",
   "nbconvert_exporter": "python",
   "pygments_lexer": "ipython2",
   "version": "2.7.13"
  }
 },
 "nbformat": 4,
 "nbformat_minor": 2
}
