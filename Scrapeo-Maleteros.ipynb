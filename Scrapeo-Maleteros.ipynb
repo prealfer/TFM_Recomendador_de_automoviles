{
 "cells": [
  {
   "cell_type": "markdown",
   "metadata": {},
   "source": [
    "# Scrapping de capacidades de maleteros "
   ]
  },
  {
   "cell_type": "code",
   "execution_count": 71,
   "metadata": {
    "collapsed": true
   },
   "outputs": [],
   "source": [
    "from bs4 import BeautifulSoup\n",
    "import pandas as pd\n",
    "import requests as rq"
   ]
  },
  {
   "cell_type": "code",
   "execution_count": 72,
   "metadata": {
    "collapsed": true
   },
   "outputs": [],
   "source": [
    "main_url = 'http://www.medidasdecoches.com/'"
   ]
  },
  {
   "cell_type": "code",
   "execution_count": 73,
   "metadata": {
    "collapsed": false
   },
   "outputs": [],
   "source": [
    "main_page = rq.get(main_url)\n",
    "main_soup = BeautifulSoup(main_page.content, 'html.parser')\n",
    "\n",
    "capacidades = []\n",
    "\n",
    "for marca in main_soup.find_all('div', class_='logos'):\n",
    "    \n",
    "    #print(marca.find('a').getText())\n",
    "    second_page = rq.get(main_url+marca.find('a', href=True)['href'])\n",
    "    second_soup = BeautifulSoup(second_page.content, 'html.parser')\n",
    "    \n",
    "    for modelo in second_soup.find_all('div',class_='unit'):\n",
    "        \n",
    "        #print(modelo.find('br').getText())\n",
    "        capacidades.append(marca.find('a').getText()+':'+modelo.find('h2').getText()+':'+modelo.find('br').getText())\n",
    "        #print(modelo.find('h2').getText()+':'+modelo.find('br').getText())\n",
    "        #print(modelo.find('br').getText())\n",
    "        "
   ]
  },
  {
   "cell_type": "code",
   "execution_count": 170,
   "metadata": {
    "collapsed": false
   },
   "outputs": [],
   "source": [
    "df_capacidades = pd.DataFrame(capacidades,columns=['Marca : Modelo : Titulo : Dimensiones : Maletero'])\n",
    "df_capacidades = df_capacidades['Marca : Modelo : Titulo : Dimensiones : Maletero'].apply(lambda x: (pd.Series(x.split(':'))))\n",
    "df_capacidades['Marca']=df_capacidades[0]\n",
    "df_capacidades['Modelo']=df_capacidades[1]\n",
    "df_capacidades['Maletero']=df_capacidades[4]\n",
    "df_capacidades = df_capacidades.drop([0,1,2,3,4],axis=1)\n",
    "df_capacidades = df_capacidades.dropna()"
   ]
  },
  {
   "cell_type": "code",
   "execution_count": 177,
   "metadata": {
    "collapsed": false
   },
   "outputs": [],
   "source": [
    "def sacar_numero(capacidad_unidades):\n",
    "    capacidad = str(capacidad_unidades)\n",
    "    trozos = [capacidad.split(' ')]\n",
    "    return trozos[0]\n",
    "\n",
    "#df_capacidades['Maletero']=df_capacidades['Maletero'].apply()\n",
    "#df_capacidades.head()"
   ]
  },
  {
   "cell_type": "code",
   "execution_count": 184,
   "metadata": {
    "collapsed": false
   },
   "outputs": [],
   "source": [
    "df_capacidades['CapacidadMaletero'] = df_capacidades['Maletero'].apply(lambda x: x.strip()[0:x.rfind(' ')])\n",
    "df_capacidades = df_capacidades.drop(['Maletero'], axis=1)\n",
    "df_capacidades.to_csv('maleteros',encoding='utf-8')"
   ]
  }
 ],
 "metadata": {
  "kernelspec": {
   "display_name": "Python 2",
   "language": "python",
   "name": "python2"
  },
  "language_info": {
   "codemirror_mode": {
    "name": "ipython",
    "version": 2
   },
   "file_extension": ".py",
   "mimetype": "text/x-python",
   "name": "python",
   "nbconvert_exporter": "python",
   "pygments_lexer": "ipython2",
   "version": "2.7.13"
  }
 },
 "nbformat": 4,
 "nbformat_minor": 2
}
