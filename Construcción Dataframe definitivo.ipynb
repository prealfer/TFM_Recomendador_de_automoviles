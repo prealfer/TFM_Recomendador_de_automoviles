{
 "cells": [
  {
   "cell_type": "markdown",
   "metadata": {},
   "source": [
    "# Unión de datos scrapeados, Dataframe final "
   ]
  },
  {
   "cell_type": "code",
   "execution_count": 222,
   "metadata": {
    "collapsed": false,
    "scrolled": false
   },
   "outputs": [
    {
     "name": "stdout",
     "output_type": "stream",
     "text": [
      "total 28328\r\n",
      "-rw-r--r--  1 prealfer  staff   420474 31 ago 19:15 TFM_scraping.ipynb\r\n",
      "-rw-r--r--  1 prealfer  staff        0  5 sep 23:51 README.md\r\n",
      "-rw-r--r--  1 prealfer  staff        0  5 sep 23:51 README.txt\r\n",
      "-rw-r--r--  1 prealfer  staff    15285 30 sep 20:02 maleteros\r\n",
      "-rw-r--r--  1 prealfer  staff    16680 30 sep 20:06 Scrapeo-Maleteros.ipynb\r\n",
      "-rw-r--r--  1 prealfer  staff  3877960  3 oct 21:29 Script scraping - Dataframe (Antiguo).ipynb\r\n",
      "-rw-r--r--@ 1 prealfer  staff   721923  4 oct 23:12 segmentos.numbers\r\n",
      "-rw-r--r--@ 1 prealfer  staff    11542  4 oct 23:14 segmentos.csv\r\n",
      "-rw-r--r--@ 1 prealfer  staff      441  4 oct 23:21 total_segmento.csv\r\n",
      "-rw-r--r--@ 1 prealfer  staff     1303  4 oct 23:24 variaciones_segmento.csv\r\n",
      "-rw-r--r--  1 prealfer  staff    11786  4 oct 23:47 Limpieza datos publicos.ipynb\r\n",
      "drwxr-xr-x  5 prealfer  staff      170 12 oct 23:59 \u001b[34mFlaskApp\u001b[m\u001b[m\r\n",
      "-rw-r--r--  1 prealfer  staff  2563080 17 oct 23:59 datos_crudo\r\n",
      "-rw-r--r--  1 prealfer  staff  2551216 17 oct 23:59 datos_limpios\r\n",
      "-rw-r--r--  1 prealfer  staff  1642490 18 oct 00:01 Dataframe_limpio.csv\r\n",
      "-rw-r--r--  1 prealfer  staff   327328 18 oct 00:01 Script scrapping - Dataframe.ipynb\r\n",
      "-rw-r--r--  1 prealfer  staff  1722527 30 oct 22:06 datos_con_maletero.csv\r\n",
      "-rw-r--r--  1 prealfer  staff   596260 30 oct 22:11 Construcción Dataframe definitivo.ipynb\r\n"
     ]
    }
   ],
   "source": [
    "!ls -lrt"
   ]
  },
  {
   "cell_type": "code",
   "execution_count": 1,
   "metadata": {
    "collapsed": true
   },
   "outputs": [],
   "source": [
    "import pandas as pd\n",
    "import numpy as np"
   ]
  },
  {
   "cell_type": "code",
   "execution_count": 2,
   "metadata": {
    "collapsed": true
   },
   "outputs": [],
   "source": [
    "pd.set_option('display.max_columns', None)"
   ]
  },
  {
   "cell_type": "code",
   "execution_count": 3,
   "metadata": {
    "collapsed": false
   },
   "outputs": [
    {
     "data": {
      "text/plain": [
       "5932"
      ]
     },
     "execution_count": 3,
     "metadata": {},
     "output_type": "execute_result"
    }
   ],
   "source": [
    "datos = pd.read_csv('Dataframe_limpio.csv',header=0)\n",
    "datos = datos.drop('Unnamed: 0',axis=1)\n",
    "maleteros = pd.read_csv('maleteros')\n",
    "maleteros = maleteros.drop('Unnamed: 0',axis=1)\n",
    "len(datos)"
   ]
  },
  {
   "cell_type": "markdown",
   "metadata": {},
   "source": [
    "## Unificamos en mayúsculas "
   ]
  },
  {
   "cell_type": "code",
   "execution_count": 4,
   "metadata": {
    "collapsed": false
   },
   "outputs": [],
   "source": [
    "datos['marca'] = datos['marca'].apply(lambda x: x.upper().strip())\n",
    "datos['modelo'] = datos['modelo'].apply(lambda x: x.upper().strip())\n",
    "maleteros['Modelo'] = maleteros['Modelo'].apply(lambda x: x.upper())"
   ]
  },
  {
   "cell_type": "markdown",
   "metadata": {},
   "source": [
    "### Creamos columna en 'datos' que contiene marca y modelo para cruzar con maleteros. A continuación, limpiamos de formatos y caracteres extraños y creamos una columna nueva con estos datos."
   ]
  },
  {
   "cell_type": "code",
   "execution_count": 5,
   "metadata": {
    "collapsed": true
   },
   "outputs": [],
   "source": [
    "datos['mm']=datos['marca']+' '+datos['modelo']\n",
    "modelos_data = datos['mm']\n",
    "modelos_data = [mod.replace('NUEVO ','').replace('\\xc3\\xb3','O').replace('\\xc3\\xa9','E') for mod in modelos_data]\n",
    "datos['MODELOS'] = modelos_data\n",
    "datos.drop('mm', axis=1,inplace=True)"
   ]
  },
  {
   "cell_type": "code",
   "execution_count": 6,
   "metadata": {
    "collapsed": false
   },
   "outputs": [],
   "source": [
    "maleteros.columns = ['Marca','Modelo','Maletero']\n",
    "modelos_maleteros = maleteros['Modelo']\n",
    "modelos_maleteros = [mod.replace('NUEVO ','').replace(' 2017','').replace(' 2018','').replace('-BENZ','').replace('!','').replace('\\xc5\\xa0','S').replace('\\xc3\\xb3','O').replace('!','').replace('\\xc3\\xa9','E').replace('\\xc3\\xab','E') for mod in modelos_maleteros]\n",
    "maleteros['MODELOS'] =  modelos_maleteros\n",
    "maleteros.drop('Modelo',axis=1,inplace=True)\n",
    "maleteros.rename(columns={'Marca': 'marca', 'marca-modelo': 'modelo', 'Maletero': 'maletero'}, inplace=True)"
   ]
  },
  {
   "cell_type": "markdown",
   "metadata": {
    "collapsed": true
   },
   "source": [
    "## Eliminamos los vehículos comerciales de nuestro Dataframe: \n",
    "\n",
    "### - No entran en el objetivo definido por negocio.\n",
    "### - Sus características generarían 'outliers' (no del todo)."
   ]
  },
  {
   "cell_type": "code",
   "execution_count": 7,
   "metadata": {
    "collapsed": false
   },
   "outputs": [
    {
     "data": {
      "text/plain": [
       "5932"
      ]
     },
     "execution_count": 7,
     "metadata": {},
     "output_type": "execute_result"
    }
   ],
   "source": [
    "df = datos\n",
    "len(df)"
   ]
  },
  {
   "cell_type": "code",
   "execution_count": 8,
   "metadata": {
    "collapsed": false
   },
   "outputs": [
    {
     "data": {
      "text/plain": [
       "array(['ABARTH', 'AUDI', 'BMW', 'CITROEN', 'DACIA', 'DS', 'FIAT', 'FORD',\n",
       "       'HONDA', 'HYUNDAI', 'INFINITI', 'JAGUAR', 'JEEP', 'KIA', 'LEXUS',\n",
       "       'MASERATI', 'MAZDA', 'MERCEDES', 'MINI', 'MITSUBISHI', 'MORGAN',\n",
       "       'NISSAN', 'OPEL', 'PEUGEOT', 'PORSCHE', 'RENAULT', 'SEAT', 'SKODA',\n",
       "       'SMART', 'SSANGYONG', 'SUBARU', 'SUZUKI', 'TESLA', 'TOYOTA',\n",
       "       'VOLKSWAGEN', 'VOLVO'], dtype=object)"
      ]
     },
     "execution_count": 8,
     "metadata": {},
     "output_type": "execute_result"
    }
   ],
   "source": [
    "df.marca.unique()"
   ]
  },
  {
   "cell_type": "code",
   "execution_count": 9,
   "metadata": {
    "collapsed": true
   },
   "outputs": [],
   "source": [
    "borrar_volkswagen = ['CADDY','CARAVELLE','CRAFTER','TRANSPORTER', 'UP COMERCIAL']\n",
    "borrar_toyota = ['LAND CRUISER COMERCIAL', 'PROACE', 'PROACE VERSO']\n",
    "borrar_seat = ['IBIZA COMERCIAL']\n",
    "borrar_renault = ['KANGOO', 'MASTER', 'TRAFIC']\n",
    "borrar_peugeot = ['BIPPER COMERCIAL', 'BOXER', 'EXPERT', 'PARTNER','TRAVELLER', 'TRAVELLER M1']\n",
    "borrar_opel = ['COMBO', 'MOVANO', 'VIVARO']\n",
    "borrar_nissan = ['EVALIA','NT400', 'NV200', 'NV300', 'NV400']\n",
    "borrar_mercedes = ['CITAN', 'SPRINTER', 'VITO']\n",
    "borrar_ford = ['CONNECT', 'TOURNEO CONNECT', 'TOURNEO COURIER',\n",
    "       'TOURNEO CUSTOM', 'TRANSIT', 'TRANSIT COURIER', 'TRANSIT CUSTOM']\n",
    "borrar_dacia = ['DOKKER', 'DOKKER COMERCIAL', 'LODGY']\n",
    "borrar_citroen = ['BERLINGO','C3 COMERCIAL', 'JUMPER', 'JUMPY', 'NEMO', 'NEMO COMERCIAL', 'SPACETOURER']\n",
    "borrar_fiat = ['DOBL\\xc3\\xb3', 'DUCATO',\n",
    "       'FIORINO', 'FIORINO COMERCIAL', 'FULLBACK', 'TALENTO']"
   ]
  },
  {
   "cell_type": "code",
   "execution_count": 10,
   "metadata": {
    "collapsed": false
   },
   "outputs": [],
   "source": [
    "modelos_borrar = borrar_volkswagen + borrar_toyota + borrar_seat + borrar_renault + borrar_peugeot + borrar_opel + borrar_nissan + borrar_mercedes + borrar_ford + borrar_dacia + borrar_citroen + borrar_fiat\n",
    "\n",
    "for modelo in modelos_borrar:\n",
    "    df = df[df['modelo']!=modelo]"
   ]
  },
  {
   "cell_type": "code",
   "execution_count": 11,
   "metadata": {
    "collapsed": false
   },
   "outputs": [
    {
     "data": {
      "text/plain": [
       "4670"
      ]
     },
     "execution_count": 11,
     "metadata": {},
     "output_type": "execute_result"
    }
   ],
   "source": [
    "len(df)"
   ]
  },
  {
   "cell_type": "markdown",
   "metadata": {},
   "source": [
    "## Limpieza y codificación de las variables para poder ser utilizadas.\n"
   ]
  },
  {
   "cell_type": "markdown",
   "metadata": {},
   "source": [
    "####  Eliminamos unidades, caracteres raros, espacios...."
   ]
  },
  {
   "cell_type": "code",
   "execution_count": 12,
   "metadata": {
    "collapsed": false
   },
   "outputs": [],
   "source": [
    "df['precio'] = df['precio'].apply(lambda x: x.replace('€','').replace('.','').strip())\n",
    "df['puertas'] = df['puertas'].apply(lambda x: x.replace(' puertas','').strip())\n",
    "df['cv'] = df['cv'].apply(lambda x: x.replace(' cv','').strip())\n",
    "df['traccion'] = df['traccion'].apply(lambda x: x.replace('Tracción ','').strip())\n",
    "df['n_marchas'] = df['n_marchas'].apply(lambda x: x.replace(' marchas','').strip())\n",
    "df['co2'] = df['co2'].apply(lambda x: x.replace(' gr/km','').strip())\n",
    "df['autonomia'] = df['autonomia'].apply(lambda x: x.replace(' km','').strip())\n",
    "df['consumo'] = df['consumo'].apply(lambda x: x.replace(' l/100km','').strip())\n",
    "df['cilindrada'] = df['cilindrada'].apply(lambda x: x.replace(' cc','').strip())\n",
    "df['capacidad deposito'] = df['capacidad deposito'].apply(lambda x: x.replace(' lts.','').strip())\n",
    "df['max_vel'] = df['max_vel'].apply(lambda x: x.replace(' km/h','').strip())\n",
    "df['0_a_100'] = df['0_a_100'].apply(lambda x: x.replace(' s.','').strip())\n",
    "df['rpm'] = df['rpm'].apply(lambda x: x.replace(' rpm','').strip())\n",
    "df['par'] = df['par'].apply(lambda x: x.replace('Nm','').strip())\n",
    "df['garantia'] = df['garantia'].apply(lambda x: x.replace(' meses','').replace('.','').strip())"
   ]
  },
  {
   "cell_type": "markdown",
   "metadata": {},
   "source": [
    "#### Asignamos los tipos a las variables: Float a los numéricos para ser normalizados o categóricos para aplicarles una regla posteriormente"
   ]
  },
  {
   "cell_type": "code",
   "execution_count": 13,
   "metadata": {
    "collapsed": false
   },
   "outputs": [],
   "source": [
    "df['precio'] = df['precio'].astype(float)\n",
    "df['puertas'] = df['puertas'].astype(float)\n",
    "df['cv'] = df['cv'].astype(float)\n",
    "df['traccion'] = df['traccion'].astype('category')\n",
    "df['n_marchas'] = df['n_marchas'].astype(float)\n",
    "df['co2'] = df['co2'].astype(float)\n",
    "df['consumo'] = df['consumo'].astype(float)\n",
    "df['cilindrada'] = df['cilindrada'].astype(float)\n",
    "df['max_vel'] = df['max_vel'].astype(int)\n",
    "df['capacidad deposito'] = df['capacidad deposito'].astype(float)\n",
    "df['0_a_100'] = df['0_a_100'].astype(float)\n",
    "df['rpm'] = df['rpm'].astype(float)\n",
    "df['par'] = df['par'].astype(float)\n",
    "df['garantia'] = df['garantia'].astype(float)\n",
    "df['combustible'] = df['combustible'].astype('category')\n",
    "df['cambio'] = df['cambio'].astype('category')"
   ]
  },
  {
   "cell_type": "markdown",
   "metadata": {},
   "source": [
    "##  Sacamos del análisis columnas (variables) que no van a tomar parte de la aplicación."
   ]
  },
  {
   "cell_type": "code",
   "execution_count": 14,
   "metadata": {
    "collapsed": false
   },
   "outputs": [],
   "source": [
    "cols_to_drop = ['airbags','marchas','control traccion','control estabilidad','alarma','cierre centralizado','tipo llave','peso','cierre automatico','start/stop','CD/mp3/dvd','cilindrada','max_vel','rpm','estrellas NCAP','par']\n",
    "\n",
    "df = df.drop(cols_to_drop, axis=1)"
   ]
  },
  {
   "cell_type": "markdown",
   "metadata": {},
   "source": [
    "## Metemos las capacidades de los maleteros"
   ]
  },
  {
   "cell_type": "code",
   "execution_count": 15,
   "metadata": {
    "collapsed": true
   },
   "outputs": [],
   "source": [
    "data = [140, 185, 505, 465, 530, 535, 292, 390, 480, 445, 530, 460, 440, 270, 310, 380, 350, 280, 364, 480, 130, 175, 488, 480, 470, 520, 540, 421, 550, 690, 680, 345, 225, 278, 860, 285, 490, 560, 356, 145, 280, 425, 380, 587, 610, 486, 680, 1975, 423, 243, 505, 512, 460, 430, 621, 547, 560]\n",
    "s = ['124 SPIDER', '595', 'A4 ALLROAD', 'A5', 'A6 ALLROAD', 'A7', 'TT', 'SERIE 2', 'SERIE 3', 'SERIE 4', 'SERIE 5', 'SERIE 6', 'TIPO', 'KA','F-TYPE', 'CEED', 'CX-3', 'MAZDA2', 'MAZDA3', 'MAZDA6', 'MX-5', 'AMG GT', 'CLASE B', 'CLASE C', 'CLASE CLA', 'CLASE CLS', 'CLASE E', 'CLASE GLA', 'CLASE GLC', 'CLASE GLE', 'CLASE GLS', 'CLASE SL', 'CLASE SLC', 'MINI','MONTERO', 'CORSA','INSIGNIA', 'INSIGNIA COUNTRY TOURER', 'MOKKA', '911', 'BOXSTER', 'CAYMAN', 'LE\\xc3\\xb3N', 'LE\\xc3\\xb3N X-PERIENCE', 'SCOUT', 'KORANDO', 'REXTON', 'RODIUS', 'TIVOLI', 'BRZ', 'FORESTER', 'OUTBACK', 'WRX STI', 'SX4 S-CROSS', 'LAND CRUISER', 'RAV-4', 'V90 CROSS COUNTRY']\n",
    "maleteros_faltan = pd.Series(data, index=s)\n",
    "maleteros2 = pd.DataFrame({'modelo':s,'maletero_2':data})"
   ]
  },
  {
   "cell_type": "code",
   "execution_count": 16,
   "metadata": {
    "collapsed": false
   },
   "outputs": [
    {
     "data": {
      "text/html": [
       "<div>\n",
       "<style>\n",
       "    .dataframe thead tr:only-child th {\n",
       "        text-align: right;\n",
       "    }\n",
       "\n",
       "    .dataframe thead th {\n",
       "        text-align: left;\n",
       "    }\n",
       "\n",
       "    .dataframe tbody tr th {\n",
       "        vertical-align: top;\n",
       "    }\n",
       "</style>\n",
       "<table border=\"1\" class=\"dataframe\">\n",
       "  <thead>\n",
       "    <tr style=\"text-align: right;\">\n",
       "      <th></th>\n",
       "      <th>MODELOS</th>\n",
       "      <th>maletero2</th>\n",
       "    </tr>\n",
       "  </thead>\n",
       "  <tbody>\n",
       "    <tr>\n",
       "      <th>0</th>\n",
       "      <td>ALFA ROMEO MITO</td>\n",
       "      <td>270</td>\n",
       "    </tr>\n",
       "    <tr>\n",
       "      <th>1</th>\n",
       "      <td>ALFA ROMEO 4C</td>\n",
       "      <td>110</td>\n",
       "    </tr>\n",
       "    <tr>\n",
       "      <th>2</th>\n",
       "      <td>ALFA ROMEO GIULIETTA</td>\n",
       "      <td>350</td>\n",
       "    </tr>\n",
       "    <tr>\n",
       "      <th>3</th>\n",
       "      <td>ALFA ROMEO GIULIA</td>\n",
       "      <td>480</td>\n",
       "    </tr>\n",
       "    <tr>\n",
       "      <th>4</th>\n",
       "      <td>ALFA ROMEO STELVIO</td>\n",
       "      <td>525</td>\n",
       "    </tr>\n",
       "  </tbody>\n",
       "</table>\n",
       "</div>"
      ],
      "text/plain": [
       "                MODELOS  maletero2\n",
       "0       ALFA ROMEO MITO        270\n",
       "1         ALFA ROMEO 4C        110\n",
       "2  ALFA ROMEO GIULIETTA        350\n",
       "3     ALFA ROMEO GIULIA        480\n",
       "4    ALFA ROMEO STELVIO        525"
      ]
     },
     "execution_count": 16,
     "metadata": {},
     "output_type": "execute_result"
    }
   ],
   "source": [
    "maleteros['maletero2'] = maleteros.maletero\n",
    "maleteros.drop('maletero',axis=1,inplace=True)\n",
    "maleteros.drop('marca',axis=1,inplace=True)\n",
    "maleteros.head()"
   ]
  },
  {
   "cell_type": "code",
   "execution_count": 17,
   "metadata": {
    "collapsed": true
   },
   "outputs": [],
   "source": [
    "df_maleteros_1 = pd.merge(df,maleteros,how='outer')\n",
    "df_maleteros_1.drop(df_maleteros_1[df_maleteros_1['marca'].isnull()].index,inplace=True)"
   ]
  },
  {
   "cell_type": "code",
   "execution_count": 18,
   "metadata": {
    "collapsed": true
   },
   "outputs": [],
   "source": [
    "df_maleteros_2 = pd.merge(df_maleteros_1,maleteros2,how='outer')"
   ]
  },
  {
   "cell_type": "code",
   "execution_count": 19,
   "metadata": {
    "collapsed": false
   },
   "outputs": [],
   "source": [
    "def suma_maleteros(row):\n",
    "    if(np.isnan(row['maletero2'])):\n",
    "       return row['maletero_2']       \n",
    "    else:\n",
    "       return row['maletero2']\n",
    "       \n"
   ]
  },
  {
   "cell_type": "code",
   "execution_count": 20,
   "metadata": {
    "collapsed": false
   },
   "outputs": [],
   "source": [
    "df_maleteros_2['maletero'] = df_maleteros_2.apply(suma_maleteros, axis=1)\n",
    "df_maleteros_2.drop(['maletero2','maletero_2'], axis=1, inplace=True)\n",
    "df_maleteros_2['maletero'] = df_maleteros_2['maletero'].astype(float)"
   ]
  },
  {
   "cell_type": "markdown",
   "metadata": {},
   "source": [
    "### Creamos la variable tipo de marca, para identificar marcas generalistas, premiums y gran lujo "
   ]
  },
  {
   "cell_type": "code",
   "execution_count": 21,
   "metadata": {
    "collapsed": true
   },
   "outputs": [],
   "source": [
    "df2 = df_maleteros_2"
   ]
  },
  {
   "cell_type": "code",
   "execution_count": 22,
   "metadata": {
    "collapsed": true
   },
   "outputs": [],
   "source": [
    "marcas = ['ABARTH', 'FIAT', 'AUDI', 'BMW', 'CITROEN', 'DACIA', 'DS', 'FORD',\n",
    "       'HONDA', 'HYUNDAI', 'INFINITI', 'JAGUAR', 'JEEP', 'KIA', 'LEXUS',\n",
    "       'MASERATI', 'MAZDA', 'MERCEDES', 'MINI', 'MITSUBISHI', 'NISSAN',\n",
    "       'OPEL', 'PEUGEOT', 'PORSCHE', 'RENAULT', 'SEAT', 'SKODA', 'SMART',\n",
    "       'SSANGYONG', 'SUBARU', 'SUZUKI', 'TESLA', 'TOYOTA', 'VOLKSWAGEN',\n",
    "       'VOLVO']"
   ]
  },
  {
   "cell_type": "code",
   "execution_count": 23,
   "metadata": {
    "collapsed": true
   },
   "outputs": [],
   "source": [
    "tipos_marca = [1,1,2,2,1,1,1,1,1,1,2,2,1,1,2,3,1,2,2,1,1,1,1,3,1,1,1,1,1,1,1,3,1,1,2]"
   ]
  },
  {
   "cell_type": "code",
   "execution_count": 24,
   "metadata": {
    "collapsed": true
   },
   "outputs": [],
   "source": [
    "marcas_type = pd.DataFrame({'marca':marcas,'tipo_marca':tipos_marca})"
   ]
  },
  {
   "cell_type": "code",
   "execution_count": 25,
   "metadata": {
    "collapsed": true
   },
   "outputs": [],
   "source": [
    "df_marcas = pd.merge(df2,marcas_type,how='outer')"
   ]
  },
  {
   "cell_type": "markdown",
   "metadata": {},
   "source": [
    "### Creamos la variable segmento. Indica el segmento comercial al que pertenece el vehículo "
   ]
  },
  {
   "cell_type": "code",
   "execution_count": 26,
   "metadata": {
    "collapsed": true
   },
   "outputs": [],
   "source": [
    "df3 = df_marcas"
   ]
  },
  {
   "cell_type": "code",
   "execution_count": 27,
   "metadata": {
    "collapsed": false,
    "scrolled": true
   },
   "outputs": [],
   "source": [
    "segmentos = pd.read_csv('segmentos.csv',sep=';')\n",
    "segmentos['modelo'] = segmentos['Modelo']\n",
    "segmentos['segmento1'] = segmentos['Segmento']\n",
    "segmentos.drop(['Marca','Segmento','Modelo'], axis=1,inplace=True)"
   ]
  },
  {
   "cell_type": "code",
   "execution_count": 28,
   "metadata": {
    "collapsed": false
   },
   "outputs": [],
   "source": [
    "mod = ['595', '500L', '500X', 'PUNTO', 'A4 ALLROAD', 'A6 ALLROAD', 'I3',\n",
    "       'I8', 'C-ELYS\\xc3\\xa9E', 'C3 AIRCROSS', 'DS4 CROSSBACK', 'C-MAX',\n",
    "       'CR-V', 'HR-V', 'I10', 'I20', 'I20 ACTIVE', 'I30', 'I40', 'IX20',\n",
    "       'Q60', 'E-PACE', 'F-TYPE CONVERTIBLE', 'LC', 'GRANTURISMO',\n",
    "       'MAZDA2', 'MAZDA3', 'MAZDA6', 'AMG GT', 'COUNTRYMAN', 'I-MIEV',\n",
    "       '370Z', 'CROSSLAND X', 'GRANDLAND X', 'INSIGNIA COUNTRY TOURER',\n",
    "       '508 RXH', 'ION', 'KOLEOS', 'M\\xc3\\xa9GANE', 'SC\\xc3\\xa9NIC',\n",
    "       'TWIZY', 'LE\\xc3\\xb3N', 'LE\\xc3\\xb3N X-PERIENCE', 'MII', 'KODIAQ',\n",
    "       'SCOUT', 'BRZ', 'WRX STI', 'IGNIS', 'GT86', 'LAND CRUISER',\n",
    "       'ARTEON', 'GOLF ALLTRACK', 'PASSAT ALLTRACK', 'UP',\n",
    "       'V90 CROSS COUNTRY', 'XC60', 'XC90']\n",
    "\n",
    "seg = ['Superutilitario', 'Monovolumen polivalente', 'TTE Pequeño', 'Utilitario/Polivalente', 'Familiar', 'Familiar', 'Monovolumen polivalente',\n",
    "       'Deportivo alto', 'Berlina', 'Monovolumen polivalente', 'Compacto', 'Monovolumen compacto',\n",
    "       'TTE Familiar', 'TTE Compacto', 'Superutilitario', 'Utilitario/Polivalente', 'Utilitario/Polivalente', 'Compacto', 'Familiar', 'Monovolumen polivalente',\n",
    "       'Deportivo alto', 'TTE Compacto', 'Deportivo alto', 'Deportivo alto', 'Gran lujo',\n",
    "       'Utilitario/Polivalente', 'Compacto', 'Berlina', 'Deportivo alto', 'TTE Peque\\xc3\\xb1o', 'Superutilitario',\n",
    "       'Deportivo bajo', 'TTE Pequeño', 'TTE Compacto', 'Familiar',\n",
    "       'Familiar', 'Superutilitario', 'TTE Familiar', 'Compacto', 'Monovolumen familiar',\n",
    "       'Superutilitario', 'Compacto', 'Familiar', 'Superutilitario', 'TTE Familiar',\n",
    "       'Familiar', 'Deportivo bajo', 'Compacto', 'Superutilitario', 'Deportivo bajo', 'TTE Superior',\n",
    "       'Berlina', 'Familiar', 'Familiar', 'Superutilitario',\n",
    "       'Familiar', 'TTE Familiar', 'TTE Superior']\n",
    "\n",
    "segmentos2 = pd.DataFrame({'modelo':mod, 'segmento2':seg})"
   ]
  },
  {
   "cell_type": "code",
   "execution_count": 29,
   "metadata": {
    "collapsed": false
   },
   "outputs": [],
   "source": [
    "df_segmentos = pd.merge(df3,segmentos,how='outer')\n",
    "df_segmentos.drop(df_segmentos[df_segmentos['marca'].isnull()].index,inplace=True)"
   ]
  },
  {
   "cell_type": "code",
   "execution_count": 30,
   "metadata": {
    "collapsed": true
   },
   "outputs": [],
   "source": [
    "df_segmentos_2 = pd.merge(df_segmentos,segmentos2,how='outer')\n",
    "df_segmentos_2.drop(df_segmentos_2[df_segmentos_2['marca'].isnull()].index,inplace=True)"
   ]
  },
  {
   "cell_type": "code",
   "execution_count": 31,
   "metadata": {
    "collapsed": false,
    "scrolled": true
   },
   "outputs": [],
   "source": [
    "df_segmentos_2['segmento'] = df_segmentos_2.segmento1.combine_first(df_segmentos_2.segmento2)\n",
    "df_segmentos_2.drop(['segmento1','segmento2'],axis=1,inplace=True)"
   ]
  },
  {
   "cell_type": "markdown",
   "metadata": {},
   "source": [
    "### Eliminamos vehículos especiales como el Renault Twizy "
   ]
  },
  {
   "cell_type": "code",
   "execution_count": 32,
   "metadata": {
    "collapsed": false
   },
   "outputs": [],
   "source": [
    "df4 = df_segmentos_2"
   ]
  },
  {
   "cell_type": "code",
   "execution_count": 33,
   "metadata": {
    "collapsed": false
   },
   "outputs": [],
   "source": [
    "row_twizy = df4[df4.cv==17].index\n",
    "df4.drop(row_twizy, inplace=True)"
   ]
  },
  {
   "cell_type": "code",
   "execution_count": 34,
   "metadata": {
    "collapsed": true
   },
   "outputs": [],
   "source": [
    "def longitud(carroceria):\n",
    "    return carroceria[:4]"
   ]
  },
  {
   "cell_type": "code",
   "execution_count": 35,
   "metadata": {
    "collapsed": false
   },
   "outputs": [],
   "source": [
    "df4['longitud'] = df4['carroceria'].apply(longitud)\n",
    "df4.drop('carroceria',axis=1,inplace=True)\n",
    "df4['longitud'] = df4['longitud'].astype(float)\n",
    "df4['Segmento'] = df4['segmento'].astype('category')\n",
    "df4['marca'] = df4['marca'].astype('category')"
   ]
  },
  {
   "cell_type": "markdown",
   "metadata": {},
   "source": [
    "### Agrupamos tipos de tracción: ['trasera', 'delantera', 'total'] "
   ]
  },
  {
   "cell_type": "code",
   "execution_count": 36,
   "metadata": {
    "collapsed": false
   },
   "outputs": [],
   "source": [
    "tracciones_totales = ['Todo terreno tracción total permanente', 'total permanente', 'Todo terreno tracción total conectable', 'total conectable']\n",
    "\n",
    "def traccion(row):\n",
    "    if(str.strip(row['traccion']) in tracciones_totales):\n",
    "        return 'total'\n",
    "    else:\n",
    "        return row['traccion']\n",
    "    "
   ]
  },
  {
   "cell_type": "code",
   "execution_count": 37,
   "metadata": {
    "collapsed": false,
    "scrolled": true
   },
   "outputs": [
    {
     "data": {
      "text/plain": [
       "array(['trasera', 'delantera', 'total'], dtype=object)"
      ]
     },
     "execution_count": 37,
     "metadata": {},
     "output_type": "execute_result"
    }
   ],
   "source": [
    "df4['tipo_traccion'] = df4.apply(traccion,axis=1)\n",
    "df4['traccion'] = df4['tipo_traccion']\n",
    "df4.drop('tipo_traccion',axis=1,inplace=True)\n",
    "df4['traccion'].unique()"
   ]
  },
  {
   "cell_type": "markdown",
   "metadata": {},
   "source": [
    "## Preparar el Dataframe para el cálculo de distancias "
   ]
  },
  {
   "cell_type": "markdown",
   "metadata": {},
   "source": [
    "#### Eliminamos las columnas categóricas que sirven para identificar al vehículo, pero que no toman parte en el cálculo de distancias sobre ellas "
   ]
  },
  {
   "cell_type": "code",
   "execution_count": 38,
   "metadata": {
    "collapsed": true
   },
   "outputs": [],
   "source": [
    "cols_descriptivas = ['marca','MODELOS']\n",
    "df4.drop(cols_descriptivas, axis=1,inplace=True)\n",
    "df4['cambio'] = df4['cambio'].apply(str.strip)"
   ]
  },
  {
   "cell_type": "markdown",
   "metadata": {},
   "source": [
    "### Agrupamos los tipos de cambio en Automático, automatizado y manual"
   ]
  },
  {
   "cell_type": "code",
   "execution_count": 39,
   "metadata": {
    "collapsed": true
   },
   "outputs": [],
   "source": [
    "cambios_automaticos = ['Automática secuencial', 'Directo. sin caja de cambios', 'Automática continua. secuencial', 'Automática', 'Automática continua']"
   ]
  },
  {
   "cell_type": "code",
   "execution_count": 40,
   "metadata": {
    "collapsed": true
   },
   "outputs": [],
   "source": [
    "def orden_cambios(row):\n",
    "    if row['cambio'] in cambios_automaticos:\n",
    "        return 'automatico'\n",
    "    elif (row['cambio']=='Manual automatizada'):\n",
    "        return row['cambio']\n",
    "    else:\n",
    "        return 'manual'"
   ]
  },
  {
   "cell_type": "code",
   "execution_count": 41,
   "metadata": {
    "collapsed": true
   },
   "outputs": [],
   "source": [
    "df4['cambio_marchas'] = df4.apply(orden_cambios,axis=1)\n",
    "df4.cambio = df4.cambio_marchas\n",
    "df4.drop('cambio_marchas', axis=1,inplace=True)"
   ]
  },
  {
   "cell_type": "markdown",
   "metadata": {},
   "source": [
    "### Codificamos el tipo de tracción Delantera->1; Trasera 0.5; Total->0\n"
   ]
  },
  {
   "cell_type": "code",
   "execution_count": 42,
   "metadata": {
    "collapsed": true
   },
   "outputs": [],
   "source": [
    "def cod_traccion(row):\n",
    "    if(row['traccion'].strip()=='delantera'):\n",
    "        return 1\n",
    "    elif(row['traccion'].strip()=='trasera'):\n",
    "        return 0.5\n",
    "    else:\n",
    "        return 0"
   ]
  },
  {
   "cell_type": "code",
   "execution_count": 43,
   "metadata": {
    "collapsed": false
   },
   "outputs": [],
   "source": [
    "df4['cod_tra'] = df4.apply(cod_traccion,axis=1)\n",
    "df4['traccion'] = df4['cod_tra']\n",
    "df4['traccion'] = df4['traccion'].astype(float)\n",
    "df4.drop('cod_tra',axis=1,inplace=True)"
   ]
  },
  {
   "cell_type": "markdown",
   "metadata": {},
   "source": [
    "### Codificamos combustible:\n",
    "\n",
    "#### Vamos a codificar los tipos de combustible (realmente, energía) con las que trabaja el veícuhlo. Tratamos de ordenar por limpieza medioambiental, comenzando por eléctricos puros hasta llegar a los vehículos diésel."
   ]
  },
  {
   "cell_type": "code",
   "execution_count": 44,
   "metadata": {
    "collapsed": true
   },
   "outputs": [],
   "source": [
    "hibridos = ['Diesel y corriente eléctrica', 'Gasolina y corriente eléctrica']\n",
    "\n",
    "def cod_comb(row):\n",
    "    if(row['combustible']=='Corriente eléctrica'):\n",
    "        return 1\n",
    "    elif(row['combustible'] in hibridos):\n",
    "        return 0.75\n",
    "    elif(row['combustible']=='Gasolina/gas'):\n",
    "        return 0.5\n",
    "    elif(row['combustible']=='Gasolina'):\n",
    "        return 0.25\n",
    "    else:\n",
    "        return 0"
   ]
  },
  {
   "cell_type": "code",
   "execution_count": 45,
   "metadata": {
    "collapsed": true
   },
   "outputs": [],
   "source": [
    "df4.combustible = df4.combustible.apply(str.strip)\n",
    "df4['cod_comb'] = df4.apply(cod_comb,axis=1)\n",
    "df4['combustible'] = df4['cod_comb']\n",
    "df4.drop('cod_comb',axis=1,inplace=True)"
   ]
  },
  {
   "cell_type": "markdown",
   "metadata": {},
   "source": [
    "### Codificamos el cambio de marchas "
   ]
  },
  {
   "cell_type": "code",
   "execution_count": 46,
   "metadata": {
    "collapsed": true
   },
   "outputs": [],
   "source": [
    "def cod_cambio(row):\n",
    "    if(row['cambio']=='manual'):\n",
    "        return 1\n",
    "    elif(row['cambio']=='Manual automatizada'):\n",
    "        return 0.5\n",
    "    else:\n",
    "        return 0"
   ]
  },
  {
   "cell_type": "code",
   "execution_count": 47,
   "metadata": {
    "collapsed": true
   },
   "outputs": [],
   "source": [
    "df4['cod_camb'] = df4.apply(cod_cambio,axis=1)\n",
    "df4['cambio'] = df4['cod_camb']\n",
    "df4.drop('cod_camb',axis=1,inplace=True)"
   ]
  },
  {
   "cell_type": "markdown",
   "metadata": {},
   "source": [
    "### Codificamos el segmento al que pertenece el vehículo, aunque en el futuro quizás sólo tome parte para filtrar los requisitos del usuario. "
   ]
  },
  {
   "cell_type": "code",
   "execution_count": 48,
   "metadata": {
    "collapsed": true
   },
   "outputs": [],
   "source": [
    "def cod_seg(row):\n",
    "    if(row['Segmento']=='Superutilitario'):\n",
    "        return 0\n",
    "    elif(row['Segmento']=='Deportivo bajo'):\n",
    "        return 2\n",
    "    elif(row['Segmento']=='Utilitario/Polivalente'):\n",
    "        return 8\n",
    "    elif(row['Segmento']=='Monovolumen polivalente'):\n",
    "        return 17\n",
    "    elif(row['Segmento']=='Compacto'):\n",
    "        return 10\n",
    "    elif(row['Segmento']=='TTE Pequeño'):\n",
    "        return 12\n",
    "    elif(row['Segmento']=='TTE Compacto'):\n",
    "        return 20\n",
    "    elif(row['Segmento']=='Berlina'):\n",
    "        return 27\n",
    "    elif(row['Segmento']=='Familiar'):\n",
    "        return 30\n",
    "    elif(row['Segmento']=='Monovolumen compacto'):\n",
    "        return 40\n",
    "    elif(row['Segmento']=='Monovolumen familiar'):\n",
    "        return 42\n",
    "    elif(row['Segmento']=='TTE Familiar'):\n",
    "        return 45\n",
    "    elif(row['Segmento']=='TTE Superior'):\n",
    "        return 60\n",
    "    elif(row['Segmento']=='Gran lujo'):\n",
    "        return 80\n",
    "    elif(row['Segmento']=='Deportivo alto'):\n",
    "        return 100"
   ]
  },
  {
   "cell_type": "code",
   "execution_count": 49,
   "metadata": {
    "collapsed": false
   },
   "outputs": [],
   "source": [
    "df4['cod_seg'] = df4.apply(cod_seg,axis=1)\n",
    "df4['Segmento'] = df4['cod_seg']\n",
    "df4.drop('cod_seg',axis=1,inplace=True)"
   ]
  },
  {
   "cell_type": "markdown",
   "metadata": {},
   "source": [
    "#### Cambiamos el formato de las autonomías -> eliminamos los puntos que delimitan los millares"
   ]
  },
  {
   "cell_type": "code",
   "execution_count": 50,
   "metadata": {
    "collapsed": true
   },
   "outputs": [],
   "source": [
    "def cifras(item):\n",
    "    if(item[1]=='.'):\n",
    "        return (item[0]+item[2:]).strip()\n",
    "    else:\n",
    "        return item.strip()"
   ]
  },
  {
   "cell_type": "code",
   "execution_count": 51,
   "metadata": {
    "collapsed": true
   },
   "outputs": [],
   "source": [
    "df4['autonomia2'] = df4['autonomia'].apply(cifras)\n",
    "df4['autonomia'] = df4['autonomia2']\n",
    "df4.drop('autonomia2',axis=1, inplace=True)"
   ]
  },
  {
   "cell_type": "markdown",
   "metadata": {},
   "source": [
    "#### Seteamos a tipo float las variables que falten, para su normalización "
   ]
  },
  {
   "cell_type": "code",
   "execution_count": 52,
   "metadata": {
    "collapsed": false,
    "scrolled": true
   },
   "outputs": [],
   "source": [
    "df4['Segmento'] = df4['Segmento'].astype(float)\n",
    "df4['puertas'] = df4['puertas'].astype(float)\n",
    "df4['autonomia'] = df4['autonomia'].astype(float)\n"
   ]
  },
  {
   "cell_type": "code",
   "execution_count": 53,
   "metadata": {
    "collapsed": false
   },
   "outputs": [],
   "source": [
    "df4 = df4.drop_duplicates()\n",
    "df4 = df4.dropna()"
   ]
  },
  {
   "cell_type": "markdown",
   "metadata": {},
   "source": [
    "#### Sacamos las columnas identificativas de los vehículos ya que no van a ser normalizadas y utilizadas en el cálculo de distancias. ."
   ]
  },
  {
   "cell_type": "code",
   "execution_count": 54,
   "metadata": {
    "collapsed": false
   },
   "outputs": [],
   "source": [
    "datos_sin_normalizar = df4.drop(['modelo','version','segmento'],axis=1)\n"
   ]
  },
  {
   "cell_type": "markdown",
   "metadata": {},
   "source": [
    "### Función que normaliza los datos conforme al mínimo. "
   ]
  },
  {
   "cell_type": "code",
   "execution_count": 55,
   "metadata": {
    "collapsed": false
   },
   "outputs": [],
   "source": [
    "def normalize(df):\n",
    "    result = df.copy()\n",
    "    for feature_name in df.columns:\n",
    "        max_value = df[feature_name].max()\n",
    "        min_value = df[feature_name].min()\n",
    "        result[feature_name] = (df[feature_name] - min_value) / (max_value - min_value)\n",
    "    return result   "
   ]
  },
  {
   "cell_type": "code",
   "execution_count": 56,
   "metadata": {
    "collapsed": false
   },
   "outputs": [],
   "source": [
    "normalizada = normalize(datos_sin_normalizar)"
   ]
  },
  {
   "cell_type": "markdown",
   "metadata": {},
   "source": [
    "# Calcular distancias euclídeas"
   ]
  },
  {
   "cell_type": "code",
   "execution_count": 57,
   "metadata": {
    "collapsed": true
   },
   "outputs": [],
   "source": [
    "from scipy.spatial import distance"
   ]
  },
  {
   "cell_type": "code",
   "execution_count": 58,
   "metadata": {
    "collapsed": true
   },
   "outputs": [],
   "source": [
    "array_norm = normalizada.values\n",
    "df_listado = df4[['modelo','version','precio','segmento']]"
   ]
  },
  {
   "cell_type": "code",
   "execution_count": 59,
   "metadata": {
    "collapsed": false
   },
   "outputs": [],
   "source": [
    "def recomienda_50(index):\n",
    "\n",
    "    recorrido = range(len(normalizada))\n",
    "    distancias = []\n",
    "\n",
    "    for i in recorrido:\n",
    "        distancias.append(distance.euclidean(array_norm[index], array_norm[i]))\n",
    "        \n",
    "    df_dist = pd.DataFrame({'dist':distancias, 'ind':recorrido})\n",
    "    \n",
    "    return df_dist.sort_values('dist', ascending=True).head(50).index"
   ]
  },
  {
   "cell_type": "code",
   "execution_count": 60,
   "metadata": {
    "collapsed": false
   },
   "outputs": [
    {
     "name": "stdout",
     "output_type": "stream",
     "text": [
      "CPU times: user 2 µs, sys: 2 µs, total: 4 µs\n",
      "Wall time: 7.15 µs\n"
     ]
    }
   ],
   "source": [
    "%time\n",
    "resultado = recomienda_50(811)"
   ]
  },
  {
   "cell_type": "code",
   "execution_count": 66,
   "metadata": {
    "collapsed": false
   },
   "outputs": [
    {
     "data": {
      "text/html": [
       "<div>\n",
       "<style>\n",
       "    .dataframe thead tr:only-child th {\n",
       "        text-align: right;\n",
       "    }\n",
       "\n",
       "    .dataframe thead th {\n",
       "        text-align: left;\n",
       "    }\n",
       "\n",
       "    .dataframe tbody tr th {\n",
       "        vertical-align: top;\n",
       "    }\n",
       "</style>\n",
       "<table border=\"1\" class=\"dataframe\">\n",
       "  <thead>\n",
       "    <tr style=\"text-align: right;\">\n",
       "      <th></th>\n",
       "      <th>modelo</th>\n",
       "      <th>version</th>\n",
       "      <th>precio</th>\n",
       "      <th>puertas</th>\n",
       "      <th>combustible</th>\n",
       "      <th>traccion</th>\n",
       "      <th>cv</th>\n",
       "      <th>cambio</th>\n",
       "      <th>n_marchas</th>\n",
       "      <th>co2</th>\n",
       "      <th>autonomia</th>\n",
       "      <th>consumo</th>\n",
       "      <th>garantia</th>\n",
       "      <th>capacidad deposito</th>\n",
       "      <th>0_a_100</th>\n",
       "      <th>maletero</th>\n",
       "      <th>tipo_marca</th>\n",
       "      <th>segmento</th>\n",
       "      <th>longitud</th>\n",
       "      <th>Segmento</th>\n",
       "    </tr>\n",
       "  </thead>\n",
       "  <tbody>\n",
       "    <tr>\n",
       "      <th>811</th>\n",
       "      <td>SERIE 3</td>\n",
       "      <td>320d</td>\n",
       "      <td>27943.0</td>\n",
       "      <td>4.0</td>\n",
       "      <td>0.00</td>\n",
       "      <td>0.5</td>\n",
       "      <td>190.0</td>\n",
       "      <td>1.0</td>\n",
       "      <td>6.0</td>\n",
       "      <td>106.0</td>\n",
       "      <td>1425.0</td>\n",
       "      <td>4.0</td>\n",
       "      <td>36.0</td>\n",
       "      <td>57.0</td>\n",
       "      <td>7.3</td>\n",
       "      <td>480.0</td>\n",
       "      <td>2.0</td>\n",
       "      <td>Deportivo bajo</td>\n",
       "      <td>4633.0</td>\n",
       "      <td>2.0</td>\n",
       "    </tr>\n",
       "    <tr>\n",
       "      <th>783</th>\n",
       "      <td>SERIE 3</td>\n",
       "      <td>318i</td>\n",
       "      <td>23461.0</td>\n",
       "      <td>4.0</td>\n",
       "      <td>0.25</td>\n",
       "      <td>0.5</td>\n",
       "      <td>136.0</td>\n",
       "      <td>1.0</td>\n",
       "      <td>6.0</td>\n",
       "      <td>119.0</td>\n",
       "      <td>1176.5</td>\n",
       "      <td>5.1</td>\n",
       "      <td>36.0</td>\n",
       "      <td>60.0</td>\n",
       "      <td>8.9</td>\n",
       "      <td>480.0</td>\n",
       "      <td>2.0</td>\n",
       "      <td>Deportivo bajo</td>\n",
       "      <td>4633.0</td>\n",
       "      <td>2.0</td>\n",
       "    </tr>\n",
       "    <tr>\n",
       "      <th>823</th>\n",
       "      <td>SERIE 3</td>\n",
       "      <td>320iA</td>\n",
       "      <td>29526.0</td>\n",
       "      <td>4.0</td>\n",
       "      <td>0.25</td>\n",
       "      <td>0.5</td>\n",
       "      <td>184.0</td>\n",
       "      <td>0.0</td>\n",
       "      <td>8.0</td>\n",
       "      <td>124.0</td>\n",
       "      <td>1132.1</td>\n",
       "      <td>5.3</td>\n",
       "      <td>36.0</td>\n",
       "      <td>60.0</td>\n",
       "      <td>7.3</td>\n",
       "      <td>480.0</td>\n",
       "      <td>2.0</td>\n",
       "      <td>Deportivo bajo</td>\n",
       "      <td>4633.0</td>\n",
       "      <td>2.0</td>\n",
       "    </tr>\n",
       "    <tr>\n",
       "      <th>759</th>\n",
       "      <td>SERIE 2</td>\n",
       "      <td>218iA Coupé (4.75)</td>\n",
       "      <td>30546.0</td>\n",
       "      <td>2.0</td>\n",
       "      <td>0.25</td>\n",
       "      <td>0.5</td>\n",
       "      <td>136.0</td>\n",
       "      <td>0.0</td>\n",
       "      <td>8.0</td>\n",
       "      <td>124.0</td>\n",
       "      <td>981.1</td>\n",
       "      <td>5.3</td>\n",
       "      <td>36.0</td>\n",
       "      <td>52.0</td>\n",
       "      <td>8.9</td>\n",
       "      <td>390.0</td>\n",
       "      <td>2.0</td>\n",
       "      <td>Compacto</td>\n",
       "      <td>4432.0</td>\n",
       "      <td>10.0</td>\n",
       "    </tr>\n",
       "    <tr>\n",
       "      <th>817</th>\n",
       "      <td>SERIE 3</td>\n",
       "      <td>320i Touring</td>\n",
       "      <td>29074.0</td>\n",
       "      <td>5.0</td>\n",
       "      <td>0.25</td>\n",
       "      <td>0.5</td>\n",
       "      <td>184.0</td>\n",
       "      <td>1.0</td>\n",
       "      <td>6.0</td>\n",
       "      <td>137.0</td>\n",
       "      <td>1016.9</td>\n",
       "      <td>5.9</td>\n",
       "      <td>36.0</td>\n",
       "      <td>60.0</td>\n",
       "      <td>7.5</td>\n",
       "      <td>480.0</td>\n",
       "      <td>2.0</td>\n",
       "      <td>Deportivo bajo</td>\n",
       "      <td>4633.0</td>\n",
       "      <td>2.0</td>\n",
       "    </tr>\n",
       "    <tr>\n",
       "      <th>771</th>\n",
       "      <td>SERIE 2</td>\n",
       "      <td>220dA Gran Tourer xDrive</td>\n",
       "      <td>32010.0</td>\n",
       "      <td>5.0</td>\n",
       "      <td>0.00</td>\n",
       "      <td>0.0</td>\n",
       "      <td>190.0</td>\n",
       "      <td>0.0</td>\n",
       "      <td>8.0</td>\n",
       "      <td>128.0</td>\n",
       "      <td>1244.9</td>\n",
       "      <td>4.9</td>\n",
       "      <td>36.0</td>\n",
       "      <td>61.0</td>\n",
       "      <td>7.6</td>\n",
       "      <td>390.0</td>\n",
       "      <td>2.0</td>\n",
       "      <td>Compacto</td>\n",
       "      <td>4556.0</td>\n",
       "      <td>10.0</td>\n",
       "    </tr>\n",
       "    <tr>\n",
       "      <th>805</th>\n",
       "      <td>SERIE 3</td>\n",
       "      <td>320d EfficientDynamics</td>\n",
       "      <td>27279.0</td>\n",
       "      <td>4.0</td>\n",
       "      <td>0.00</td>\n",
       "      <td>0.5</td>\n",
       "      <td>163.0</td>\n",
       "      <td>1.0</td>\n",
       "      <td>6.0</td>\n",
       "      <td>102.0</td>\n",
       "      <td>1461.5</td>\n",
       "      <td>3.9</td>\n",
       "      <td>36.0</td>\n",
       "      <td>57.0</td>\n",
       "      <td>7.9</td>\n",
       "      <td>480.0</td>\n",
       "      <td>2.0</td>\n",
       "      <td>Deportivo bajo</td>\n",
       "      <td>4633.0</td>\n",
       "      <td>2.0</td>\n",
       "    </tr>\n",
       "    <tr>\n",
       "      <th>781</th>\n",
       "      <td>SERIE 2</td>\n",
       "      <td>218d Cabrio (4.75)</td>\n",
       "      <td>33093.0</td>\n",
       "      <td>2.0</td>\n",
       "      <td>0.00</td>\n",
       "      <td>0.5</td>\n",
       "      <td>150.0</td>\n",
       "      <td>1.0</td>\n",
       "      <td>6.0</td>\n",
       "      <td>124.0</td>\n",
       "      <td>1106.4</td>\n",
       "      <td>4.7</td>\n",
       "      <td>36.0</td>\n",
       "      <td>52.0</td>\n",
       "      <td>8.9</td>\n",
       "      <td>390.0</td>\n",
       "      <td>2.0</td>\n",
       "      <td>Compacto</td>\n",
       "      <td>4432.0</td>\n",
       "      <td>10.0</td>\n",
       "    </tr>\n",
       "    <tr>\n",
       "      <th>833</th>\n",
       "      <td>SERIE 3</td>\n",
       "      <td>318d</td>\n",
       "      <td>30213.0</td>\n",
       "      <td>4.0</td>\n",
       "      <td>0.00</td>\n",
       "      <td>0.5</td>\n",
       "      <td>150.0</td>\n",
       "      <td>1.0</td>\n",
       "      <td>6.0</td>\n",
       "      <td>106.0</td>\n",
       "      <td>1425.0</td>\n",
       "      <td>4.0</td>\n",
       "      <td>36.0</td>\n",
       "      <td>57.0</td>\n",
       "      <td>8.6</td>\n",
       "      <td>480.0</td>\n",
       "      <td>2.0</td>\n",
       "      <td>Deportivo bajo</td>\n",
       "      <td>4633.0</td>\n",
       "      <td>2.0</td>\n",
       "    </tr>\n",
       "    <tr>\n",
       "      <th>749</th>\n",
       "      <td>SERIE 2</td>\n",
       "      <td>218dA Active Tourer</td>\n",
       "      <td>28963.0</td>\n",
       "      <td>5.0</td>\n",
       "      <td>0.00</td>\n",
       "      <td>1.0</td>\n",
       "      <td>150.0</td>\n",
       "      <td>0.0</td>\n",
       "      <td>8.0</td>\n",
       "      <td>113.0</td>\n",
       "      <td>1186.0</td>\n",
       "      <td>4.3</td>\n",
       "      <td>36.0</td>\n",
       "      <td>51.0</td>\n",
       "      <td>8.9</td>\n",
       "      <td>390.0</td>\n",
       "      <td>2.0</td>\n",
       "      <td>Compacto</td>\n",
       "      <td>4342.0</td>\n",
       "      <td>10.0</td>\n",
       "    </tr>\n",
       "    <tr>\n",
       "      <th>2647</th>\n",
       "      <td>MAZDA6</td>\n",
       "      <td>2.2DE Luxury (Navi) Aut. 150</td>\n",
       "      <td>30114.0</td>\n",
       "      <td>4.0</td>\n",
       "      <td>0.00</td>\n",
       "      <td>1.0</td>\n",
       "      <td>150.0</td>\n",
       "      <td>0.0</td>\n",
       "      <td>6.0</td>\n",
       "      <td>127.0</td>\n",
       "      <td>1291.7</td>\n",
       "      <td>4.8</td>\n",
       "      <td>36.0</td>\n",
       "      <td>62.0</td>\n",
       "      <td>9.8</td>\n",
       "      <td>480.0</td>\n",
       "      <td>1.0</td>\n",
       "      <td>Berlina</td>\n",
       "      <td>4865.0</td>\n",
       "      <td>27.0</td>\n",
       "    </tr>\n",
       "    <tr>\n",
       "      <th>789</th>\n",
       "      <td>SERIE 3</td>\n",
       "      <td>318i Touring</td>\n",
       "      <td>24924.0</td>\n",
       "      <td>5.0</td>\n",
       "      <td>0.25</td>\n",
       "      <td>0.5</td>\n",
       "      <td>136.0</td>\n",
       "      <td>1.0</td>\n",
       "      <td>6.0</td>\n",
       "      <td>126.0</td>\n",
       "      <td>1111.1</td>\n",
       "      <td>5.4</td>\n",
       "      <td>36.0</td>\n",
       "      <td>60.0</td>\n",
       "      <td>9.2</td>\n",
       "      <td>480.0</td>\n",
       "      <td>2.0</td>\n",
       "      <td>Deportivo bajo</td>\n",
       "      <td>4633.0</td>\n",
       "      <td>2.0</td>\n",
       "    </tr>\n",
       "    <tr>\n",
       "      <th>755</th>\n",
       "      <td>SERIE 2</td>\n",
       "      <td>218iA Active Tourer (4.75)</td>\n",
       "      <td>29663.0</td>\n",
       "      <td>5.0</td>\n",
       "      <td>0.25</td>\n",
       "      <td>1.0</td>\n",
       "      <td>136.0</td>\n",
       "      <td>0.0</td>\n",
       "      <td>6.0</td>\n",
       "      <td>124.0</td>\n",
       "      <td>962.3</td>\n",
       "      <td>5.3</td>\n",
       "      <td>36.0</td>\n",
       "      <td>51.0</td>\n",
       "      <td>9.2</td>\n",
       "      <td>390.0</td>\n",
       "      <td>2.0</td>\n",
       "      <td>Compacto</td>\n",
       "      <td>4342.0</td>\n",
       "      <td>10.0</td>\n",
       "    </tr>\n",
       "    <tr>\n",
       "      <th>761</th>\n",
       "      <td>SERIE 2</td>\n",
       "      <td>220dA Coupé</td>\n",
       "      <td>30585.0</td>\n",
       "      <td>2.0</td>\n",
       "      <td>0.00</td>\n",
       "      <td>0.5</td>\n",
       "      <td>190.0</td>\n",
       "      <td>0.0</td>\n",
       "      <td>8.0</td>\n",
       "      <td>104.0</td>\n",
       "      <td>1300.0</td>\n",
       "      <td>4.0</td>\n",
       "      <td>36.0</td>\n",
       "      <td>52.0</td>\n",
       "      <td>7.0</td>\n",
       "      <td>390.0</td>\n",
       "      <td>2.0</td>\n",
       "      <td>Compacto</td>\n",
       "      <td>4432.0</td>\n",
       "      <td>10.0</td>\n",
       "    </tr>\n",
       "    <tr>\n",
       "      <th>741</th>\n",
       "      <td>SERIE 2</td>\n",
       "      <td>220d Coupé</td>\n",
       "      <td>28546.0</td>\n",
       "      <td>2.0</td>\n",
       "      <td>0.00</td>\n",
       "      <td>0.5</td>\n",
       "      <td>190.0</td>\n",
       "      <td>1.0</td>\n",
       "      <td>6.0</td>\n",
       "      <td>107.0</td>\n",
       "      <td>1268.3</td>\n",
       "      <td>4.1</td>\n",
       "      <td>36.0</td>\n",
       "      <td>52.0</td>\n",
       "      <td>7.1</td>\n",
       "      <td>390.0</td>\n",
       "      <td>2.0</td>\n",
       "      <td>Compacto</td>\n",
       "      <td>4432.0</td>\n",
       "      <td>10.0</td>\n",
       "    </tr>\n",
       "    <tr>\n",
       "      <th>767</th>\n",
       "      <td>SERIE 2</td>\n",
       "      <td>218d Cabrio</td>\n",
       "      <td>31231.0</td>\n",
       "      <td>2.0</td>\n",
       "      <td>0.00</td>\n",
       "      <td>0.5</td>\n",
       "      <td>150.0</td>\n",
       "      <td>1.0</td>\n",
       "      <td>6.0</td>\n",
       "      <td>114.0</td>\n",
       "      <td>1209.3</td>\n",
       "      <td>4.3</td>\n",
       "      <td>36.0</td>\n",
       "      <td>52.0</td>\n",
       "      <td>8.9</td>\n",
       "      <td>390.0</td>\n",
       "      <td>2.0</td>\n",
       "      <td>Compacto</td>\n",
       "      <td>4432.0</td>\n",
       "      <td>10.0</td>\n",
       "    </tr>\n",
       "    <tr>\n",
       "      <th>632</th>\n",
       "      <td>TT</td>\n",
       "      <td>Roadster 2.0 TFSI</td>\n",
       "      <td>38447.0</td>\n",
       "      <td>2.0</td>\n",
       "      <td>0.25</td>\n",
       "      <td>1.0</td>\n",
       "      <td>230.0</td>\n",
       "      <td>1.0</td>\n",
       "      <td>6.0</td>\n",
       "      <td>140.0</td>\n",
       "      <td>833.3</td>\n",
       "      <td>6.0</td>\n",
       "      <td>24.0</td>\n",
       "      <td>50.0</td>\n",
       "      <td>6.2</td>\n",
       "      <td>292.0</td>\n",
       "      <td>2.0</td>\n",
       "      <td>Deportivo bajo</td>\n",
       "      <td>4177.0</td>\n",
       "      <td>2.0</td>\n",
       "    </tr>\n",
       "    <tr>\n",
       "      <th>620</th>\n",
       "      <td>R8</td>\n",
       "      <td>Spyder 5.2 FSI V10 quattro S-Tronic</td>\n",
       "      <td>203619.0</td>\n",
       "      <td>2.0</td>\n",
       "      <td>0.25</td>\n",
       "      <td>0.0</td>\n",
       "      <td>540.0</td>\n",
       "      <td>0.0</td>\n",
       "      <td>7.0</td>\n",
       "      <td>277.0</td>\n",
       "      <td>683.8</td>\n",
       "      <td>11.7</td>\n",
       "      <td>24.0</td>\n",
       "      <td>80.0</td>\n",
       "      <td>3.6</td>\n",
       "      <td>112.0</td>\n",
       "      <td>2.0</td>\n",
       "      <td>Deportivo alto</td>\n",
       "      <td>4426.0</td>\n",
       "      <td>100.0</td>\n",
       "    </tr>\n",
       "    <tr>\n",
       "      <th>745</th>\n",
       "      <td>SERIE 2</td>\n",
       "      <td>218dA Gran Tourer (4.75)</td>\n",
       "      <td>28771.0</td>\n",
       "      <td>5.0</td>\n",
       "      <td>0.00</td>\n",
       "      <td>1.0</td>\n",
       "      <td>150.0</td>\n",
       "      <td>0.0</td>\n",
       "      <td>8.0</td>\n",
       "      <td>126.0</td>\n",
       "      <td>1062.5</td>\n",
       "      <td>4.8</td>\n",
       "      <td>36.0</td>\n",
       "      <td>51.0</td>\n",
       "      <td>9.3</td>\n",
       "      <td>390.0</td>\n",
       "      <td>2.0</td>\n",
       "      <td>Compacto</td>\n",
       "      <td>4556.0</td>\n",
       "      <td>10.0</td>\n",
       "    </tr>\n",
       "    <tr>\n",
       "      <th>812</th>\n",
       "      <td>SERIE 3</td>\n",
       "      <td>320d</td>\n",
       "      <td>27943.0</td>\n",
       "      <td>4.0</td>\n",
       "      <td>0.00</td>\n",
       "      <td>0.5</td>\n",
       "      <td>190.0</td>\n",
       "      <td>1.0</td>\n",
       "      <td>6.0</td>\n",
       "      <td>106.0</td>\n",
       "      <td>1425.0</td>\n",
       "      <td>4.0</td>\n",
       "      <td>36.0</td>\n",
       "      <td>57.0</td>\n",
       "      <td>7.3</td>\n",
       "      <td>480.0</td>\n",
       "      <td>2.0</td>\n",
       "      <td>Familiar</td>\n",
       "      <td>4633.0</td>\n",
       "      <td>30.0</td>\n",
       "    </tr>\n",
       "    <tr>\n",
       "      <th>642</th>\n",
       "      <td>TT</td>\n",
       "      <td>Roadster 2.0 TFSI quattro S-Tronic</td>\n",
       "      <td>43485.0</td>\n",
       "      <td>2.0</td>\n",
       "      <td>0.25</td>\n",
       "      <td>0.0</td>\n",
       "      <td>230.0</td>\n",
       "      <td>0.0</td>\n",
       "      <td>6.0</td>\n",
       "      <td>154.0</td>\n",
       "      <td>746.3</td>\n",
       "      <td>6.7</td>\n",
       "      <td>24.0</td>\n",
       "      <td>50.0</td>\n",
       "      <td>5.6</td>\n",
       "      <td>292.0</td>\n",
       "      <td>2.0</td>\n",
       "      <td>Deportivo bajo</td>\n",
       "      <td>4177.0</td>\n",
       "      <td>2.0</td>\n",
       "    </tr>\n",
       "    <tr>\n",
       "      <th>784</th>\n",
       "      <td>SERIE 3</td>\n",
       "      <td>318i</td>\n",
       "      <td>23461.0</td>\n",
       "      <td>4.0</td>\n",
       "      <td>0.25</td>\n",
       "      <td>0.5</td>\n",
       "      <td>136.0</td>\n",
       "      <td>1.0</td>\n",
       "      <td>6.0</td>\n",
       "      <td>119.0</td>\n",
       "      <td>1176.5</td>\n",
       "      <td>5.1</td>\n",
       "      <td>36.0</td>\n",
       "      <td>60.0</td>\n",
       "      <td>8.9</td>\n",
       "      <td>480.0</td>\n",
       "      <td>2.0</td>\n",
       "      <td>Familiar</td>\n",
       "      <td>4633.0</td>\n",
       "      <td>30.0</td>\n",
       "    </tr>\n",
       "    <tr>\n",
       "      <th>799</th>\n",
       "      <td>SERIE 3</td>\n",
       "      <td>318d Business</td>\n",
       "      <td>26789.0</td>\n",
       "      <td>4.0</td>\n",
       "      <td>0.00</td>\n",
       "      <td>0.5</td>\n",
       "      <td>150.0</td>\n",
       "      <td>1.0</td>\n",
       "      <td>6.0</td>\n",
       "      <td>106.0</td>\n",
       "      <td>1425.0</td>\n",
       "      <td>4.0</td>\n",
       "      <td>36.0</td>\n",
       "      <td>57.0</td>\n",
       "      <td>8.6</td>\n",
       "      <td>480.0</td>\n",
       "      <td>2.0</td>\n",
       "      <td>Deportivo bajo</td>\n",
       "      <td>4633.0</td>\n",
       "      <td>2.0</td>\n",
       "    </tr>\n",
       "    <tr>\n",
       "      <th>824</th>\n",
       "      <td>SERIE 3</td>\n",
       "      <td>320iA</td>\n",
       "      <td>29526.0</td>\n",
       "      <td>4.0</td>\n",
       "      <td>0.25</td>\n",
       "      <td>0.5</td>\n",
       "      <td>184.0</td>\n",
       "      <td>0.0</td>\n",
       "      <td>8.0</td>\n",
       "      <td>124.0</td>\n",
       "      <td>1132.1</td>\n",
       "      <td>5.3</td>\n",
       "      <td>36.0</td>\n",
       "      <td>60.0</td>\n",
       "      <td>7.3</td>\n",
       "      <td>480.0</td>\n",
       "      <td>2.0</td>\n",
       "      <td>Familiar</td>\n",
       "      <td>4633.0</td>\n",
       "      <td>30.0</td>\n",
       "    </tr>\n",
       "    <tr>\n",
       "      <th>760</th>\n",
       "      <td>SERIE 2</td>\n",
       "      <td>218iA Coupé (4.75)</td>\n",
       "      <td>30546.0</td>\n",
       "      <td>2.0</td>\n",
       "      <td>0.25</td>\n",
       "      <td>0.5</td>\n",
       "      <td>136.0</td>\n",
       "      <td>0.0</td>\n",
       "      <td>8.0</td>\n",
       "      <td>124.0</td>\n",
       "      <td>981.1</td>\n",
       "      <td>5.3</td>\n",
       "      <td>36.0</td>\n",
       "      <td>52.0</td>\n",
       "      <td>8.9</td>\n",
       "      <td>390.0</td>\n",
       "      <td>2.0</td>\n",
       "      <td>Monovolumen compacto</td>\n",
       "      <td>4432.0</td>\n",
       "      <td>40.0</td>\n",
       "    </tr>\n",
       "    <tr>\n",
       "      <th>821</th>\n",
       "      <td>SERIE 3</td>\n",
       "      <td>320dA EfficientDynamics</td>\n",
       "      <td>29311.0</td>\n",
       "      <td>4.0</td>\n",
       "      <td>0.00</td>\n",
       "      <td>0.5</td>\n",
       "      <td>163.0</td>\n",
       "      <td>0.0</td>\n",
       "      <td>8.0</td>\n",
       "      <td>99.0</td>\n",
       "      <td>1500.0</td>\n",
       "      <td>3.8</td>\n",
       "      <td>36.0</td>\n",
       "      <td>57.0</td>\n",
       "      <td>7.8</td>\n",
       "      <td>480.0</td>\n",
       "      <td>2.0</td>\n",
       "      <td>Deportivo bajo</td>\n",
       "      <td>4633.0</td>\n",
       "      <td>2.0</td>\n",
       "    </tr>\n",
       "    <tr>\n",
       "      <th>818</th>\n",
       "      <td>SERIE 3</td>\n",
       "      <td>320i Touring</td>\n",
       "      <td>29074.0</td>\n",
       "      <td>5.0</td>\n",
       "      <td>0.25</td>\n",
       "      <td>0.5</td>\n",
       "      <td>184.0</td>\n",
       "      <td>1.0</td>\n",
       "      <td>6.0</td>\n",
       "      <td>137.0</td>\n",
       "      <td>1016.9</td>\n",
       "      <td>5.9</td>\n",
       "      <td>36.0</td>\n",
       "      <td>60.0</td>\n",
       "      <td>7.5</td>\n",
       "      <td>480.0</td>\n",
       "      <td>2.0</td>\n",
       "      <td>Familiar</td>\n",
       "      <td>4633.0</td>\n",
       "      <td>30.0</td>\n",
       "    </tr>\n",
       "    <tr>\n",
       "      <th>772</th>\n",
       "      <td>SERIE 2</td>\n",
       "      <td>220dA Gran Tourer xDrive</td>\n",
       "      <td>32010.0</td>\n",
       "      <td>5.0</td>\n",
       "      <td>0.00</td>\n",
       "      <td>0.0</td>\n",
       "      <td>190.0</td>\n",
       "      <td>0.0</td>\n",
       "      <td>8.0</td>\n",
       "      <td>128.0</td>\n",
       "      <td>1244.9</td>\n",
       "      <td>4.9</td>\n",
       "      <td>36.0</td>\n",
       "      <td>61.0</td>\n",
       "      <td>7.6</td>\n",
       "      <td>390.0</td>\n",
       "      <td>2.0</td>\n",
       "      <td>Monovolumen compacto</td>\n",
       "      <td>4556.0</td>\n",
       "      <td>40.0</td>\n",
       "    </tr>\n",
       "    <tr>\n",
       "      <th>773</th>\n",
       "      <td>SERIE 2</td>\n",
       "      <td>220dA Gran Tourer (4.75)</td>\n",
       "      <td>32109.0</td>\n",
       "      <td>5.0</td>\n",
       "      <td>0.00</td>\n",
       "      <td>1.0</td>\n",
       "      <td>190.0</td>\n",
       "      <td>0.0</td>\n",
       "      <td>8.0</td>\n",
       "      <td>122.0</td>\n",
       "      <td>1108.7</td>\n",
       "      <td>4.6</td>\n",
       "      <td>36.0</td>\n",
       "      <td>51.0</td>\n",
       "      <td>7.8</td>\n",
       "      <td>390.0</td>\n",
       "      <td>2.0</td>\n",
       "      <td>Compacto</td>\n",
       "      <td>4556.0</td>\n",
       "      <td>10.0</td>\n",
       "    </tr>\n",
       "    <tr>\n",
       "      <th>2641</th>\n",
       "      <td>MAZDA6</td>\n",
       "      <td>2.2DE Luxury (Navi) 175</td>\n",
       "      <td>28739.0</td>\n",
       "      <td>4.0</td>\n",
       "      <td>0.00</td>\n",
       "      <td>1.0</td>\n",
       "      <td>175.0</td>\n",
       "      <td>1.0</td>\n",
       "      <td>6.0</td>\n",
       "      <td>119.0</td>\n",
       "      <td>1377.8</td>\n",
       "      <td>4.5</td>\n",
       "      <td>36.0</td>\n",
       "      <td>62.0</td>\n",
       "      <td>7.9</td>\n",
       "      <td>480.0</td>\n",
       "      <td>1.0</td>\n",
       "      <td>Berlina</td>\n",
       "      <td>4865.0</td>\n",
       "      <td>27.0</td>\n",
       "    </tr>\n",
       "    <tr>\n",
       "      <th>806</th>\n",
       "      <td>SERIE 3</td>\n",
       "      <td>320d EfficientDynamics</td>\n",
       "      <td>27279.0</td>\n",
       "      <td>4.0</td>\n",
       "      <td>0.00</td>\n",
       "      <td>0.5</td>\n",
       "      <td>163.0</td>\n",
       "      <td>1.0</td>\n",
       "      <td>6.0</td>\n",
       "      <td>102.0</td>\n",
       "      <td>1461.5</td>\n",
       "      <td>3.9</td>\n",
       "      <td>36.0</td>\n",
       "      <td>57.0</td>\n",
       "      <td>7.9</td>\n",
       "      <td>480.0</td>\n",
       "      <td>2.0</td>\n",
       "      <td>Familiar</td>\n",
       "      <td>4633.0</td>\n",
       "      <td>30.0</td>\n",
       "    </tr>\n",
       "    <tr>\n",
       "      <th>2633</th>\n",
       "      <td>MAZDA6</td>\n",
       "      <td>2.2DE Style+ 150</td>\n",
       "      <td>26618.0</td>\n",
       "      <td>4.0</td>\n",
       "      <td>0.00</td>\n",
       "      <td>1.0</td>\n",
       "      <td>150.0</td>\n",
       "      <td>1.0</td>\n",
       "      <td>6.0</td>\n",
       "      <td>104.0</td>\n",
       "      <td>1589.7</td>\n",
       "      <td>3.9</td>\n",
       "      <td>36.0</td>\n",
       "      <td>62.0</td>\n",
       "      <td>9.1</td>\n",
       "      <td>480.0</td>\n",
       "      <td>1.0</td>\n",
       "      <td>Berlina</td>\n",
       "      <td>4865.0</td>\n",
       "      <td>27.0</td>\n",
       "    </tr>\n",
       "    <tr>\n",
       "      <th>782</th>\n",
       "      <td>SERIE 2</td>\n",
       "      <td>218d Cabrio (4.75)</td>\n",
       "      <td>33093.0</td>\n",
       "      <td>2.0</td>\n",
       "      <td>0.00</td>\n",
       "      <td>0.5</td>\n",
       "      <td>150.0</td>\n",
       "      <td>1.0</td>\n",
       "      <td>6.0</td>\n",
       "      <td>124.0</td>\n",
       "      <td>1106.4</td>\n",
       "      <td>4.7</td>\n",
       "      <td>36.0</td>\n",
       "      <td>52.0</td>\n",
       "      <td>8.9</td>\n",
       "      <td>390.0</td>\n",
       "      <td>2.0</td>\n",
       "      <td>Monovolumen compacto</td>\n",
       "      <td>4432.0</td>\n",
       "      <td>40.0</td>\n",
       "    </tr>\n",
       "    <tr>\n",
       "      <th>834</th>\n",
       "      <td>SERIE 3</td>\n",
       "      <td>318d</td>\n",
       "      <td>30213.0</td>\n",
       "      <td>4.0</td>\n",
       "      <td>0.00</td>\n",
       "      <td>0.5</td>\n",
       "      <td>150.0</td>\n",
       "      <td>1.0</td>\n",
       "      <td>6.0</td>\n",
       "      <td>106.0</td>\n",
       "      <td>1425.0</td>\n",
       "      <td>4.0</td>\n",
       "      <td>36.0</td>\n",
       "      <td>57.0</td>\n",
       "      <td>8.6</td>\n",
       "      <td>480.0</td>\n",
       "      <td>2.0</td>\n",
       "      <td>Familiar</td>\n",
       "      <td>4633.0</td>\n",
       "      <td>30.0</td>\n",
       "    </tr>\n",
       "    <tr>\n",
       "      <th>750</th>\n",
       "      <td>SERIE 2</td>\n",
       "      <td>218dA Active Tourer</td>\n",
       "      <td>28963.0</td>\n",
       "      <td>5.0</td>\n",
       "      <td>0.00</td>\n",
       "      <td>1.0</td>\n",
       "      <td>150.0</td>\n",
       "      <td>0.0</td>\n",
       "      <td>8.0</td>\n",
       "      <td>113.0</td>\n",
       "      <td>1186.0</td>\n",
       "      <td>4.3</td>\n",
       "      <td>36.0</td>\n",
       "      <td>51.0</td>\n",
       "      <td>8.9</td>\n",
       "      <td>390.0</td>\n",
       "      <td>2.0</td>\n",
       "      <td>Monovolumen compacto</td>\n",
       "      <td>4342.0</td>\n",
       "      <td>40.0</td>\n",
       "    </tr>\n",
       "    <tr>\n",
       "      <th>908</th>\n",
       "      <td>SERIE 4</td>\n",
       "      <td>420d Cabrio</td>\n",
       "      <td>40607.0</td>\n",
       "      <td>2.0</td>\n",
       "      <td>0.00</td>\n",
       "      <td>0.5</td>\n",
       "      <td>190.0</td>\n",
       "      <td>1.0</td>\n",
       "      <td>6.0</td>\n",
       "      <td>127.0</td>\n",
       "      <td>1187.5</td>\n",
       "      <td>4.8</td>\n",
       "      <td>36.0</td>\n",
       "      <td>57.0</td>\n",
       "      <td>8.1</td>\n",
       "      <td>445.0</td>\n",
       "      <td>2.0</td>\n",
       "      <td>Familiar</td>\n",
       "      <td>4640.0</td>\n",
       "      <td>30.0</td>\n",
       "    </tr>\n",
       "    <tr>\n",
       "      <th>903</th>\n",
       "      <td>SERIE 4</td>\n",
       "      <td>430iA Coupé xDrive</td>\n",
       "      <td>40091.0</td>\n",
       "      <td>2.0</td>\n",
       "      <td>0.25</td>\n",
       "      <td>0.0</td>\n",
       "      <td>252.0</td>\n",
       "      <td>0.0</td>\n",
       "      <td>8.0</td>\n",
       "      <td>138.0</td>\n",
       "      <td>1016.9</td>\n",
       "      <td>5.9</td>\n",
       "      <td>36.0</td>\n",
       "      <td>60.0</td>\n",
       "      <td>5.8</td>\n",
       "      <td>445.0</td>\n",
       "      <td>2.0</td>\n",
       "      <td>Deportivo bajo</td>\n",
       "      <td>4640.0</td>\n",
       "      <td>2.0</td>\n",
       "    </tr>\n",
       "    <tr>\n",
       "      <th>739</th>\n",
       "      <td>SERIE 2</td>\n",
       "      <td>218i Coupé (4.75)</td>\n",
       "      <td>28416.0</td>\n",
       "      <td>2.0</td>\n",
       "      <td>0.25</td>\n",
       "      <td>0.5</td>\n",
       "      <td>136.0</td>\n",
       "      <td>1.0</td>\n",
       "      <td>6.0</td>\n",
       "      <td>125.0</td>\n",
       "      <td>963.0</td>\n",
       "      <td>5.4</td>\n",
       "      <td>36.0</td>\n",
       "      <td>52.0</td>\n",
       "      <td>8.8</td>\n",
       "      <td>390.0</td>\n",
       "      <td>2.0</td>\n",
       "      <td>Compacto</td>\n",
       "      <td>4432.0</td>\n",
       "      <td>10.0</td>\n",
       "    </tr>\n",
       "    <tr>\n",
       "      <th>2078</th>\n",
       "      <td>F-PACE</td>\n",
       "      <td>3.0TDV6 Pure Aut. AWD</td>\n",
       "      <td>54437.0</td>\n",
       "      <td>5.0</td>\n",
       "      <td>0.00</td>\n",
       "      <td>0.0</td>\n",
       "      <td>300.0</td>\n",
       "      <td>0.0</td>\n",
       "      <td>8.0</td>\n",
       "      <td>159.0</td>\n",
       "      <td>1100.0</td>\n",
       "      <td>6.0</td>\n",
       "      <td>36.0</td>\n",
       "      <td>66.0</td>\n",
       "      <td>6.2</td>\n",
       "      <td>650.0</td>\n",
       "      <td>2.0</td>\n",
       "      <td>TTE Familiar</td>\n",
       "      <td>4731.0</td>\n",
       "      <td>45.0</td>\n",
       "    </tr>\n",
       "    <tr>\n",
       "      <th>2081</th>\n",
       "      <td>F-PACE</td>\n",
       "      <td>2.0 i4 Prestige Aut. AWD</td>\n",
       "      <td>58801.0</td>\n",
       "      <td>5.0</td>\n",
       "      <td>0.25</td>\n",
       "      <td>0.0</td>\n",
       "      <td>250.0</td>\n",
       "      <td>0.0</td>\n",
       "      <td>8.0</td>\n",
       "      <td>170.0</td>\n",
       "      <td>851.4</td>\n",
       "      <td>7.4</td>\n",
       "      <td>36.0</td>\n",
       "      <td>63.0</td>\n",
       "      <td>6.8</td>\n",
       "      <td>650.0</td>\n",
       "      <td>2.0</td>\n",
       "      <td>TTE Familiar</td>\n",
       "      <td>4731.0</td>\n",
       "      <td>45.0</td>\n",
       "    </tr>\n",
       "    <tr>\n",
       "      <th>743</th>\n",
       "      <td>SERIE 2</td>\n",
       "      <td>218d Active Tourer xDrive</td>\n",
       "      <td>28744.0</td>\n",
       "      <td>5.0</td>\n",
       "      <td>0.00</td>\n",
       "      <td>0.0</td>\n",
       "      <td>150.0</td>\n",
       "      <td>1.0</td>\n",
       "      <td>6.0</td>\n",
       "      <td>124.0</td>\n",
       "      <td>1085.1</td>\n",
       "      <td>4.7</td>\n",
       "      <td>36.0</td>\n",
       "      <td>51.0</td>\n",
       "      <td>8.6</td>\n",
       "      <td>390.0</td>\n",
       "      <td>2.0</td>\n",
       "      <td>Compacto</td>\n",
       "      <td>4342.0</td>\n",
       "      <td>10.0</td>\n",
       "    </tr>\n",
       "    <tr>\n",
       "      <th>2083</th>\n",
       "      <td>F-PACE</td>\n",
       "      <td>2.0i4D Portfolio Aut. AWD 240</td>\n",
       "      <td>59927.0</td>\n",
       "      <td>5.0</td>\n",
       "      <td>0.00</td>\n",
       "      <td>0.0</td>\n",
       "      <td>240.0</td>\n",
       "      <td>0.0</td>\n",
       "      <td>8.0</td>\n",
       "      <td>153.0</td>\n",
       "      <td>1034.5</td>\n",
       "      <td>5.8</td>\n",
       "      <td>36.0</td>\n",
       "      <td>60.0</td>\n",
       "      <td>7.2</td>\n",
       "      <td>650.0</td>\n",
       "      <td>2.0</td>\n",
       "      <td>TTE Familiar</td>\n",
       "      <td>4731.0</td>\n",
       "      <td>45.0</td>\n",
       "    </tr>\n",
       "    <tr>\n",
       "      <th>2085</th>\n",
       "      <td>F-PACE</td>\n",
       "      <td>2.0 i4 R-Sport Aut. AWD</td>\n",
       "      <td>63219.0</td>\n",
       "      <td>5.0</td>\n",
       "      <td>0.25</td>\n",
       "      <td>0.0</td>\n",
       "      <td>250.0</td>\n",
       "      <td>0.0</td>\n",
       "      <td>8.0</td>\n",
       "      <td>170.0</td>\n",
       "      <td>851.4</td>\n",
       "      <td>7.4</td>\n",
       "      <td>36.0</td>\n",
       "      <td>63.0</td>\n",
       "      <td>6.8</td>\n",
       "      <td>650.0</td>\n",
       "      <td>2.0</td>\n",
       "      <td>TTE Familiar</td>\n",
       "      <td>4731.0</td>\n",
       "      <td>45.0</td>\n",
       "    </tr>\n",
       "    <tr>\n",
       "      <th>2648</th>\n",
       "      <td>MAZDA6</td>\n",
       "      <td>2.2DE Lux.+Prem.Black+Travel(Navi)175</td>\n",
       "      <td>30798.0</td>\n",
       "      <td>4.0</td>\n",
       "      <td>0.00</td>\n",
       "      <td>1.0</td>\n",
       "      <td>175.0</td>\n",
       "      <td>1.0</td>\n",
       "      <td>6.0</td>\n",
       "      <td>119.0</td>\n",
       "      <td>1377.8</td>\n",
       "      <td>4.5</td>\n",
       "      <td>36.0</td>\n",
       "      <td>62.0</td>\n",
       "      <td>7.9</td>\n",
       "      <td>480.0</td>\n",
       "      <td>1.0</td>\n",
       "      <td>Berlina</td>\n",
       "      <td>4865.0</td>\n",
       "      <td>27.0</td>\n",
       "    </tr>\n",
       "    <tr>\n",
       "      <th>2087</th>\n",
       "      <td>F-PACE</td>\n",
       "      <td>3.0TDV6 Portfolio Aut. AWD</td>\n",
       "      <td>65102.0</td>\n",
       "      <td>5.0</td>\n",
       "      <td>0.00</td>\n",
       "      <td>0.0</td>\n",
       "      <td>300.0</td>\n",
       "      <td>0.0</td>\n",
       "      <td>8.0</td>\n",
       "      <td>159.0</td>\n",
       "      <td>1100.0</td>\n",
       "      <td>6.0</td>\n",
       "      <td>36.0</td>\n",
       "      <td>66.0</td>\n",
       "      <td>6.2</td>\n",
       "      <td>650.0</td>\n",
       "      <td>2.0</td>\n",
       "      <td>TTE Familiar</td>\n",
       "      <td>4731.0</td>\n",
       "      <td>45.0</td>\n",
       "    </tr>\n",
       "    <tr>\n",
       "      <th>2095</th>\n",
       "      <td>F-TYPE</td>\n",
       "      <td>Coupé 2.0 I4 R-Dynamic Aut. 300</td>\n",
       "      <td>64672.0</td>\n",
       "      <td>3.0</td>\n",
       "      <td>0.25</td>\n",
       "      <td>0.5</td>\n",
       "      <td>300.0</td>\n",
       "      <td>0.0</td>\n",
       "      <td>8.0</td>\n",
       "      <td>163.0</td>\n",
       "      <td>875.0</td>\n",
       "      <td>7.2</td>\n",
       "      <td>24.0</td>\n",
       "      <td>63.0</td>\n",
       "      <td>5.7</td>\n",
       "      <td>310.0</td>\n",
       "      <td>2.0</td>\n",
       "      <td>Deportivo alto</td>\n",
       "      <td>4482.0</td>\n",
       "      <td>100.0</td>\n",
       "    </tr>\n",
       "    <tr>\n",
       "      <th>631</th>\n",
       "      <td>TT</td>\n",
       "      <td>Roadster 1.8 TFSI S line edition</td>\n",
       "      <td>38239.0</td>\n",
       "      <td>2.0</td>\n",
       "      <td>0.25</td>\n",
       "      <td>1.0</td>\n",
       "      <td>180.0</td>\n",
       "      <td>1.0</td>\n",
       "      <td>6.0</td>\n",
       "      <td>142.0</td>\n",
       "      <td>819.7</td>\n",
       "      <td>6.1</td>\n",
       "      <td>24.0</td>\n",
       "      <td>50.0</td>\n",
       "      <td>7.2</td>\n",
       "      <td>292.0</td>\n",
       "      <td>2.0</td>\n",
       "      <td>Deportivo bajo</td>\n",
       "      <td>4177.0</td>\n",
       "      <td>2.0</td>\n",
       "    </tr>\n",
       "    <tr>\n",
       "      <th>2079</th>\n",
       "      <td>F-PACE</td>\n",
       "      <td>2.0i4D Portfolio Aut. AWD 180</td>\n",
       "      <td>55922.0</td>\n",
       "      <td>5.0</td>\n",
       "      <td>0.00</td>\n",
       "      <td>0.0</td>\n",
       "      <td>180.0</td>\n",
       "      <td>0.0</td>\n",
       "      <td>8.0</td>\n",
       "      <td>139.0</td>\n",
       "      <td>1132.1</td>\n",
       "      <td>5.3</td>\n",
       "      <td>36.0</td>\n",
       "      <td>60.0</td>\n",
       "      <td>8.7</td>\n",
       "      <td>650.0</td>\n",
       "      <td>2.0</td>\n",
       "      <td>TTE Familiar</td>\n",
       "      <td>4731.0</td>\n",
       "      <td>45.0</td>\n",
       "    </tr>\n",
       "    <tr>\n",
       "      <th>2088</th>\n",
       "      <td>F-PACE</td>\n",
       "      <td>2.0 i4 Portfolio Aut. AWD</td>\n",
       "      <td>65641.0</td>\n",
       "      <td>5.0</td>\n",
       "      <td>0.25</td>\n",
       "      <td>0.0</td>\n",
       "      <td>250.0</td>\n",
       "      <td>0.0</td>\n",
       "      <td>8.0</td>\n",
       "      <td>170.0</td>\n",
       "      <td>851.4</td>\n",
       "      <td>7.4</td>\n",
       "      <td>36.0</td>\n",
       "      <td>63.0</td>\n",
       "      <td>6.8</td>\n",
       "      <td>650.0</td>\n",
       "      <td>2.0</td>\n",
       "      <td>TTE Familiar</td>\n",
       "      <td>4731.0</td>\n",
       "      <td>45.0</td>\n",
       "    </tr>\n",
       "    <tr>\n",
       "      <th>790</th>\n",
       "      <td>SERIE 3</td>\n",
       "      <td>318i Touring</td>\n",
       "      <td>24924.0</td>\n",
       "      <td>5.0</td>\n",
       "      <td>0.25</td>\n",
       "      <td>0.5</td>\n",
       "      <td>136.0</td>\n",
       "      <td>1.0</td>\n",
       "      <td>6.0</td>\n",
       "      <td>126.0</td>\n",
       "      <td>1111.1</td>\n",
       "      <td>5.4</td>\n",
       "      <td>36.0</td>\n",
       "      <td>60.0</td>\n",
       "      <td>9.2</td>\n",
       "      <td>480.0</td>\n",
       "      <td>2.0</td>\n",
       "      <td>Familiar</td>\n",
       "      <td>4633.0</td>\n",
       "      <td>30.0</td>\n",
       "    </tr>\n",
       "  </tbody>\n",
       "</table>\n",
       "</div>"
      ],
      "text/plain": [
       "       modelo                                version    precio  puertas  \\\n",
       "811   SERIE 3                                   320d   27943.0      4.0   \n",
       "783   SERIE 3                                   318i   23461.0      4.0   \n",
       "823   SERIE 3                                  320iA   29526.0      4.0   \n",
       "759   SERIE 2                     218iA Coupé (4.75)   30546.0      2.0   \n",
       "817   SERIE 3                           320i Touring   29074.0      5.0   \n",
       "771   SERIE 2               220dA Gran Tourer xDrive   32010.0      5.0   \n",
       "805   SERIE 3                 320d EfficientDynamics   27279.0      4.0   \n",
       "781   SERIE 2                     218d Cabrio (4.75)   33093.0      2.0   \n",
       "833   SERIE 3                                   318d   30213.0      4.0   \n",
       "749   SERIE 2                    218dA Active Tourer   28963.0      5.0   \n",
       "2647   MAZDA6           2.2DE Luxury (Navi) Aut. 150   30114.0      4.0   \n",
       "789   SERIE 3                           318i Touring   24924.0      5.0   \n",
       "755   SERIE 2             218iA Active Tourer (4.75)   29663.0      5.0   \n",
       "761   SERIE 2                            220dA Coupé   30585.0      2.0   \n",
       "741   SERIE 2                             220d Coupé   28546.0      2.0   \n",
       "767   SERIE 2                            218d Cabrio   31231.0      2.0   \n",
       "632        TT                      Roadster 2.0 TFSI   38447.0      2.0   \n",
       "620        R8    Spyder 5.2 FSI V10 quattro S-Tronic  203619.0      2.0   \n",
       "745   SERIE 2               218dA Gran Tourer (4.75)   28771.0      5.0   \n",
       "812   SERIE 3                                   320d   27943.0      4.0   \n",
       "642        TT     Roadster 2.0 TFSI quattro S-Tronic   43485.0      2.0   \n",
       "784   SERIE 3                                   318i   23461.0      4.0   \n",
       "799   SERIE 3                          318d Business   26789.0      4.0   \n",
       "824   SERIE 3                                  320iA   29526.0      4.0   \n",
       "760   SERIE 2                     218iA Coupé (4.75)   30546.0      2.0   \n",
       "821   SERIE 3                320dA EfficientDynamics   29311.0      4.0   \n",
       "818   SERIE 3                           320i Touring   29074.0      5.0   \n",
       "772   SERIE 2               220dA Gran Tourer xDrive   32010.0      5.0   \n",
       "773   SERIE 2               220dA Gran Tourer (4.75)   32109.0      5.0   \n",
       "2641   MAZDA6                2.2DE Luxury (Navi) 175   28739.0      4.0   \n",
       "806   SERIE 3                 320d EfficientDynamics   27279.0      4.0   \n",
       "2633   MAZDA6                       2.2DE Style+ 150   26618.0      4.0   \n",
       "782   SERIE 2                     218d Cabrio (4.75)   33093.0      2.0   \n",
       "834   SERIE 3                                   318d   30213.0      4.0   \n",
       "750   SERIE 2                    218dA Active Tourer   28963.0      5.0   \n",
       "908   SERIE 4                            420d Cabrio   40607.0      2.0   \n",
       "903   SERIE 4                     430iA Coupé xDrive   40091.0      2.0   \n",
       "739   SERIE 2                      218i Coupé (4.75)   28416.0      2.0   \n",
       "2078   F-PACE                  3.0TDV6 Pure Aut. AWD   54437.0      5.0   \n",
       "2081   F-PACE               2.0 i4 Prestige Aut. AWD   58801.0      5.0   \n",
       "743   SERIE 2              218d Active Tourer xDrive   28744.0      5.0   \n",
       "2083   F-PACE          2.0i4D Portfolio Aut. AWD 240   59927.0      5.0   \n",
       "2085   F-PACE                2.0 i4 R-Sport Aut. AWD   63219.0      5.0   \n",
       "2648   MAZDA6  2.2DE Lux.+Prem.Black+Travel(Navi)175   30798.0      4.0   \n",
       "2087   F-PACE             3.0TDV6 Portfolio Aut. AWD   65102.0      5.0   \n",
       "2095   F-TYPE        Coupé 2.0 I4 R-Dynamic Aut. 300   64672.0      3.0   \n",
       "631        TT       Roadster 1.8 TFSI S line edition   38239.0      2.0   \n",
       "2079   F-PACE          2.0i4D Portfolio Aut. AWD 180   55922.0      5.0   \n",
       "2088   F-PACE              2.0 i4 Portfolio Aut. AWD   65641.0      5.0   \n",
       "790   SERIE 3                           318i Touring   24924.0      5.0   \n",
       "\n",
       "      combustible  traccion     cv  cambio  n_marchas    co2  autonomia  \\\n",
       "811          0.00       0.5  190.0     1.0        6.0  106.0     1425.0   \n",
       "783          0.25       0.5  136.0     1.0        6.0  119.0     1176.5   \n",
       "823          0.25       0.5  184.0     0.0        8.0  124.0     1132.1   \n",
       "759          0.25       0.5  136.0     0.0        8.0  124.0      981.1   \n",
       "817          0.25       0.5  184.0     1.0        6.0  137.0     1016.9   \n",
       "771          0.00       0.0  190.0     0.0        8.0  128.0     1244.9   \n",
       "805          0.00       0.5  163.0     1.0        6.0  102.0     1461.5   \n",
       "781          0.00       0.5  150.0     1.0        6.0  124.0     1106.4   \n",
       "833          0.00       0.5  150.0     1.0        6.0  106.0     1425.0   \n",
       "749          0.00       1.0  150.0     0.0        8.0  113.0     1186.0   \n",
       "2647         0.00       1.0  150.0     0.0        6.0  127.0     1291.7   \n",
       "789          0.25       0.5  136.0     1.0        6.0  126.0     1111.1   \n",
       "755          0.25       1.0  136.0     0.0        6.0  124.0      962.3   \n",
       "761          0.00       0.5  190.0     0.0        8.0  104.0     1300.0   \n",
       "741          0.00       0.5  190.0     1.0        6.0  107.0     1268.3   \n",
       "767          0.00       0.5  150.0     1.0        6.0  114.0     1209.3   \n",
       "632          0.25       1.0  230.0     1.0        6.0  140.0      833.3   \n",
       "620          0.25       0.0  540.0     0.0        7.0  277.0      683.8   \n",
       "745          0.00       1.0  150.0     0.0        8.0  126.0     1062.5   \n",
       "812          0.00       0.5  190.0     1.0        6.0  106.0     1425.0   \n",
       "642          0.25       0.0  230.0     0.0        6.0  154.0      746.3   \n",
       "784          0.25       0.5  136.0     1.0        6.0  119.0     1176.5   \n",
       "799          0.00       0.5  150.0     1.0        6.0  106.0     1425.0   \n",
       "824          0.25       0.5  184.0     0.0        8.0  124.0     1132.1   \n",
       "760          0.25       0.5  136.0     0.0        8.0  124.0      981.1   \n",
       "821          0.00       0.5  163.0     0.0        8.0   99.0     1500.0   \n",
       "818          0.25       0.5  184.0     1.0        6.0  137.0     1016.9   \n",
       "772          0.00       0.0  190.0     0.0        8.0  128.0     1244.9   \n",
       "773          0.00       1.0  190.0     0.0        8.0  122.0     1108.7   \n",
       "2641         0.00       1.0  175.0     1.0        6.0  119.0     1377.8   \n",
       "806          0.00       0.5  163.0     1.0        6.0  102.0     1461.5   \n",
       "2633         0.00       1.0  150.0     1.0        6.0  104.0     1589.7   \n",
       "782          0.00       0.5  150.0     1.0        6.0  124.0     1106.4   \n",
       "834          0.00       0.5  150.0     1.0        6.0  106.0     1425.0   \n",
       "750          0.00       1.0  150.0     0.0        8.0  113.0     1186.0   \n",
       "908          0.00       0.5  190.0     1.0        6.0  127.0     1187.5   \n",
       "903          0.25       0.0  252.0     0.0        8.0  138.0     1016.9   \n",
       "739          0.25       0.5  136.0     1.0        6.0  125.0      963.0   \n",
       "2078         0.00       0.0  300.0     0.0        8.0  159.0     1100.0   \n",
       "2081         0.25       0.0  250.0     0.0        8.0  170.0      851.4   \n",
       "743          0.00       0.0  150.0     1.0        6.0  124.0     1085.1   \n",
       "2083         0.00       0.0  240.0     0.0        8.0  153.0     1034.5   \n",
       "2085         0.25       0.0  250.0     0.0        8.0  170.0      851.4   \n",
       "2648         0.00       1.0  175.0     1.0        6.0  119.0     1377.8   \n",
       "2087         0.00       0.0  300.0     0.0        8.0  159.0     1100.0   \n",
       "2095         0.25       0.5  300.0     0.0        8.0  163.0      875.0   \n",
       "631          0.25       1.0  180.0     1.0        6.0  142.0      819.7   \n",
       "2079         0.00       0.0  180.0     0.0        8.0  139.0     1132.1   \n",
       "2088         0.25       0.0  250.0     0.0        8.0  170.0      851.4   \n",
       "790          0.25       0.5  136.0     1.0        6.0  126.0     1111.1   \n",
       "\n",
       "      consumo  garantia  capacidad deposito  0_a_100  maletero  tipo_marca  \\\n",
       "811       4.0      36.0                57.0      7.3     480.0         2.0   \n",
       "783       5.1      36.0                60.0      8.9     480.0         2.0   \n",
       "823       5.3      36.0                60.0      7.3     480.0         2.0   \n",
       "759       5.3      36.0                52.0      8.9     390.0         2.0   \n",
       "817       5.9      36.0                60.0      7.5     480.0         2.0   \n",
       "771       4.9      36.0                61.0      7.6     390.0         2.0   \n",
       "805       3.9      36.0                57.0      7.9     480.0         2.0   \n",
       "781       4.7      36.0                52.0      8.9     390.0         2.0   \n",
       "833       4.0      36.0                57.0      8.6     480.0         2.0   \n",
       "749       4.3      36.0                51.0      8.9     390.0         2.0   \n",
       "2647      4.8      36.0                62.0      9.8     480.0         1.0   \n",
       "789       5.4      36.0                60.0      9.2     480.0         2.0   \n",
       "755       5.3      36.0                51.0      9.2     390.0         2.0   \n",
       "761       4.0      36.0                52.0      7.0     390.0         2.0   \n",
       "741       4.1      36.0                52.0      7.1     390.0         2.0   \n",
       "767       4.3      36.0                52.0      8.9     390.0         2.0   \n",
       "632       6.0      24.0                50.0      6.2     292.0         2.0   \n",
       "620      11.7      24.0                80.0      3.6     112.0         2.0   \n",
       "745       4.8      36.0                51.0      9.3     390.0         2.0   \n",
       "812       4.0      36.0                57.0      7.3     480.0         2.0   \n",
       "642       6.7      24.0                50.0      5.6     292.0         2.0   \n",
       "784       5.1      36.0                60.0      8.9     480.0         2.0   \n",
       "799       4.0      36.0                57.0      8.6     480.0         2.0   \n",
       "824       5.3      36.0                60.0      7.3     480.0         2.0   \n",
       "760       5.3      36.0                52.0      8.9     390.0         2.0   \n",
       "821       3.8      36.0                57.0      7.8     480.0         2.0   \n",
       "818       5.9      36.0                60.0      7.5     480.0         2.0   \n",
       "772       4.9      36.0                61.0      7.6     390.0         2.0   \n",
       "773       4.6      36.0                51.0      7.8     390.0         2.0   \n",
       "2641      4.5      36.0                62.0      7.9     480.0         1.0   \n",
       "806       3.9      36.0                57.0      7.9     480.0         2.0   \n",
       "2633      3.9      36.0                62.0      9.1     480.0         1.0   \n",
       "782       4.7      36.0                52.0      8.9     390.0         2.0   \n",
       "834       4.0      36.0                57.0      8.6     480.0         2.0   \n",
       "750       4.3      36.0                51.0      8.9     390.0         2.0   \n",
       "908       4.8      36.0                57.0      8.1     445.0         2.0   \n",
       "903       5.9      36.0                60.0      5.8     445.0         2.0   \n",
       "739       5.4      36.0                52.0      8.8     390.0         2.0   \n",
       "2078      6.0      36.0                66.0      6.2     650.0         2.0   \n",
       "2081      7.4      36.0                63.0      6.8     650.0         2.0   \n",
       "743       4.7      36.0                51.0      8.6     390.0         2.0   \n",
       "2083      5.8      36.0                60.0      7.2     650.0         2.0   \n",
       "2085      7.4      36.0                63.0      6.8     650.0         2.0   \n",
       "2648      4.5      36.0                62.0      7.9     480.0         1.0   \n",
       "2087      6.0      36.0                66.0      6.2     650.0         2.0   \n",
       "2095      7.2      24.0                63.0      5.7     310.0         2.0   \n",
       "631       6.1      24.0                50.0      7.2     292.0         2.0   \n",
       "2079      5.3      36.0                60.0      8.7     650.0         2.0   \n",
       "2088      7.4      36.0                63.0      6.8     650.0         2.0   \n",
       "790       5.4      36.0                60.0      9.2     480.0         2.0   \n",
       "\n",
       "                  segmento  longitud  Segmento  \n",
       "811         Deportivo bajo    4633.0       2.0  \n",
       "783         Deportivo bajo    4633.0       2.0  \n",
       "823         Deportivo bajo    4633.0       2.0  \n",
       "759               Compacto    4432.0      10.0  \n",
       "817         Deportivo bajo    4633.0       2.0  \n",
       "771               Compacto    4556.0      10.0  \n",
       "805         Deportivo bajo    4633.0       2.0  \n",
       "781               Compacto    4432.0      10.0  \n",
       "833         Deportivo bajo    4633.0       2.0  \n",
       "749               Compacto    4342.0      10.0  \n",
       "2647               Berlina    4865.0      27.0  \n",
       "789         Deportivo bajo    4633.0       2.0  \n",
       "755               Compacto    4342.0      10.0  \n",
       "761               Compacto    4432.0      10.0  \n",
       "741               Compacto    4432.0      10.0  \n",
       "767               Compacto    4432.0      10.0  \n",
       "632         Deportivo bajo    4177.0       2.0  \n",
       "620         Deportivo alto    4426.0     100.0  \n",
       "745               Compacto    4556.0      10.0  \n",
       "812               Familiar    4633.0      30.0  \n",
       "642         Deportivo bajo    4177.0       2.0  \n",
       "784               Familiar    4633.0      30.0  \n",
       "799         Deportivo bajo    4633.0       2.0  \n",
       "824               Familiar    4633.0      30.0  \n",
       "760   Monovolumen compacto    4432.0      40.0  \n",
       "821         Deportivo bajo    4633.0       2.0  \n",
       "818               Familiar    4633.0      30.0  \n",
       "772   Monovolumen compacto    4556.0      40.0  \n",
       "773               Compacto    4556.0      10.0  \n",
       "2641               Berlina    4865.0      27.0  \n",
       "806               Familiar    4633.0      30.0  \n",
       "2633               Berlina    4865.0      27.0  \n",
       "782   Monovolumen compacto    4432.0      40.0  \n",
       "834               Familiar    4633.0      30.0  \n",
       "750   Monovolumen compacto    4342.0      40.0  \n",
       "908               Familiar    4640.0      30.0  \n",
       "903         Deportivo bajo    4640.0       2.0  \n",
       "739               Compacto    4432.0      10.0  \n",
       "2078          TTE Familiar    4731.0      45.0  \n",
       "2081          TTE Familiar    4731.0      45.0  \n",
       "743               Compacto    4342.0      10.0  \n",
       "2083          TTE Familiar    4731.0      45.0  \n",
       "2085          TTE Familiar    4731.0      45.0  \n",
       "2648               Berlina    4865.0      27.0  \n",
       "2087          TTE Familiar    4731.0      45.0  \n",
       "2095        Deportivo alto    4482.0     100.0  \n",
       "631         Deportivo bajo    4177.0       2.0  \n",
       "2079          TTE Familiar    4731.0      45.0  \n",
       "2088          TTE Familiar    4731.0      45.0  \n",
       "790               Familiar    4633.0      30.0  "
      ]
     },
     "execution_count": 66,
     "metadata": {},
     "output_type": "execute_result"
    }
   ],
   "source": [
    "df4.ix[resultado]"
   ]
  },
  {
   "cell_type": "code",
   "execution_count": 64,
   "metadata": {
    "collapsed": false
   },
   "outputs": [],
   "source": [
    "df_listado.to_csv('listado.csv',encoding='utf-8')"
   ]
  },
  {
   "cell_type": "code",
   "execution_count": 65,
   "metadata": {
    "collapsed": false,
    "scrolled": true
   },
   "outputs": [],
   "source": [
    "normalizada.to_csv('normalizado.csv',encoding='utf-8')"
   ]
  },
  {
   "cell_type": "code",
   "execution_count": null,
   "metadata": {
    "collapsed": true
   },
   "outputs": [],
   "source": []
  }
 ],
 "metadata": {
  "kernelspec": {
   "display_name": "Python 2",
   "language": "python",
   "name": "python2"
  },
  "language_info": {
   "codemirror_mode": {
    "name": "ipython",
    "version": 2
   },
   "file_extension": ".py",
   "mimetype": "text/x-python",
   "name": "python",
   "nbconvert_exporter": "python",
   "pygments_lexer": "ipython2",
   "version": "2.7.13"
  }
 },
 "nbformat": 4,
 "nbformat_minor": 2
}
