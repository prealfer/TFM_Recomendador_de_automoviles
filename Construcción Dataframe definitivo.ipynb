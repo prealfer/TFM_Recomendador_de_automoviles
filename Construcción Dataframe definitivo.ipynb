{
 "cells": [
  {
   "cell_type": "markdown",
   "metadata": {},
   "source": [
    "# Unión de datos scrapeados, Dataframe final "
   ]
  },
  {
   "cell_type": "code",
   "execution_count": 222,
   "metadata": {
    "collapsed": false,
    "scrolled": false
   },
   "outputs": [
    {
     "name": "stdout",
     "output_type": "stream",
     "text": [
      "total 28328\r\n",
      "-rw-r--r--  1 prealfer  staff   420474 31 ago 19:15 TFM_scraping.ipynb\r\n",
      "-rw-r--r--  1 prealfer  staff        0  5 sep 23:51 README.md\r\n",
      "-rw-r--r--  1 prealfer  staff        0  5 sep 23:51 README.txt\r\n",
      "-rw-r--r--  1 prealfer  staff    15285 30 sep 20:02 maleteros\r\n",
      "-rw-r--r--  1 prealfer  staff    16680 30 sep 20:06 Scrapeo-Maleteros.ipynb\r\n",
      "-rw-r--r--  1 prealfer  staff  3877960  3 oct 21:29 Script scraping - Dataframe (Antiguo).ipynb\r\n",
      "-rw-r--r--@ 1 prealfer  staff   721923  4 oct 23:12 segmentos.numbers\r\n",
      "-rw-r--r--@ 1 prealfer  staff    11542  4 oct 23:14 segmentos.csv\r\n",
      "-rw-r--r--@ 1 prealfer  staff      441  4 oct 23:21 total_segmento.csv\r\n",
      "-rw-r--r--@ 1 prealfer  staff     1303  4 oct 23:24 variaciones_segmento.csv\r\n",
      "-rw-r--r--  1 prealfer  staff    11786  4 oct 23:47 Limpieza datos publicos.ipynb\r\n",
      "drwxr-xr-x  5 prealfer  staff      170 12 oct 23:59 \u001b[34mFlaskApp\u001b[m\u001b[m\r\n",
      "-rw-r--r--  1 prealfer  staff  2563080 17 oct 23:59 datos_crudo\r\n",
      "-rw-r--r--  1 prealfer  staff  2551216 17 oct 23:59 datos_limpios\r\n",
      "-rw-r--r--  1 prealfer  staff  1642490 18 oct 00:01 Dataframe_limpio.csv\r\n",
      "-rw-r--r--  1 prealfer  staff   327328 18 oct 00:01 Script scrapping - Dataframe.ipynb\r\n",
      "-rw-r--r--  1 prealfer  staff  1722527 30 oct 22:06 datos_con_maletero.csv\r\n",
      "-rw-r--r--  1 prealfer  staff   596260 30 oct 22:11 Construcción Dataframe definitivo.ipynb\r\n"
     ]
    }
   ],
   "source": [
    "!ls -lrt"
   ]
  },
  {
   "cell_type": "code",
   "execution_count": 30,
   "metadata": {
    "collapsed": true
   },
   "outputs": [],
   "source": [
    "import pandas as pd\n",
    "import numpy as np"
   ]
  },
  {
   "cell_type": "code",
   "execution_count": 31,
   "metadata": {
    "collapsed": true
   },
   "outputs": [],
   "source": [
    "pd.set_option('display.max_columns', None)"
   ]
  },
  {
   "cell_type": "code",
   "execution_count": 32,
   "metadata": {
    "collapsed": false
   },
   "outputs": [
    {
     "data": {
      "text/plain": [
       "5932"
      ]
     },
     "execution_count": 32,
     "metadata": {},
     "output_type": "execute_result"
    }
   ],
   "source": [
    "datos = pd.read_csv('Dataframe_limpio.csv',header=0)\n",
    "datos = datos.drop('Unnamed: 0',axis=1)\n",
    "maleteros = pd.read_csv('maleteros')\n",
    "maleteros = maleteros.drop('Unnamed: 0',axis=1)\n",
    "len(datos)"
   ]
  },
  {
   "cell_type": "markdown",
   "metadata": {},
   "source": [
    "## Unificamos en mayúsculas "
   ]
  },
  {
   "cell_type": "code",
   "execution_count": 33,
   "metadata": {
    "collapsed": false
   },
   "outputs": [],
   "source": [
    "datos['marca'] = datos['marca'].apply(lambda x: x.upper().strip())\n",
    "datos['modelo'] = datos['modelo'].apply(lambda x: x.upper().strip())\n",
    "maleteros['Modelo'] = maleteros['Modelo'].apply(lambda x: x.upper())"
   ]
  },
  {
   "cell_type": "markdown",
   "metadata": {},
   "source": [
    "### Creamos columna en 'datos' que contiene marca y modelo para cruzar con maleteros. A continuación, limpiamos de formatos y caracteres extraños y creamos una columna nueva con estos datos."
   ]
  },
  {
   "cell_type": "code",
   "execution_count": 34,
   "metadata": {
    "collapsed": true
   },
   "outputs": [],
   "source": [
    "datos['mm']=datos['marca']+' '+datos['modelo']\n",
    "modelos_data = datos['mm']\n",
    "modelos_data = [mod.replace('NUEVO ','').replace('\\xc3\\xb3','O').replace('\\xc3\\xa9','E') for mod in modelos_data]\n",
    "datos['MODELOS'] = modelos_data\n",
    "datos.drop('mm', axis=1,inplace=True)"
   ]
  },
  {
   "cell_type": "code",
   "execution_count": 35,
   "metadata": {
    "collapsed": false
   },
   "outputs": [],
   "source": [
    "maleteros.columns = ['Marca','Modelo','Maletero']\n",
    "modelos_maleteros = maleteros['Modelo']\n",
    "modelos_maleteros = [mod.replace('NUEVO ','').replace(' 2017','').replace(' 2018','').replace('-BENZ','').replace('!','').replace('\\xc5\\xa0','S').replace('\\xc3\\xb3','O').replace('!','').replace('\\xc3\\xa9','E').replace('\\xc3\\xab','E') for mod in modelos_maleteros]\n",
    "maleteros['MODELOS'] =  modelos_maleteros\n",
    "maleteros.drop('Modelo',axis=1,inplace=True)\n",
    "maleteros.rename(columns={'Marca': 'marca', 'marca-modelo': 'modelo', 'Maletero': 'maletero'}, inplace=True)"
   ]
  },
  {
   "cell_type": "markdown",
   "metadata": {
    "collapsed": true
   },
   "source": [
    "## Eliminamos los vehículos comerciales de nuestro Dataframe: \n",
    "\n",
    "### - No entran en el objetivo definido por negocio.\n",
    "### - Sus características generarían 'outliers' (no del todo)."
   ]
  },
  {
   "cell_type": "code",
   "execution_count": 36,
   "metadata": {
    "collapsed": false
   },
   "outputs": [
    {
     "data": {
      "text/plain": [
       "5932"
      ]
     },
     "execution_count": 36,
     "metadata": {},
     "output_type": "execute_result"
    }
   ],
   "source": [
    "df = datos\n",
    "len(df)"
   ]
  },
  {
   "cell_type": "code",
   "execution_count": 37,
   "metadata": {
    "collapsed": false
   },
   "outputs": [
    {
     "data": {
      "text/plain": [
       "array(['ABARTH', 'AUDI', 'BMW', 'CITROEN', 'DACIA', 'DS', 'FIAT', 'FORD',\n",
       "       'HONDA', 'HYUNDAI', 'INFINITI', 'JAGUAR', 'JEEP', 'KIA', 'LEXUS',\n",
       "       'MASERATI', 'MAZDA', 'MERCEDES', 'MINI', 'MITSUBISHI', 'MORGAN',\n",
       "       'NISSAN', 'OPEL', 'PEUGEOT', 'PORSCHE', 'RENAULT', 'SEAT', 'SKODA',\n",
       "       'SMART', 'SSANGYONG', 'SUBARU', 'SUZUKI', 'TESLA', 'TOYOTA',\n",
       "       'VOLKSWAGEN', 'VOLVO'], dtype=object)"
      ]
     },
     "execution_count": 37,
     "metadata": {},
     "output_type": "execute_result"
    }
   ],
   "source": [
    "df.marca.unique()"
   ]
  },
  {
   "cell_type": "code",
   "execution_count": 38,
   "metadata": {
    "collapsed": true
   },
   "outputs": [],
   "source": [
    "borrar_volkswagen = ['CADDY','CARAVELLE','CRAFTER','TRANSPORTER', 'UP COMERCIAL']\n",
    "borrar_toyota = ['LAND CRUISER COMERCIAL', 'PROACE', 'PROACE VERSO']\n",
    "borrar_seat = ['IBIZA COMERCIAL']\n",
    "borrar_renault = ['KANGOO', 'MASTER', 'TRAFIC']\n",
    "borrar_peugeot = ['BIPPER COMERCIAL', 'BOXER', 'EXPERT', 'PARTNER','TRAVELLER', 'TRAVELLER M1']\n",
    "borrar_opel = ['COMBO', 'MOVANO', 'VIVARO']\n",
    "borrar_nissan = ['EVALIA','NT400', 'NV200', 'NV300', 'NV400']\n",
    "borrar_mercedes = ['CITAN', 'SPRINTER', 'VITO']\n",
    "borrar_ford = ['CONNECT', 'TOURNEO CONNECT', 'TOURNEO COURIER',\n",
    "       'TOURNEO CUSTOM', 'TRANSIT', 'TRANSIT COURIER', 'TRANSIT CUSTOM']\n",
    "borrar_dacia = ['DOKKER', 'DOKKER COMERCIAL', 'LODGY']\n",
    "borrar_citroen = ['BERLINGO','C3 COMERCIAL', 'JUMPER', 'JUMPY', 'NEMO', 'NEMO COMERCIAL', 'SPACETOURER']\n",
    "borrar_fiat = ['DOBL\\xc3\\xb3', 'DUCATO',\n",
    "       'FIORINO', 'FIORINO COMERCIAL', 'FULLBACK', 'TALENTO']"
   ]
  },
  {
   "cell_type": "code",
   "execution_count": 39,
   "metadata": {
    "collapsed": false
   },
   "outputs": [],
   "source": [
    "modelos_borrar = borrar_volkswagen + borrar_toyota + borrar_seat + borrar_renault + borrar_peugeot + borrar_opel + borrar_nissan + borrar_mercedes + borrar_ford + borrar_dacia + borrar_citroen + borrar_fiat\n",
    "\n",
    "for modelo in modelos_borrar:\n",
    "    df = df[df['modelo']!=modelo]"
   ]
  },
  {
   "cell_type": "code",
   "execution_count": 40,
   "metadata": {
    "collapsed": false
   },
   "outputs": [
    {
     "data": {
      "text/plain": [
       "4670"
      ]
     },
     "execution_count": 40,
     "metadata": {},
     "output_type": "execute_result"
    }
   ],
   "source": [
    "len(df)"
   ]
  },
  {
   "cell_type": "markdown",
   "metadata": {},
   "source": [
    "## Limpieza y codificación de las variables para poder ser utilizadas.\n"
   ]
  },
  {
   "cell_type": "markdown",
   "metadata": {},
   "source": [
    "####  Eliminamos unidades, caracteres raros, espacios...."
   ]
  },
  {
   "cell_type": "code",
   "execution_count": 41,
   "metadata": {
    "collapsed": false
   },
   "outputs": [],
   "source": [
    "df['precio'] = df['precio'].apply(lambda x: x.replace('€','').replace('.','').strip())\n",
    "df['puertas'] = df['puertas'].apply(lambda x: x.replace(' puertas','').strip())\n",
    "df['cv'] = df['cv'].apply(lambda x: x.replace(' cv','').strip())\n",
    "df['traccion'] = df['traccion'].apply(lambda x: x.replace('Tracción ','').strip())\n",
    "df['n_marchas'] = df['n_marchas'].apply(lambda x: x.replace(' marchas','').strip())\n",
    "df['co2'] = df['co2'].apply(lambda x: x.replace(' gr/km','').strip())\n",
    "df['autonomia'] = df['autonomia'].apply(lambda x: x.replace(' km','').strip())\n",
    "df['consumo'] = df['consumo'].apply(lambda x: x.replace(' l/100km','').strip())\n",
    "df['cilindrada'] = df['cilindrada'].apply(lambda x: x.replace(' cc','').strip())\n",
    "df['capacidad deposito'] = df['capacidad deposito'].apply(lambda x: x.replace(' lts.','').strip())\n",
    "df['max_vel'] = df['max_vel'].apply(lambda x: x.replace(' km/h','').strip())\n",
    "df['0_a_100'] = df['0_a_100'].apply(lambda x: x.replace(' s.','').strip())\n",
    "df['rpm'] = df['rpm'].apply(lambda x: x.replace(' rpm','').strip())\n",
    "df['par'] = df['par'].apply(lambda x: x.replace('Nm','').strip())\n",
    "df['garantia'] = df['garantia'].apply(lambda x: x.replace(' meses','').replace('.','').strip())"
   ]
  },
  {
   "cell_type": "markdown",
   "metadata": {},
   "source": [
    "#### Asignamos los tipos a las variables: Float a los numéricos para ser normalizados o categóricos para aplicarles una regla posteriormente"
   ]
  },
  {
   "cell_type": "code",
   "execution_count": 42,
   "metadata": {
    "collapsed": false
   },
   "outputs": [],
   "source": [
    "df['precio'] = df['precio'].astype(float)\n",
    "df['puertas'] = df['puertas'].astype(float)\n",
    "df['cv'] = df['cv'].astype(float)\n",
    "df['traccion'] = df['traccion'].astype('category')\n",
    "df['n_marchas'] = df['n_marchas'].astype(float)\n",
    "df['co2'] = df['co2'].astype(float)\n",
    "df['consumo'] = df['consumo'].astype(float)\n",
    "df['cilindrada'] = df['cilindrada'].astype(float)\n",
    "df['max_vel'] = df['max_vel'].astype(int)\n",
    "df['capacidad deposito'] = df['capacidad deposito'].astype(float)\n",
    "df['0_a_100'] = df['0_a_100'].astype(float)\n",
    "df['rpm'] = df['rpm'].astype(float)\n",
    "df['par'] = df['par'].astype(float)\n",
    "df['garantia'] = df['garantia'].astype(float)\n",
    "df['combustible'] = df['combustible'].astype('category')\n",
    "df['cambio'] = df['cambio'].astype('category')"
   ]
  },
  {
   "cell_type": "markdown",
   "metadata": {},
   "source": [
    "##  Sacamos del análisis columnas (variables) que no van a tomar parte de la aplicación."
   ]
  },
  {
   "cell_type": "code",
   "execution_count": 43,
   "metadata": {
    "collapsed": false
   },
   "outputs": [],
   "source": [
    "cols_to_drop = ['airbags','marchas','control traccion','control estabilidad','alarma','cierre centralizado','tipo llave','peso','cierre automatico','start/stop','CD/mp3/dvd','cilindrada','max_vel','rpm','estrellas NCAP','par']\n",
    "\n",
    "df = df.drop(cols_to_drop, axis=1)"
   ]
  },
  {
   "cell_type": "markdown",
   "metadata": {},
   "source": [
    "## Metemos las capacidades de los maleteros"
   ]
  },
  {
   "cell_type": "code",
   "execution_count": 44,
   "metadata": {
    "collapsed": true
   },
   "outputs": [],
   "source": [
    "data = [140, 185, 505, 465, 530, 535, 292, 390, 480, 445, 530, 460, 440, 270, 310, 380, 350, 280, 364, 480, 130, 175, 488, 480, 470, 520, 540, 421, 550, 690, 680, 345, 225, 278, 860, 285, 490, 560, 356, 145, 280, 425, 380, 587, 610, 486, 680, 1975, 423, 243, 505, 512, 460, 430, 621, 547, 560]\n",
    "s = ['124 SPIDER', '595', 'A4 ALLROAD', 'A5', 'A6 ALLROAD', 'A7', 'TT', 'SERIE 2', 'SERIE 3', 'SERIE 4', 'SERIE 5', 'SERIE 6', 'TIPO', 'KA','F-TYPE', 'CEED', 'CX-3', 'MAZDA2', 'MAZDA3', 'MAZDA6', 'MX-5', 'AMG GT', 'CLASE B', 'CLASE C', 'CLASE CLA', 'CLASE CLS', 'CLASE E', 'CLASE GLA', 'CLASE GLC', 'CLASE GLE', 'CLASE GLS', 'CLASE SL', 'CLASE SLC', 'MINI','MONTERO', 'CORSA','INSIGNIA', 'INSIGNIA COUNTRY TOURER', 'MOKKA', '911', 'BOXSTER', 'CAYMAN', 'LE\\xc3\\xb3N', 'LE\\xc3\\xb3N X-PERIENCE', 'SCOUT', 'KORANDO', 'REXTON', 'RODIUS', 'TIVOLI', 'BRZ', 'FORESTER', 'OUTBACK', 'WRX STI', 'SX4 S-CROSS', 'LAND CRUISER', 'RAV-4', 'V90 CROSS COUNTRY']\n",
    "maleteros_faltan = pd.Series(data, index=s)\n",
    "maleteros2 = pd.DataFrame({'modelo':s,'maletero_2':data})"
   ]
  },
  {
   "cell_type": "code",
   "execution_count": 45,
   "metadata": {
    "collapsed": false
   },
   "outputs": [
    {
     "data": {
      "text/html": [
       "<div>\n",
       "<style>\n",
       "    .dataframe thead tr:only-child th {\n",
       "        text-align: right;\n",
       "    }\n",
       "\n",
       "    .dataframe thead th {\n",
       "        text-align: left;\n",
       "    }\n",
       "\n",
       "    .dataframe tbody tr th {\n",
       "        vertical-align: top;\n",
       "    }\n",
       "</style>\n",
       "<table border=\"1\" class=\"dataframe\">\n",
       "  <thead>\n",
       "    <tr style=\"text-align: right;\">\n",
       "      <th></th>\n",
       "      <th>MODELOS</th>\n",
       "      <th>maletero2</th>\n",
       "    </tr>\n",
       "  </thead>\n",
       "  <tbody>\n",
       "    <tr>\n",
       "      <th>0</th>\n",
       "      <td>ALFA ROMEO MITO</td>\n",
       "      <td>270</td>\n",
       "    </tr>\n",
       "    <tr>\n",
       "      <th>1</th>\n",
       "      <td>ALFA ROMEO 4C</td>\n",
       "      <td>110</td>\n",
       "    </tr>\n",
       "    <tr>\n",
       "      <th>2</th>\n",
       "      <td>ALFA ROMEO GIULIETTA</td>\n",
       "      <td>350</td>\n",
       "    </tr>\n",
       "    <tr>\n",
       "      <th>3</th>\n",
       "      <td>ALFA ROMEO GIULIA</td>\n",
       "      <td>480</td>\n",
       "    </tr>\n",
       "    <tr>\n",
       "      <th>4</th>\n",
       "      <td>ALFA ROMEO STELVIO</td>\n",
       "      <td>525</td>\n",
       "    </tr>\n",
       "  </tbody>\n",
       "</table>\n",
       "</div>"
      ],
      "text/plain": [
       "                MODELOS  maletero2\n",
       "0       ALFA ROMEO MITO        270\n",
       "1         ALFA ROMEO 4C        110\n",
       "2  ALFA ROMEO GIULIETTA        350\n",
       "3     ALFA ROMEO GIULIA        480\n",
       "4    ALFA ROMEO STELVIO        525"
      ]
     },
     "execution_count": 45,
     "metadata": {},
     "output_type": "execute_result"
    }
   ],
   "source": [
    "maleteros['maletero2'] = maleteros.maletero\n",
    "maleteros.drop('maletero',axis=1,inplace=True)\n",
    "maleteros.drop('marca',axis=1,inplace=True)\n",
    "maleteros.head()"
   ]
  },
  {
   "cell_type": "code",
   "execution_count": 46,
   "metadata": {
    "collapsed": true
   },
   "outputs": [],
   "source": [
    "df_maleteros_1 = pd.merge(df,maleteros,how='outer')\n",
    "df_maleteros_1.drop(df_maleteros_1[df_maleteros_1['marca'].isnull()].index,inplace=True)"
   ]
  },
  {
   "cell_type": "code",
   "execution_count": 47,
   "metadata": {
    "collapsed": true
   },
   "outputs": [],
   "source": [
    "df_maleteros_2 = pd.merge(df_maleteros_1,maleteros2,how='outer')"
   ]
  },
  {
   "cell_type": "code",
   "execution_count": 48,
   "metadata": {
    "collapsed": false
   },
   "outputs": [],
   "source": [
    "def suma_maleteros(row):\n",
    "    if(np.isnan(row['maletero2'])):\n",
    "       return row['maletero_2']       \n",
    "    else:\n",
    "       return row['maletero2']\n",
    "       \n"
   ]
  },
  {
   "cell_type": "code",
   "execution_count": 49,
   "metadata": {
    "collapsed": false
   },
   "outputs": [],
   "source": [
    "df_maleteros_2['maletero'] = df_maleteros_2.apply(suma_maleteros, axis=1)\n",
    "df_maleteros_2.drop(['maletero2','maletero_2'], axis=1, inplace=True)\n",
    "df_maleteros_2['maletero'] = df_maleteros_2['maletero'].astype(float)"
   ]
  },
  {
   "cell_type": "markdown",
   "metadata": {},
   "source": [
    "### Creamos la variable tipo de marca, para identificar marcas generalistas, premiums y gran lujo "
   ]
  },
  {
   "cell_type": "code",
   "execution_count": 50,
   "metadata": {
    "collapsed": true
   },
   "outputs": [],
   "source": [
    "df2 = df_maleteros_2"
   ]
  },
  {
   "cell_type": "code",
   "execution_count": 51,
   "metadata": {
    "collapsed": true
   },
   "outputs": [],
   "source": [
    "marcas = ['ABARTH', 'FIAT', 'AUDI', 'BMW', 'CITROEN', 'DACIA', 'DS', 'FORD',\n",
    "       'HONDA', 'HYUNDAI', 'INFINITI', 'JAGUAR', 'JEEP', 'KIA', 'LEXUS',\n",
    "       'MASERATI', 'MAZDA', 'MERCEDES', 'MINI', 'MITSUBISHI', 'NISSAN',\n",
    "       'OPEL', 'PEUGEOT', 'PORSCHE', 'RENAULT', 'SEAT', 'SKODA', 'SMART',\n",
    "       'SSANGYONG', 'SUBARU', 'SUZUKI', 'TESLA', 'TOYOTA', 'VOLKSWAGEN',\n",
    "       'VOLVO']"
   ]
  },
  {
   "cell_type": "code",
   "execution_count": 52,
   "metadata": {
    "collapsed": true
   },
   "outputs": [],
   "source": [
    "tipos_marca = [0,0,2,2,0,0,0,0,0,0,2,2,0,0,2,3,0,2,2,0,0,0,0,3,0,0,0,0,0,0,0,3,0,0,2]"
   ]
  },
  {
   "cell_type": "code",
   "execution_count": 53,
   "metadata": {
    "collapsed": true
   },
   "outputs": [],
   "source": [
    "marcas_type = pd.DataFrame({'marca':marcas,'tipo_marca':tipos_marca})"
   ]
  },
  {
   "cell_type": "code",
   "execution_count": 54,
   "metadata": {
    "collapsed": true
   },
   "outputs": [],
   "source": [
    "df_marcas = pd.merge(df2,marcas_type,how='outer')"
   ]
  },
  {
   "cell_type": "markdown",
   "metadata": {},
   "source": [
    "### Creamos la variable segmento. Indica el segmento comercial al que pertenece el vehículo "
   ]
  },
  {
   "cell_type": "code",
   "execution_count": 55,
   "metadata": {
    "collapsed": true
   },
   "outputs": [],
   "source": [
    "df3 = df_marcas"
   ]
  },
  {
   "cell_type": "code",
   "execution_count": 56,
   "metadata": {
    "collapsed": false,
    "scrolled": true
   },
   "outputs": [],
   "source": [
    "segmentos = pd.read_csv('segmentos.csv',sep=';')\n",
    "segmentos['modelo'] = segmentos['Modelo']\n",
    "segmentos['segmento1'] = segmentos['Segmento']\n",
    "segmentos.drop(['Marca','Segmento','Modelo'], axis=1,inplace=True)"
   ]
  },
  {
   "cell_type": "code",
   "execution_count": 57,
   "metadata": {
    "collapsed": false
   },
   "outputs": [],
   "source": [
    "mod = ['595', '500L', '500X', 'PUNTO', 'A4 ALLROAD', 'A6 ALLROAD', 'I3',\n",
    "       'I8', 'C-ELYS\\xc3\\xa9E', 'C3 AIRCROSS', 'DS4 CROSSBACK', 'C-MAX',\n",
    "       'CR-V', 'HR-V', 'I10', 'I20', 'I20 ACTIVE', 'I30', 'I40', 'IX20',\n",
    "       'Q60', 'E-PACE', 'F-TYPE CONVERTIBLE', 'LC', 'GRANTURISMO',\n",
    "       'MAZDA2', 'MAZDA3', 'MAZDA6', 'AMG GT', 'COUNTRYMAN', 'I-MIEV',\n",
    "       '370Z', 'CROSSLAND X', 'GRANDLAND X', 'INSIGNIA COUNTRY TOURER',\n",
    "       '508 RXH', 'ION', 'KOLEOS', 'M\\xc3\\xa9GANE', 'SC\\xc3\\xa9NIC',\n",
    "       'TWIZY', 'LE\\xc3\\xb3N', 'LE\\xc3\\xb3N X-PERIENCE', 'MII', 'KODIAQ',\n",
    "       'SCOUT', 'BRZ', 'WRX STI', 'IGNIS', 'GT86', 'LAND CRUISER',\n",
    "       'ARTEON', 'GOLF ALLTRACK', 'PASSAT ALLTRACK', 'UP',\n",
    "       'V90 CROSS COUNTRY', 'XC60', 'XC90']\n",
    "\n",
    "seg = ['Superutilitario', 'Monovolumen polivalente', 'TTE Pequeño', 'Utilitario/Polivalente', 'Familiar', 'Familiar', 'Monovolumen polivalente',\n",
    "       'Deportivo alto', 'Berlina', 'Monovolumen polivalente', 'Compacto', 'Monovolumen compacto',\n",
    "       'TTE Familiar', 'TTE Compacto', 'Superutilitario', 'Utilitario/Polivalente', 'Utilitario/Polivalente', 'Compacto', 'Familiar', 'Monovolumen polivalente',\n",
    "       'Deportivo alto', 'TTE Compacto', 'Deportivo alto', 'Deportivo alto', 'Gran lujo',\n",
    "       'Utilitario/Polivalente', 'Compacto', 'Berlina', 'Deportivo alto', 'TTE Peque\\xc3\\xb1o', 'Superutilitario',\n",
    "       'Deportivo bajo', 'TTE Pequeño', 'TTE Compacto', 'Familiar',\n",
    "       'Familiar', 'Superutilitario', 'TTE Familiar', 'Compacto', 'Monovolumen familiar',\n",
    "       'Superutilitario', 'Compacto', 'Familiar', 'Superutilitario', 'TTE Familiar',\n",
    "       'Familiar', 'Deportivo bajo', 'Compacto', 'Superutilitario', 'Deportivo bajo', 'TTE Superior',\n",
    "       'Berlina', 'Familiar', 'Familiar', 'Superutilitario',\n",
    "       'Familiar', 'TTE Familiar', 'TTE Superior']\n",
    "\n",
    "segmentos2 = pd.DataFrame({'modelo':mod, 'segmento2':seg})"
   ]
  },
  {
   "cell_type": "code",
   "execution_count": 58,
   "metadata": {
    "collapsed": false
   },
   "outputs": [],
   "source": [
    "df_segmentos = pd.merge(df3,segmentos,how='outer')\n",
    "df_segmentos.drop(df_segmentos[df_segmentos['marca'].isnull()].index,inplace=True)"
   ]
  },
  {
   "cell_type": "code",
   "execution_count": 59,
   "metadata": {
    "collapsed": true
   },
   "outputs": [],
   "source": [
    "df_segmentos_2 = pd.merge(df_segmentos,segmentos2,how='outer')\n",
    "df_segmentos_2.drop(df_segmentos_2[df_segmentos_2['marca'].isnull()].index,inplace=True)"
   ]
  },
  {
   "cell_type": "code",
   "execution_count": 60,
   "metadata": {
    "collapsed": false,
    "scrolled": true
   },
   "outputs": [],
   "source": [
    "df_segmentos_2['segmento'] = df_segmentos_2.segmento1.combine_first(df_segmentos_2.segmento2)\n",
    "df_segmentos_2.drop(['segmento1','segmento2'],axis=1,inplace=True)"
   ]
  },
  {
   "cell_type": "markdown",
   "metadata": {},
   "source": [
    "### Eliminamos vehículos especiales como el Renault Twizy "
   ]
  },
  {
   "cell_type": "code",
   "execution_count": 61,
   "metadata": {
    "collapsed": false
   },
   "outputs": [],
   "source": [
    "df4 = df_segmentos_2"
   ]
  },
  {
   "cell_type": "code",
   "execution_count": 62,
   "metadata": {
    "collapsed": false
   },
   "outputs": [],
   "source": [
    "row_twizy = df4[df4.cv==17].index\n",
    "df4.drop(row_twizy, inplace=True)"
   ]
  },
  {
   "cell_type": "code",
   "execution_count": 63,
   "metadata": {
    "collapsed": true
   },
   "outputs": [],
   "source": [
    "def longitud(carroceria):\n",
    "    return carroceria[:4]"
   ]
  },
  {
   "cell_type": "code",
   "execution_count": 64,
   "metadata": {
    "collapsed": false
   },
   "outputs": [],
   "source": [
    "df4['longitud'] = df4['carroceria'].apply(longitud)\n",
    "df4.drop('carroceria',axis=1,inplace=True)\n",
    "df4['longitud'] = df4['longitud'].astype(float)\n",
    "df4['Segmento'] = df4['segmento'].astype('category')\n",
    "df4['marca'] = df4['marca'].astype('category')"
   ]
  },
  {
   "cell_type": "markdown",
   "metadata": {},
   "source": [
    "### Agrupamos tipos de tracción: ['trasera', 'delantera', 'total'] "
   ]
  },
  {
   "cell_type": "code",
   "execution_count": 65,
   "metadata": {
    "collapsed": false
   },
   "outputs": [],
   "source": [
    "tracciones_totales = ['Todo terreno tracción total permanente', 'total permanente', 'Todo terreno tracción total conectable', 'total conectable']\n",
    "\n",
    "def traccion(row):\n",
    "    if(str.strip(row['traccion']) in tracciones_totales):\n",
    "        return 'total'\n",
    "    else:\n",
    "        return row['traccion']\n",
    "    "
   ]
  },
  {
   "cell_type": "code",
   "execution_count": 66,
   "metadata": {
    "collapsed": false,
    "scrolled": true
   },
   "outputs": [
    {
     "data": {
      "text/plain": [
       "array(['trasera', 'delantera', 'total'], dtype=object)"
      ]
     },
     "execution_count": 66,
     "metadata": {},
     "output_type": "execute_result"
    }
   ],
   "source": [
    "df4['tipo_traccion'] = df4.apply(traccion,axis=1)\n",
    "df4['traccion'] = df4['tipo_traccion']\n",
    "df4.drop('tipo_traccion',axis=1,inplace=True)\n",
    "df4['traccion'].unique()"
   ]
  },
  {
   "cell_type": "markdown",
   "metadata": {},
   "source": [
    "## Preparar el Dataframe para el cálculo de distancias "
   ]
  },
  {
   "cell_type": "markdown",
   "metadata": {},
   "source": [
    "#### Eliminamos las columnas categóricas que sirven para identificar al vehículo, pero que no toman parte en el cálculo de distancias sobre ellas "
   ]
  },
  {
   "cell_type": "code",
   "execution_count": 67,
   "metadata": {
    "collapsed": true
   },
   "outputs": [],
   "source": [
    "cols_descriptivas = ['marca','MODELOS']\n",
    "df4.drop(cols_descriptivas, axis=1,inplace=True)\n",
    "df4['cambio'] = df4['cambio'].apply(str.strip)"
   ]
  },
  {
   "cell_type": "markdown",
   "metadata": {},
   "source": [
    "### Agrupamos los tipos de cambio en Automático, automatizado y manual"
   ]
  },
  {
   "cell_type": "code",
   "execution_count": 68,
   "metadata": {
    "collapsed": true
   },
   "outputs": [],
   "source": [
    "cambios_automaticos = ['Automática secuencial', 'Directo. sin caja de cambios', 'Automática continua. secuencial', 'Automática', 'Automática continua']"
   ]
  },
  {
   "cell_type": "code",
   "execution_count": 69,
   "metadata": {
    "collapsed": true
   },
   "outputs": [],
   "source": [
    "def orden_cambios(row):\n",
    "    if row['cambio'] in cambios_automaticos:\n",
    "        return 'automatico'\n",
    "    elif (row['cambio']=='Manual automatizada'):\n",
    "        return row['cambio']\n",
    "    else:\n",
    "        return 'manual'"
   ]
  },
  {
   "cell_type": "code",
   "execution_count": 70,
   "metadata": {
    "collapsed": true
   },
   "outputs": [],
   "source": [
    "df4['cambio_marchas'] = df4.apply(orden_cambios,axis=1)\n",
    "df4.cambio = df4.cambio_marchas\n",
    "df4.drop('cambio_marchas', axis=1,inplace=True)"
   ]
  },
  {
   "cell_type": "markdown",
   "metadata": {},
   "source": [
    "### Codificamos el tipo de tracción Delantera->1; Trasera 0.5; Total->0\n"
   ]
  },
  {
   "cell_type": "code",
   "execution_count": 72,
   "metadata": {
    "collapsed": true
   },
   "outputs": [],
   "source": [
    "def cod_traccion(row):\n",
    "    if(row['traccion'].strip()=='delantera'):\n",
    "        return 0\n",
    "    elif(row['traccion'].strip()=='trasera'):\n",
    "        return 0.5\n",
    "    else:\n",
    "        return 1"
   ]
  },
  {
   "cell_type": "code",
   "execution_count": 73,
   "metadata": {
    "collapsed": false
   },
   "outputs": [],
   "source": [
    "df4['cod_tra'] = df4.apply(cod_traccion,axis=1)\n",
    "df4['traccion'] = df4['cod_tra']\n",
    "df4['traccion'] = df4['traccion'].astype(float)\n",
    "df4.drop('cod_tra',axis=1,inplace=True)"
   ]
  },
  {
   "cell_type": "markdown",
   "metadata": {},
   "source": [
    "### Codificamos combustible:\n",
    "\n",
    "#### Vamos a codificar los tipos de combustible (realmente, energía) con las que trabaja el veícuhlo. Tratamos de ordenar por limpieza medioambiental, comenzando por eléctricos puros hasta llegar a los vehículos diésel."
   ]
  },
  {
   "cell_type": "code",
   "execution_count": 74,
   "metadata": {
    "collapsed": true
   },
   "outputs": [],
   "source": [
    "hibridos = ['Diesel y corriente eléctrica', 'Gasolina y corriente eléctrica']\n",
    "\n",
    "def cod_comb(row):\n",
    "    if(row['combustible']=='Corriente eléctrica'):\n",
    "        return 0\n",
    "    elif(row['combustible'] in hibridos):\n",
    "        return 0.1\n",
    "    elif(row['combustible']=='Gasolina/gas'):\n",
    "        return 0.25\n",
    "    elif(row['combustible']=='Gasolina'):\n",
    "        return 0.85\n",
    "    else:\n",
    "        return 1"
   ]
  },
  {
   "cell_type": "code",
   "execution_count": 75,
   "metadata": {
    "collapsed": true
   },
   "outputs": [],
   "source": [
    "df4.combustible = df4.combustible.apply(str.strip)\n",
    "df4['cod_comb'] = df4.apply(cod_comb,axis=1)\n",
    "df4['combustible'] = df4['cod_comb']\n",
    "df4.drop('cod_comb',axis=1,inplace=True)"
   ]
  },
  {
   "cell_type": "markdown",
   "metadata": {},
   "source": [
    "### Codificamos el cambio de marchas "
   ]
  },
  {
   "cell_type": "code",
   "execution_count": 76,
   "metadata": {
    "collapsed": true
   },
   "outputs": [],
   "source": [
    "def cod_cambio(row):\n",
    "    if(row['cambio']=='manual'):\n",
    "        return 0\n",
    "    elif(row['cambio']=='Manual automatizada'):\n",
    "        return 0.9\n",
    "    else:\n",
    "        return 1"
   ]
  },
  {
   "cell_type": "code",
   "execution_count": 77,
   "metadata": {
    "collapsed": true
   },
   "outputs": [],
   "source": [
    "df4['cod_camb'] = df4.apply(cod_cambio,axis=1)\n",
    "df4['cambio'] = df4['cod_camb']\n",
    "df4.drop('cod_camb',axis=1,inplace=True)"
   ]
  },
  {
   "cell_type": "markdown",
   "metadata": {},
   "source": [
    "### Codificamos el segmento al que pertenece el vehículo, aunque en el futuro quizás sólo tome parte para filtrar los requisitos del usuario. "
   ]
  },
  {
   "cell_type": "code",
   "execution_count": 78,
   "metadata": {
    "collapsed": true
   },
   "outputs": [],
   "source": [
    "def cod_seg(row):\n",
    "    if(row['Segmento']=='Superutilitario'):\n",
    "        return 0\n",
    "    elif(row['Segmento']=='Utilitario/Polivalente'):\n",
    "        return 4\n",
    "    elif(row['Segmento']=='Compacto'):\n",
    "        return 10\n",
    "    elif(row['Segmento']=='TTE Pequeño'):\n",
    "        return 12\n",
    "    elif(row['Segmento']=='TTE Compacto'):\n",
    "        return 15\n",
    "    elif(row['Segmento']=='Berlina'):\n",
    "        return 25\n",
    "    elif(row['Segmento']=='Familiar'):\n",
    "        return 30\n",
    "    elif(row['Segmento']=='Monovolumen polivalente'):\n",
    "        return 40\n",
    "    elif(row['Segmento']=='Monovolumen compacto'):\n",
    "        return 43\n",
    "    elif(row['Segmento']=='Monovolumen familiar'):\n",
    "        return 45\n",
    "    elif(row['Segmento']=='TTE Familiar'):\n",
    "        return 60\n",
    "    elif(row['Segmento']=='TTE Superior'):\n",
    "        return 65\n",
    "    elif(row['Segmento']=='Gran lujo'):\n",
    "        return 85\n",
    "    elif(row['Segmento']=='Deportivo alto'):\n",
    "        return 95\n",
    "    elif(row['Segmento']=='Deportivo bajo'):\n",
    "        return 100"
   ]
  },
  {
   "cell_type": "code",
   "execution_count": 79,
   "metadata": {
    "collapsed": false
   },
   "outputs": [],
   "source": [
    "df4['cod_seg'] = df4.apply(cod_seg,axis=1)\n",
    "df4['Segmento'] = df4['cod_seg']\n",
    "df4.drop('cod_seg',axis=1,inplace=True)"
   ]
  },
  {
   "cell_type": "markdown",
   "metadata": {},
   "source": [
    "#### Cambiamos el formato de las autonomías -> eliminamos los puntos que delimitan los millares"
   ]
  },
  {
   "cell_type": "code",
   "execution_count": 80,
   "metadata": {
    "collapsed": true
   },
   "outputs": [],
   "source": [
    "def cifras(item):\n",
    "    if(item[1]=='.'):\n",
    "        return (item[0]+item[2:]).strip()\n",
    "    else:\n",
    "        return item.strip()"
   ]
  },
  {
   "cell_type": "code",
   "execution_count": 81,
   "metadata": {
    "collapsed": true
   },
   "outputs": [],
   "source": [
    "df4['autonomia2'] = df4['autonomia'].apply(cifras)\n",
    "df4['autonomia'] = df4['autonomia2']\n",
    "df4.drop('autonomia2',axis=1, inplace=True)"
   ]
  },
  {
   "cell_type": "markdown",
   "metadata": {},
   "source": [
    "#### Seteamos a tipo float las variables que falten, para su normalización "
   ]
  },
  {
   "cell_type": "code",
   "execution_count": 82,
   "metadata": {
    "collapsed": false,
    "scrolled": true
   },
   "outputs": [],
   "source": [
    "df4['Segmento'] = df4['Segmento'].astype(float)\n",
    "df4['puertas'] = df4['puertas'].astype(float)\n",
    "df4['autonomia'] = df4['autonomia'].astype(float)\n"
   ]
  },
  {
   "cell_type": "code",
   "execution_count": 83,
   "metadata": {
    "collapsed": false
   },
   "outputs": [],
   "source": [
    "df4 = df4.drop_duplicates()\n",
    "df4 = df4.dropna()"
   ]
  },
  {
   "cell_type": "markdown",
   "metadata": {},
   "source": [
    "#### Sacamos las columnas identificativas de los vehículos ya que no van a ser normalizadas y utilizadas en el cálculo de distancias. ."
   ]
  },
  {
   "cell_type": "code",
   "execution_count": 84,
   "metadata": {
    "collapsed": false
   },
   "outputs": [],
   "source": [
    "datos_sin_normalizar = df4.drop(['modelo','version','segmento'],axis=1)\n"
   ]
  },
  {
   "cell_type": "markdown",
   "metadata": {},
   "source": [
    "### Función que normaliza los datos conforme al mínimo. "
   ]
  },
  {
   "cell_type": "code",
   "execution_count": 85,
   "metadata": {
    "collapsed": false
   },
   "outputs": [],
   "source": [
    "def normalize(df):\n",
    "    result = df.copy()\n",
    "    for feature_name in df.columns:\n",
    "        max_value = df[feature_name].max()\n",
    "        min_value = df[feature_name].min()\n",
    "        result[feature_name] = (df[feature_name] - min_value) / (max_value - min_value)\n",
    "    return result   "
   ]
  },
  {
   "cell_type": "code",
   "execution_count": 86,
   "metadata": {
    "collapsed": false
   },
   "outputs": [],
   "source": [
    "normalizada = normalize(datos_sin_normalizar)"
   ]
  },
  {
   "cell_type": "markdown",
   "metadata": {},
   "source": [
    "# Calcular distancias euclídeas"
   ]
  },
  {
   "cell_type": "code",
   "execution_count": 87,
   "metadata": {
    "collapsed": true
   },
   "outputs": [],
   "source": [
    "from scipy.spatial import distance"
   ]
  },
  {
   "cell_type": "code",
   "execution_count": 88,
   "metadata": {
    "collapsed": true
   },
   "outputs": [],
   "source": [
    "array_norm = normalizada.values\n",
    "df_listado = df4[['modelo','version','precio','segmento']]"
   ]
  },
  {
   "cell_type": "code",
   "execution_count": 89,
   "metadata": {
    "collapsed": false
   },
   "outputs": [],
   "source": [
    "def recomienda_50(index):\n",
    "\n",
    "    recorrido = range(len(normalizada))\n",
    "    distancias = []\n",
    "\n",
    "    for i in recorrido:\n",
    "        distancias.append(distance.euclidean(array_norm[index], array_norm[i]))\n",
    "        \n",
    "    df_dist = pd.DataFrame({'dist':distancias, 'ind':recorrido})\n",
    "    \n",
    "    return df_dist.sort_values('dist', ascending=True).head(50).index"
   ]
  },
  {
   "cell_type": "code",
   "execution_count": 90,
   "metadata": {
    "collapsed": false
   },
   "outputs": [],
   "source": [
    "df_listado.to_csv('listado.csv',encoding='utf-8')\n",
    "normalizada.to_csv('normalizado.csv',encoding='utf-8')"
   ]
  },
  {
   "cell_type": "code",
   "execution_count": null,
   "metadata": {
    "collapsed": true
   },
   "outputs": [],
   "source": []
  },
  {
   "cell_type": "code",
   "execution_count": null,
   "metadata": {
    "collapsed": true
   },
   "outputs": [],
   "source": []
  }
 ],
 "metadata": {
  "kernelspec": {
   "display_name": "Python 2",
   "language": "python",
   "name": "python2"
  },
  "language_info": {
   "codemirror_mode": {
    "name": "ipython",
    "version": 2
   },
   "file_extension": ".py",
   "mimetype": "text/x-python",
   "name": "python",
   "nbconvert_exporter": "python",
   "pygments_lexer": "ipython2",
   "version": "2.7.13"
  }
 },
 "nbformat": 4,
 "nbformat_minor": 2
}
